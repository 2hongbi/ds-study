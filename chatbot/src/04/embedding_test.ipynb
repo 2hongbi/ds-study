{
 "cells": [
  {
   "cell_type": "code",
   "execution_count": 5,
   "metadata": {
    "collapsed": true
   },
   "outputs": [
    {
     "name": "stdout",
     "output_type": "stream",
     "text": [
      "['자연어', '처리']\n",
      "{'자연어': 0, '처리': 1}\n",
      "[[1. 0.]\n",
      " [0. 1.]]\n"
     ]
    }
   ],
   "source": [
    "# 원-핫 인코딩\n",
    "from konlpy.tag import Komoran\n",
    "import numpy as np\n",
    "\n",
    "komoran = Komoran()\n",
    "text = '나는 자연어 처리를 배운다'\n",
    "\n",
    "# 명사만 추출하기\n",
    "nouns = komoran.nouns(text)\n",
    "print(nouns)\n",
    "\n",
    "# 단어 사전 생성 및 인덱스 부여\n",
    "dics = {}\n",
    "for word in nouns:\n",
    "    if word not in dics.keys():\n",
    "        dics[word] = len(dics)\n",
    "print(dics)\n",
    "\n",
    "# 원-핫 인코딩\n",
    "# 원-핫 벡터 차원의 크기 결정 > 단어 사전의 크기가 원-핫 벡터의 크기가 되기 떄문\n",
    "targets = list(dics.values())\n",
    "one_hot_targets = np.eye(len(dics))[targets]\n",
    "print(one_hot_targets)"
   ]
  },
  {
   "cell_type": "code",
   "execution_count": 10,
   "outputs": [
    {
     "name": "stdout",
     "output_type": "stream",
     "text": [
      "['나', '자연어', '처리']\n",
      "{'나': 0, '자연어': 1, '처리': 2}\n",
      "[[1. 0. 0.]\n",
      " [0. 1. 0.]\n",
      " [0. 0. 1.]]\n"
     ]
    }
   ],
   "source": [
    "from konlpy.tag import Okt\n",
    "import numpy as np\n",
    "\n",
    "okt = Okt()\n",
    "text = '나는 자연어 처리를 배운다'\n",
    "\n",
    "nouns = okt.nouns(text)\n",
    "print(nouns)\n",
    "\n",
    "# 단어 사전 생성 및 인덱스 부여\n",
    "dics = {}\n",
    "for word in nouns:\n",
    "    if word not in dics.keys():\n",
    "        dics[word] = len(dics)\n",
    "print(dics)\n",
    "\n",
    "# 원-핫 인코딩\n",
    "# 원-핫 벡터 차원의 크기 결정 > 단어 사전의 크기가 원-핫 벡터의 크기가 되기 떄문\n",
    "targets = list(dics.values())\n",
    "one_hot_targets = np.eye(len(dics))[targets]\n",
    "print(one_hot_targets)"
   ],
   "metadata": {
    "collapsed": false,
    "pycharm": {
     "name": "#%%\n"
    }
   }
  },
  {
   "cell_type": "code",
   "execution_count": null,
   "outputs": [],
   "source": [],
   "metadata": {
    "collapsed": false,
    "pycharm": {
     "name": "#%%\n"
    }
   }
  }
 ],
 "metadata": {
  "kernelspec": {
   "display_name": "Python 3",
   "language": "python",
   "name": "python3"
  },
  "language_info": {
   "codemirror_mode": {
    "name": "ipython",
    "version": 2
   },
   "file_extension": ".py",
   "mimetype": "text/x-python",
   "name": "python",
   "nbconvert_exporter": "python",
   "pygments_lexer": "ipython2",
   "version": "2.7.6"
  }
 },
 "nbformat": 4,
 "nbformat_minor": 0
}