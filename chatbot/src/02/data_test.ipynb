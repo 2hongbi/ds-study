{
 "cells": [
  {
   "cell_type": "code",
   "execution_count": 2,
   "metadata": {
    "collapsed": true,
    "pycharm": {
     "name": "#%%\n"
    }
   },
   "outputs": [
    {
     "name": "stdout",
     "output_type": "stream",
     "text": [
      "[1 2 3]\n",
      "<class 'numpy.ndarray'>\n"
     ]
    }
   ],
   "source": [
    "import numpy as np\n",
    "\n",
    "# 딥러닝에서도 행렬을 이용해 벡터 연산을 하기 떄문에 넘파이가 필수로 사용됨\n",
    "\n",
    "arr = np.array([1, 2, 3])\n",
    "print(arr)\n",
    "print(type(arr))"
   ]
  },
  {
   "cell_type": "code",
   "execution_count": 3,
   "outputs": [
    {
     "name": "stdout",
     "output_type": "stream",
     "text": [
      "[[1 2 3]\n",
      " [4 5 6]]\n"
     ]
    }
   ],
   "source": [
    "matrix = np.array([[1, 2, 3], [4, 5, 6]])\n",
    "print(matrix)"
   ],
   "metadata": {
    "collapsed": false,
    "pycharm": {
     "name": "#%%\n"
    }
   }
  },
  {
   "cell_type": "code",
   "execution_count": 6,
   "outputs": [
    {
     "name": "stdout",
     "output_type": "stream",
     "text": [
      "[[2 3]\n",
      " [4 5]]\n"
     ]
    }
   ],
   "source": [
    "A = np.array([[1, 2], [3, 4]])\n",
    "B = np.array([[1, 1], [1, 1]])\n",
    "C = A + B\n",
    "\n",
    "print(C)"
   ],
   "metadata": {
    "collapsed": false,
    "pycharm": {
     "name": "#%%\n"
    }
   }
  },
  {
   "cell_type": "code",
   "execution_count": 7,
   "outputs": [
    {
     "name": "stdout",
     "output_type": "stream",
     "text": [
      "[[ 6  9]\n",
      " [14 21]\n",
      " [22 33]]\n"
     ]
    }
   ],
   "source": [
    "A = np.array([[1, 2], [3, 4], [5, 6]])\n",
    "B = np.array([[2, 3], [2, 3]])\n",
    "C = np.matmul(A, B)  # 행렬 곱셈 A * B\n",
    "print(C)"
   ],
   "metadata": {
    "collapsed": false,
    "pycharm": {
     "name": "#%%\n"
    }
   }
  },
  {
   "cell_type": "code",
   "execution_count": 8,
   "outputs": [
    {
     "name": "stdout",
     "output_type": "stream",
     "text": [
      "[[10 20]\n",
      " [30 40]]\n"
     ]
    }
   ],
   "source": [
    "# 스칼라곱\n",
    "A = np.array([[1, 2], [3, 4]])\n",
    "k = 10\n",
    "C = k * A\n",
    "print(C)"
   ],
   "metadata": {
    "collapsed": false,
    "pycharm": {
     "name": "#%%\n"
    }
   }
  },
  {
   "cell_type": "markdown",
   "source": [
    "## pandas 사용\n",
    "\n",
    "팬더스의 시리즈는 시리즈, 데이터프레임, 패널 등 세 가지 데이터 구조를 가지고 있음\n",
    "시리즈는 1차원 데이터로, 각 데이터값과 대응하는 인덱스를 지정할 수 있음\n",
    "인덱스를 생략할 경우, 인덱스 번호가 자동으로 할당됨."
   ],
   "metadata": {
    "collapsed": false
   }
  },
  {
   "cell_type": "code",
   "execution_count": 9,
   "outputs": [
    {
     "name": "stdout",
     "output_type": "stream",
     "text": [
      "0    100\n",
      "1    200\n",
      "2    300\n",
      "dtype: int64\n",
      "국어    90\n",
      "수학    80\n",
      "영어    89\n",
      "dtype: int64\n",
      "[90 80 89]\n",
      "수학 80\n"
     ]
    }
   ],
   "source": [
    "import pandas as pd\n",
    "\n",
    "# 인덱스를 생략한 시리즈 객체\n",
    "numbers = pd.Series([100, 200, 300])\n",
    "\n",
    "# 시리즈 객체 출력\n",
    "print(numbers)\n",
    "\n",
    "# 인덱스를 저장한 시리즈 객체\n",
    "scores = pd.Series([90, 80, 89], index=['국어', '수학', '영어'])\n",
    "\n",
    "# 시리즈 객체 출력\n",
    "print(scores)\n",
    "\n",
    "# 시리즈 객체의 데이터값 출력\n",
    "print(scores.values)\n",
    "\n",
    "# 원하느 위치의 인덱스, 데이터값 출력\n",
    "print(scores.index[1], scores.values[1])"
   ],
   "metadata": {
    "collapsed": false,
    "pycharm": {
     "name": "#%%\n"
    }
   }
  },
  {
   "cell_type": "markdown",
   "source": [
    "### dataframe : 2차원 데이터\n",
    "\n",
    "- 행 방향 인덱스와 열 방향 인덱스로 구성됨\n",
    "- 시리즈가 인덱스와 데이터값으로 구성된 1차원 자료구조라면, 데이터프레임은 행과 열 방향 인덱스와 데이터값으로 구성된 2차원 자료구조\n",
    "- 실제로 딥러닝 모델의 학습 데이터는 2차원 구조로 구성됨 > 데이터프레임을 많이 사용"
   ],
   "metadata": {
    "collapsed": false
   }
  },
  {
   "cell_type": "code",
   "execution_count": 10,
   "outputs": [
    {
     "name": "stdout",
     "output_type": "stream",
     "text": [
      "       Spring  Summer  Fall  Winter\n",
      "Seoul     3.3    34.5  14.2     -10\n",
      "Pusan     7.1    32.1  10.7       2\n",
      "==================================================\n",
      "Index(['Seoul', 'Pusan'], dtype='object')\n",
      "Index(['Spring', 'Summer', 'Fall', 'Winter'], dtype='object')\n",
      "[[  3.3  34.5  14.2 -10. ]\n",
      " [  7.1  32.1  10.7   2. ]]\n",
      "==================================================\n",
      "3.3\n",
      "==================================================\n",
      "       Spring  Summer  Fall  Winter\n",
      "Seoul     3.3    34.5  14.2     -10\n",
      "Pusan     7.1    32.1  10.7       2\n",
      "==================================================\n",
      "       Spring  Summer  Fall  Winter\n",
      "Pusan     7.1    32.1  10.7       2\n"
     ]
    }
   ],
   "source": [
    "# DataFrame 객체 사용\n",
    "\n",
    "# 계절별 서울/부산 지역 온도 데이터 정의\n",
    "temperatures = [[3.3, 34.5, 14.2, -10], [7.1, 32.1, 10.7, 2]]\n",
    "seasons = ['Spring', 'Summer', 'Fall', 'Winter']\n",
    "regions = ['Seoul', 'Pusan']\n",
    "\n",
    "# 데이터프레임 객체 생성\n",
    "data = pd.DataFrame(temperatures, index=regions, columns=seasons)\n",
    "\n",
    "# 데이터프레임 객체의 데이터 출력\n",
    "print(data)\n",
    "print('=' * 50)\n",
    "print(data.index)\n",
    "print(data.columns)\n",
    "print(data.values)\n",
    "print('=' * 50)\n",
    "\n",
    "# 서울의 봄 온도 데이터 출력\n",
    "print(data['Spring']['Seoul'])\n",
    "print('=' * 50)\n",
    "\n",
    "# 앞부분에서 2번째 행까지 조회\n",
    "print(data.head(2))\n",
    "print('=' * 50)\n",
    "\n",
    "# 뒷부분에서 1번째 행까지 조회\n",
    "print(data.tail(1))"
   ],
   "metadata": {
    "collapsed": false,
    "pycharm": {
     "name": "#%%\n"
    }
   }
  },
  {
   "cell_type": "code",
   "execution_count": 12,
   "outputs": [
    {
     "name": "stdout",
     "output_type": "stream",
     "text": [
      "     이름  나이       전화번호\n",
      "0   Kei  35  1234-1234\n",
      "1  Hong  26  4320-1420\n",
      "2   Kim  41  1234-5678\n",
      "3  Choi  38  4023-3411\n",
      "4    Go  27  1469-4023\n"
     ]
    }
   ],
   "source": [
    "# 엑셀 파일 읽기\n",
    "\n",
    "user_list = pd.read_excel('./../../data/sample.xlsx', sheet_name='Sheet1')\n",
    "print(user_list)"
   ],
   "metadata": {
    "collapsed": false,
    "pycharm": {
     "name": "#%%\n"
    }
   }
  },
  {
   "cell_type": "markdown",
   "source": [
    "## Matplotlib\n",
    "\n",
    "- 데이터를 플롯이나 차트로 시각화할 수 있도록 도와주는 도구"
   ],
   "metadata": {
    "collapsed": false
   }
  },
  {
   "cell_type": "code",
   "execution_count": 13,
   "outputs": [
    {
     "name": "stdout",
     "output_type": "stream",
     "text": [
      "x축 :  [0, 1, 2, 3, 4, 5, 6, 7, 8, 9, 10]\n",
      "y축 :  [0, 1, 2, 3, 4, 5, 6, 7, 8, 9, 10]\n"
     ]
    },
    {
     "data": {
      "text/plain": "<Figure size 432x288 with 1 Axes>",
      "image/png": "[encoded data removed]"
     },
     "metadata": {
      "needs_background": "light"
     },
     "output_type": "display_data"
    }
   ],
   "source": [
    "import matplotlib.pyplot as plt\n",
    "\n",
    "# x축, y축 데이터 정의\n",
    "x = [a for a in range(0, 11)]\n",
    "y = list(range(0, 11))\n",
    "\n",
    "print('x축 : ', x)\n",
    "print('y축 : ', y)\n",
    "\n",
    "# 그래프 출력\n",
    "plt.plot(x, y)\n",
    "plt.show()"
   ],
   "metadata": {
    "collapsed": false,
    "pycharm": {
     "name": "#%%\n"
    }
   }
  },
  {
   "cell_type": "code",
   "execution_count": 14,
   "outputs": [
    {
     "name": "stdout",
     "output_type": "stream",
     "text": [
      "x축 : [-10, -9, -8, -7, -6, -5, -4, -3, -2, -1, 0, 1, 2, 3, 4, 5, 6, 7, 8, 9]\n",
      "y축 : [100, 81, 64, 49, 36, 25, 16, 9, 4, 1, 0, 1, 4, 9, 16, 25, 36, 49, 64, 81]\n"
     ]
    },
    {
     "data": {
      "text/plain": "<Figure size 432x288 with 1 Axes>",
      "image/png": "[encoded data removed]"
     },
     "metadata": {
      "needs_background": "light"
     },
     "output_type": "display_data"
    }
   ],
   "source": [
    "# 2차 함수 그래프\n",
    "\n",
    "# f(x) = x^2\n",
    "f = lambda x: x**2\n",
    "\n",
    "# x, y축 데이터 정의\n",
    "x = [x for x in range(-10, 10)]\n",
    "y = [f(y) for y in range(-10, 10)]\n",
    "\n",
    "# x, y축 데이터 출력\n",
    "print('x축 :', x)\n",
    "print('y축 :', y)\n",
    "\n",
    "# 그래프 출력\n",
    "plt.plot(x, y)\n",
    "plt.show()"
   ],
   "metadata": {
    "collapsed": false,
    "pycharm": {
     "name": "#%%\n"
    }
   }
  },
  {
   "cell_type": "code",
   "execution_count": 15,
   "outputs": [
    {
     "data": {
      "text/plain": "<Figure size 432x288 with 1 Axes>",
      "image/png": "[encoded data removed]"
     },
     "metadata": {
      "needs_background": "light"
     },
     "output_type": "display_data"
    }
   ],
   "source": [
    "# 계절별 온도 바차트\n",
    "\n",
    "# 데이터 정의\n",
    "temperatures = [3.3, 34.5, 14.2, -10]\n",
    "x = list(range(4))\n",
    "x_labels = ['Spring', 'Summer', 'Fall', 'Winter']\n",
    "\n",
    "# 바차트 출력\n",
    "plt.title('Bar Chart')\n",
    "plt.bar(x, temperatures)\n",
    "plt.xticks(x, x_labels)     # xticks() : x축 데이터 위치에 지정된 텍스트(Spring, Summer, Fall, Winter)를 표시\n",
    "plt.yticks(sorted(temperatures))\n",
    "plt.xlabel('season')\n",
    "plt.ylabel('temperature')\n",
    "plt.show()"
   ],
   "metadata": {
    "collapsed": false,
    "pycharm": {
     "name": "#%%\n"
    }
   }
  }
 ],
 "metadata": {
  "kernelspec": {
   "display_name": "Python 3",
   "language": "python",
   "name": "python3"
  },
  "language_info": {
   "codemirror_mode": {
    "name": "ipython",
    "version": 2
   },
   "file_extension": ".py",
   "mimetype": "text/x-python",
   "name": "python",
   "nbconvert_exporter": "python",
   "pygments_lexer": "ipython2",
   "version": "2.7.6"
  }
 },
 "nbformat": 4,
 "nbformat_minor": 0
}