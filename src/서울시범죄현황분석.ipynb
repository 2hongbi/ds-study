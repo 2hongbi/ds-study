{
 "cells": [
  {
   "cell_type": "markdown",
   "source": [
    "## 2장. 서울시 범죄 현황 분석"
   ],
   "metadata": {
    "collapsed": false
   }
  },
  {
   "cell_type": "markdown",
   "source": [
    "* data.go.kr에서 다운 받음\n",
    "* 서울특별시 관서별 5대 범죄 현황"
   ],
   "metadata": {
    "collapsed": false
   }
  },
  {
   "cell_type": "code",
   "execution_count": 23,
   "metadata": {
    "collapsed": true
   },
   "outputs": [],
   "source": [
    "import numpy as np\n",
    "import pandas as pd"
   ]
  },
  {
   "cell_type": "code",
   "execution_count": 2,
   "outputs": [
    {
     "data": {
      "text/plain": "    관서명  살인 발생  살인 검거  강도 발생  강도 검거  강간 발생  강간 검거  절도 발생  절도 검거  폭력 발생  폭력 검거\n0   중부서      2      2      3      2    105     65   1395    477   1355   1170\n1   종로서      3      3      6      5    115     98   1070    413   1278   1070\n2  남대문서      1      0      6      4     65     46   1153    382    869    794\n3  서대문서      2      2      5      4    154    124   1812    738   2056   1711\n4   혜화서      3      2      5      4     96     63   1114    424   1015    861",
      "text/html": "<div>\n<style scoped>\n    .dataframe tbody tr th:only-of-type {\n        vertical-align: middle;\n    }\n\n    .dataframe tbody tr th {\n        vertical-align: top;\n    }\n\n    .dataframe thead th {\n        text-align: right;\n    }\n</style>\n<table border=\"1\" class=\"dataframe\">\n  <thead>\n    <tr style=\"text-align: right;\">\n      <th></th>\n      <th>관서명</th>\n      <th>살인 발생</th>\n      <th>살인 검거</th>\n      <th>강도 발생</th>\n      <th>강도 검거</th>\n      <th>강간 발생</th>\n      <th>강간 검거</th>\n      <th>절도 발생</th>\n      <th>절도 검거</th>\n      <th>폭력 발생</th>\n      <th>폭력 검거</th>\n    </tr>\n  </thead>\n  <tbody>\n    <tr>\n      <th>0</th>\n      <td>중부서</td>\n      <td>2</td>\n      <td>2</td>\n      <td>3</td>\n      <td>2</td>\n      <td>105</td>\n      <td>65</td>\n      <td>1395</td>\n      <td>477</td>\n      <td>1355</td>\n      <td>1170</td>\n    </tr>\n    <tr>\n      <th>1</th>\n      <td>종로서</td>\n      <td>3</td>\n      <td>3</td>\n      <td>6</td>\n      <td>5</td>\n      <td>115</td>\n      <td>98</td>\n      <td>1070</td>\n      <td>413</td>\n      <td>1278</td>\n      <td>1070</td>\n    </tr>\n    <tr>\n      <th>2</th>\n      <td>남대문서</td>\n      <td>1</td>\n      <td>0</td>\n      <td>6</td>\n      <td>4</td>\n      <td>65</td>\n      <td>46</td>\n      <td>1153</td>\n      <td>382</td>\n      <td>869</td>\n      <td>794</td>\n    </tr>\n    <tr>\n      <th>3</th>\n      <td>서대문서</td>\n      <td>2</td>\n      <td>2</td>\n      <td>5</td>\n      <td>4</td>\n      <td>154</td>\n      <td>124</td>\n      <td>1812</td>\n      <td>738</td>\n      <td>2056</td>\n      <td>1711</td>\n    </tr>\n    <tr>\n      <th>4</th>\n      <td>혜화서</td>\n      <td>3</td>\n      <td>2</td>\n      <td>5</td>\n      <td>4</td>\n      <td>96</td>\n      <td>63</td>\n      <td>1114</td>\n      <td>424</td>\n      <td>1015</td>\n      <td>861</td>\n    </tr>\n  </tbody>\n</table>\n</div>"
     },
     "execution_count": 2,
     "metadata": {},
     "output_type": "execute_result"
    }
   ],
   "source": [
    "crime_data = pd.read_csv('./../data/crime_in_seoul.csv', thousands=',')\n",
    "crime_data.head()"
   ],
   "metadata": {
    "collapsed": false,
    "pycharm": {
     "name": "#%%\n"
    }
   }
  },
  {
   "cell_type": "markdown",
   "source": [
    "## 2-4. google maps를 이용해서 주소와 위도, 경도 정보 얻기"
   ],
   "metadata": {
    "collapsed": false
   }
  },
  {
   "cell_type": "code",
   "execution_count": 3,
   "outputs": [],
   "source": [
    "import googlemaps"
   ],
   "metadata": {
    "collapsed": false,
    "pycharm": {
     "name": "#%%\n"
    }
   }
  },
  {
   "cell_type": "code",
   "execution_count": 4,
   "outputs": [],
   "source": [
    "gmaps_key = 'GOOGLE_API_KEY'\n",
    "gmaps = googlemaps.Client(key=gmaps_key)"
   ],
   "metadata": {
    "collapsed": false,
    "pycharm": {
     "name": "#%%\n"
    }
   }
  },
  {
   "cell_type": "code",
   "execution_count": 6,
   "outputs": [
    {
     "data": {
      "text/plain": "[{'address_components': [{'long_name': '２７',\n    'short_name': '２７',\n    'types': ['premise']},\n   {'long_name': '수표로',\n    'short_name': '수표로',\n    'types': ['political', 'sublocality', 'sublocality_level_4']},\n   {'long_name': '을지로동',\n    'short_name': '을지로동',\n    'types': ['political', 'sublocality', 'sublocality_level_2']},\n   {'long_name': '중구',\n    'short_name': '중구',\n    'types': ['political', 'sublocality', 'sublocality_level_1']},\n   {'long_name': '서울특별시',\n    'short_name': '서울특별시',\n    'types': ['administrative_area_level_1', 'political']},\n   {'long_name': '대한민국',\n    'short_name': 'KR',\n    'types': ['country', 'political']},\n   {'long_name': '100-032',\n    'short_name': '100-032',\n    'types': ['postal_code']}],\n  'formatted_address': '대한민국 서울특별시 중구 을지로동 수표로 27',\n  'geometry': {'location': {'lat': 37.5636465, 'lng': 126.9895796},\n   'location_type': 'ROOFTOP',\n   'viewport': {'northeast': {'lat': 37.56499548029149,\n     'lng': 126.9909285802915},\n    'southwest': {'lat': 37.56229751970849, 'lng': 126.9882306197085}}},\n  'place_id': 'ChIJc-9q5uSifDURLhQmr5wkXmc',\n  'plus_code': {'compound_code': 'HX7Q+FR 대한민국 서울특별시',\n   'global_code': '8Q98HX7Q+FR'},\n  'types': ['establishment', 'point_of_interest', 'police']}]"
     },
     "execution_count": 6,
     "metadata": {},
     "output_type": "execute_result"
    }
   ],
   "source": [
    "gmaps.geocode('서울중부경찰서', language='ko')"
   ],
   "metadata": {
    "collapsed": false,
    "pycharm": {
     "name": "#%%\n"
    }
   }
  },
  {
   "cell_type": "code",
   "execution_count": 7,
   "outputs": [
    {
     "data": {
      "text/plain": "['서울중부경찰서',\n '서울종로경찰서',\n '서울남대문경찰서',\n '서울서대문경찰서',\n '서울혜화경찰서',\n '서울용산경찰서',\n '서울성북경찰서',\n '서울동대문경찰서',\n '서울마포경찰서',\n '서울영등포경찰서',\n '서울성동경찰서',\n '서울동작경찰서',\n '서울광진경찰서',\n '서울서부경찰서',\n '서울강북경찰서',\n '서울금천경찰서',\n '서울중랑경찰서',\n '서울강남경찰서',\n '서울관악경찰서',\n '서울강서경찰서',\n '서울강동경찰서',\n '서울종암경찰서',\n '서울구로경찰서',\n '서울서초경찰서',\n '서울양천경찰서',\n '서울송파경찰서',\n '서울노원경찰서',\n '서울방배경찰서',\n '서울은평경찰서',\n '서울도봉경찰서',\n '서울수서경찰서']"
     },
     "execution_count": 7,
     "metadata": {},
     "output_type": "execute_result"
    }
   ],
   "source": [
    "station_name = []\n",
    "\n",
    "for name in crime_data['관서명']:\n",
    "    station_name.append('서울' + str(name[:-1]) + '경찰서')\n",
    "\n",
    "station_name"
   ],
   "metadata": {
    "collapsed": false,
    "pycharm": {
     "name": "#%%\n"
    }
   }
  },
  {
   "cell_type": "code",
   "execution_count": 8,
   "outputs": [
    {
     "name": "stdout",
     "output_type": "stream",
     "text": [
      "서울중부경찰서-->대한민국 서울특별시 중구 을지로동 수표로 27\n",
      "서울종로경찰서-->대한민국 서울특별시 종로구 종로1.2.3.4가동 율곡로 46\n",
      "서울남대문경찰서-->대한민국 서울특별시 중구 한강대로 410\n",
      "서울서대문경찰서-->대한민국 서울특별시 서대문구 충현동 통일로 113\n",
      "서울혜화경찰서-->대한민국 서울특별시 종로구 인의동 창경궁로 112-16\n",
      "서울용산경찰서-->대한민국 서울특별시 용산구 백범로 329\n",
      "서울성북경찰서-->대한민국 서울특별시 성북구 삼선동 보문로 170\n",
      "서울동대문경찰서-->대한민국 서울특별시 동대문구 약령시로21길 29\n",
      "서울마포경찰서-->대한민국 서울특별시 마포구 마포대로 183\n",
      "서울영등포경찰서-->대한민국 서울특별시 영등포구 영등포동1가 618-7\n",
      "서울성동경찰서-->대한민국 서울특별시 성동구 행당동 왕십리광장로 9\n",
      "서울동작경찰서-->대한민국 서울특별시 동작구 노량진로 148\n",
      "서울광진경찰서-->대한민국 서울특별시 광진구 구의동 자양로 167\n",
      "서울서부경찰서-->대한민국 서울특별시 은평구 진흥로 58\n",
      "서울강북경찰서-->대한민국 서울특별시 강북구 오패산로 406\n",
      "서울금천경찰서-->대한민국 서울특별시 금천구 시흥대로73길 50\n",
      "서울중랑경찰서-->대한민국 서울특별시 중랑구 묵동 120\n",
      "서울강남경찰서-->대한민국 서울특별시 강남구 테헤란로114길 11\n",
      "서울관악경찰서-->대한민국 서울특별시 관악구 관악로5길 33\n",
      "서울강서경찰서-->대한민국 서울특별시 강서구 화곡로 308\n",
      "서울강동경찰서-->대한민국 서울특별시 강동구 성내로 57\n",
      "서울종암경찰서-->대한민국 서울특별시 성북구 종암로 135\n",
      "서울구로경찰서-->대한민국 서울특별시 구로구 가마산로 235\n",
      "서울서초경찰서-->대한민국 서울특별시 서초구 서초3동 반포대로 179\n",
      "서울양천경찰서-->대한민국 서울특별시 양천구 목동동로 99\n",
      "서울송파경찰서-->대한민국 서울특별시 송파구 가락동 중대로 221\n",
      "서울노원경찰서-->대한민국 서울특별시 노원구 하계동 노원로 283\n",
      "서울방배경찰서-->대한민국 서울특별시 서초구 동작대로 204\n",
      "서울은평경찰서-->대한민국 서울특별시 은평구 불광동 연서로 365\n",
      "서울도봉경찰서-->대한민국 서울특별시 도봉구 노해로 403\n",
      "서울수서경찰서-->대한민국 서울특별시 강남구 개포로 617\n"
     ]
    }
   ],
   "source": [
    "station_address = []\n",
    "station_lat = []    # latitude\n",
    "station_lng = []    # longitude\n",
    "\n",
    "for name in station_name:\n",
    "    tmp = gmaps.geocode(name, language='ko')\n",
    "    station_address.append(tmp[0].get('formatted_address'))\n",
    "\n",
    "    tmp_loc = tmp[0].get('geometry')\n",
    "    station_lat.append(tmp_loc['location']['lat'])\n",
    "    station_lng.append(tmp_loc['location']['lng'])\n",
    "    print(name + '-->' + tmp[0].get('formatted_address'))"
   ],
   "metadata": {
    "collapsed": false,
    "pycharm": {
     "name": "#%%\n"
    }
   }
  },
  {
   "cell_type": "code",
   "execution_count": 9,
   "outputs": [
    {
     "data": {
      "text/plain": "['대한민국 서울특별시 중구 을지로동 수표로 27',\n '대한민국 서울특별시 종로구 종로1.2.3.4가동 율곡로 46',\n '대한민국 서울특별시 중구 한강대로 410',\n '대한민국 서울특별시 서대문구 충현동 통일로 113',\n '대한민국 서울특별시 종로구 인의동 창경궁로 112-16',\n '대한민국 서울특별시 용산구 백범로 329',\n '대한민국 서울특별시 성북구 삼선동 보문로 170',\n '대한민국 서울특별시 동대문구 약령시로21길 29',\n '대한민국 서울특별시 마포구 마포대로 183',\n '대한민국 서울특별시 영등포구 영등포동1가 618-7',\n '대한민국 서울특별시 성동구 행당동 왕십리광장로 9',\n '대한민국 서울특별시 동작구 노량진로 148',\n '대한민국 서울특별시 광진구 구의동 자양로 167',\n '대한민국 서울특별시 은평구 진흥로 58',\n '대한민국 서울특별시 강북구 오패산로 406',\n '대한민국 서울특별시 금천구 시흥대로73길 50',\n '대한민국 서울특별시 중랑구 묵동 120',\n '대한민국 서울특별시 강남구 테헤란로114길 11',\n '대한민국 서울특별시 관악구 관악로5길 33',\n '대한민국 서울특별시 강서구 화곡로 308',\n '대한민국 서울특별시 강동구 성내로 57',\n '대한민국 서울특별시 성북구 종암로 135',\n '대한민국 서울특별시 구로구 가마산로 235',\n '대한민국 서울특별시 서초구 서초3동 반포대로 179',\n '대한민국 서울특별시 양천구 목동동로 99',\n '대한민국 서울특별시 송파구 가락동 중대로 221',\n '대한민국 서울특별시 노원구 하계동 노원로 283',\n '대한민국 서울특별시 서초구 동작대로 204',\n '대한민국 서울특별시 은평구 불광동 연서로 365',\n '대한민국 서울특별시 도봉구 노해로 403',\n '대한민국 서울특별시 강남구 개포로 617']"
     },
     "execution_count": 9,
     "metadata": {},
     "output_type": "execute_result"
    }
   ],
   "source": [
    "station_address"
   ],
   "metadata": {
    "collapsed": false,
    "pycharm": {
     "name": "#%%\n"
    }
   }
  },
  {
   "cell_type": "code",
   "execution_count": 10,
   "outputs": [
    {
     "data": {
      "text/plain": "[37.5636465,\n 37.575548,\n 37.5547584,\n 37.5647439,\n 37.5718529,\n 37.5387099,\n 37.58977830000001,\n 37.58506149999999,\n 37.550814,\n 37.5153176,\n 37.5617303,\n 37.5130866,\n 37.542873,\n 37.6020914,\n 37.63730390000001,\n 37.4568722,\n 37.6145819,\n 37.5094352,\n 37.4743945,\n 37.5512463,\n 37.528511,\n 37.6020592,\n 37.494931,\n 37.4956054,\n 37.5167711,\n 37.5016941,\n 37.6425238,\n 37.4945959,\n 37.6280204,\n 37.6533589,\n 37.49349]"
     },
     "execution_count": 10,
     "metadata": {},
     "output_type": "execute_result"
    }
   ],
   "source": [
    "station_lat"
   ],
   "metadata": {
    "collapsed": false,
    "pycharm": {
     "name": "#%%\n"
    }
   }
  },
  {
   "cell_type": "code",
   "execution_count": 11,
   "outputs": [
    {
     "data": {
      "text/plain": "[126.9895796,\n 126.9847471,\n 126.9734981,\n 126.9667705,\n 126.9989143,\n 126.9659183,\n 127.016589,\n 127.0457679,\n 126.954028,\n 126.905728,\n 127.0364217,\n 126.9428498,\n 127.083821,\n 126.9213528,\n 127.0273399,\n 126.8970429,\n 127.0815539,\n 127.0669578,\n 126.9513489,\n 126.8499633,\n 127.1268224,\n 127.0321577,\n 126.886731,\n 127.0052504,\n 126.8656996,\n 127.1272481,\n 127.0717076,\n 126.9831279,\n 126.9287899,\n 127.052682,\n 127.0772119]"
     },
     "execution_count": 11,
     "metadata": {},
     "output_type": "execute_result"
    }
   ],
   "source": [
    "station_lng"
   ],
   "metadata": {
    "collapsed": false,
    "pycharm": {
     "name": "#%%\n"
    }
   }
  },
  {
   "cell_type": "code",
   "execution_count": 12,
   "outputs": [
    {
     "data": {
      "text/plain": "    관서명  살인 발생  살인 검거  강도 발생  강도 검거  강간 발생  강간 검거  절도 발생  절도 검거  폭력 발생  폭력 검거  \\\n0   중부서      2      2      3      2    105     65   1395    477   1355   1170   \n1   종로서      3      3      6      5    115     98   1070    413   1278   1070   \n2  남대문서      1      0      6      4     65     46   1153    382    869    794   \n3  서대문서      2      2      5      4    154    124   1812    738   2056   1711   \n4   혜화서      3      2      5      4     96     63   1114    424   1015    861   \n\n     구별  \n0    중구  \n1   종로구  \n2    중구  \n3  서대문구  \n4   종로구  ",
      "text/html": "<div>\n<style scoped>\n    .dataframe tbody tr th:only-of-type {\n        vertical-align: middle;\n    }\n\n    .dataframe tbody tr th {\n        vertical-align: top;\n    }\n\n    .dataframe thead th {\n        text-align: right;\n    }\n</style>\n<table border=\"1\" class=\"dataframe\">\n  <thead>\n    <tr style=\"text-align: right;\">\n      <th></th>\n      <th>관서명</th>\n      <th>살인 발생</th>\n      <th>살인 검거</th>\n      <th>강도 발생</th>\n      <th>강도 검거</th>\n      <th>강간 발생</th>\n      <th>강간 검거</th>\n      <th>절도 발생</th>\n      <th>절도 검거</th>\n      <th>폭력 발생</th>\n      <th>폭력 검거</th>\n      <th>구별</th>\n    </tr>\n  </thead>\n  <tbody>\n    <tr>\n      <th>0</th>\n      <td>중부서</td>\n      <td>2</td>\n      <td>2</td>\n      <td>3</td>\n      <td>2</td>\n      <td>105</td>\n      <td>65</td>\n      <td>1395</td>\n      <td>477</td>\n      <td>1355</td>\n      <td>1170</td>\n      <td>중구</td>\n    </tr>\n    <tr>\n      <th>1</th>\n      <td>종로서</td>\n      <td>3</td>\n      <td>3</td>\n      <td>6</td>\n      <td>5</td>\n      <td>115</td>\n      <td>98</td>\n      <td>1070</td>\n      <td>413</td>\n      <td>1278</td>\n      <td>1070</td>\n      <td>종로구</td>\n    </tr>\n    <tr>\n      <th>2</th>\n      <td>남대문서</td>\n      <td>1</td>\n      <td>0</td>\n      <td>6</td>\n      <td>4</td>\n      <td>65</td>\n      <td>46</td>\n      <td>1153</td>\n      <td>382</td>\n      <td>869</td>\n      <td>794</td>\n      <td>중구</td>\n    </tr>\n    <tr>\n      <th>3</th>\n      <td>서대문서</td>\n      <td>2</td>\n      <td>2</td>\n      <td>5</td>\n      <td>4</td>\n      <td>154</td>\n      <td>124</td>\n      <td>1812</td>\n      <td>738</td>\n      <td>2056</td>\n      <td>1711</td>\n      <td>서대문구</td>\n    </tr>\n    <tr>\n      <th>4</th>\n      <td>혜화서</td>\n      <td>3</td>\n      <td>2</td>\n      <td>5</td>\n      <td>4</td>\n      <td>96</td>\n      <td>63</td>\n      <td>1114</td>\n      <td>424</td>\n      <td>1015</td>\n      <td>861</td>\n      <td>종로구</td>\n    </tr>\n  </tbody>\n</table>\n</div>"
     },
     "execution_count": 12,
     "metadata": {},
     "output_type": "execute_result"
    }
   ],
   "source": [
    "gu_name = []\n",
    "\n",
    "for name in station_address:\n",
    "    tmp = name.split()\n",
    "    tmp_gu = [gu for gu in tmp if gu[-1] == '구'][0]\n",
    "    gu_name.append(tmp_gu)\n",
    "\n",
    "crime_data['구별'] = gu_name\n",
    "crime_data.head()"
   ],
   "metadata": {
    "collapsed": false,
    "pycharm": {
     "name": "#%%\n"
    }
   }
  },
  {
   "cell_type": "markdown",
   "source": [
    "* 금천경찰서의 경우 관악구에 위치하고 있어 금천서는 예외처리를 해야 함"
   ],
   "metadata": {
    "collapsed": false
   }
  },
  {
   "cell_type": "code",
   "execution_count": 13,
   "outputs": [
    {
     "data": {
      "text/plain": "    관서명  살인 발생  살인 검거  강도 발생  강도 검거  강간 발생  강간 검거  절도 발생  절도 검거  폭력 발생  폭력 검거  \\\n15  금천서      3      4      6      6    151    122   1567    888   2054   1776   \n\n     구별  \n15  금천구  ",
      "text/html": "<div>\n<style scoped>\n    .dataframe tbody tr th:only-of-type {\n        vertical-align: middle;\n    }\n\n    .dataframe tbody tr th {\n        vertical-align: top;\n    }\n\n    .dataframe thead th {\n        text-align: right;\n    }\n</style>\n<table border=\"1\" class=\"dataframe\">\n  <thead>\n    <tr style=\"text-align: right;\">\n      <th></th>\n      <th>관서명</th>\n      <th>살인 발생</th>\n      <th>살인 검거</th>\n      <th>강도 발생</th>\n      <th>강도 검거</th>\n      <th>강간 발생</th>\n      <th>강간 검거</th>\n      <th>절도 발생</th>\n      <th>절도 검거</th>\n      <th>폭력 발생</th>\n      <th>폭력 검거</th>\n      <th>구별</th>\n    </tr>\n  </thead>\n  <tbody>\n    <tr>\n      <th>15</th>\n      <td>금천서</td>\n      <td>3</td>\n      <td>4</td>\n      <td>6</td>\n      <td>6</td>\n      <td>151</td>\n      <td>122</td>\n      <td>1567</td>\n      <td>888</td>\n      <td>2054</td>\n      <td>1776</td>\n      <td>금천구</td>\n    </tr>\n  </tbody>\n</table>\n</div>"
     },
     "execution_count": 13,
     "metadata": {},
     "output_type": "execute_result"
    }
   ],
   "source": [
    "crime_data[crime_data['관서명'] == '금천서']"
   ],
   "metadata": {
    "collapsed": false,
    "pycharm": {
     "name": "#%%\n"
    }
   }
  },
  {
   "cell_type": "code",
   "execution_count": 14,
   "outputs": [
    {
     "data": {
      "text/plain": "    관서명  살인 발생  살인 검거  강도 발생  강도 검거  강간 발생  강간 검거  절도 발생  절도 검거  폭력 발생  폭력 검거  \\\n15  금천서      3      4      6      6    151    122   1567    888   2054   1776   \n\n     구별  \n15  금천구  ",
      "text/html": "<div>\n<style scoped>\n    .dataframe tbody tr th:only-of-type {\n        vertical-align: middle;\n    }\n\n    .dataframe tbody tr th {\n        vertical-align: top;\n    }\n\n    .dataframe thead th {\n        text-align: right;\n    }\n</style>\n<table border=\"1\" class=\"dataframe\">\n  <thead>\n    <tr style=\"text-align: right;\">\n      <th></th>\n      <th>관서명</th>\n      <th>살인 발생</th>\n      <th>살인 검거</th>\n      <th>강도 발생</th>\n      <th>강도 검거</th>\n      <th>강간 발생</th>\n      <th>강간 검거</th>\n      <th>절도 발생</th>\n      <th>절도 검거</th>\n      <th>폭력 발생</th>\n      <th>폭력 검거</th>\n      <th>구별</th>\n    </tr>\n  </thead>\n  <tbody>\n    <tr>\n      <th>15</th>\n      <td>금천서</td>\n      <td>3</td>\n      <td>4</td>\n      <td>6</td>\n      <td>6</td>\n      <td>151</td>\n      <td>122</td>\n      <td>1567</td>\n      <td>888</td>\n      <td>2054</td>\n      <td>1776</td>\n      <td>금천구</td>\n    </tr>\n  </tbody>\n</table>\n</div>"
     },
     "execution_count": 14,
     "metadata": {},
     "output_type": "execute_result"
    }
   ],
   "source": [
    "crime_data.loc[crime_data['관서명'] == '금천서', ['구별']] = '금천구'\n",
    "crime_data[crime_data['관서명'] == '금천서']"
   ],
   "metadata": {
    "collapsed": false,
    "pycharm": {
     "name": "#%%\n"
    }
   }
  },
  {
   "cell_type": "code",
   "execution_count": 15,
   "outputs": [],
   "source": [
    "crime_data.to_csv('./../data/crime_in_seoul_include_gu_name.csv', sep=',', encoding='utf-8')"
   ],
   "metadata": {
    "collapsed": false,
    "pycharm": {
     "name": "#%%\n"
    }
   }
  },
  {
   "cell_type": "markdown",
   "source": [
    "## 2-6. Pivot table을 이용해서 데이터 정리하기 (p.91)"
   ],
   "metadata": {
    "collapsed": false
   }
  },
  {
   "cell_type": "code",
   "execution_count": 18,
   "outputs": [
    {
     "data": {
      "text/plain": "   Unnamed: 0   관서명  살인 발생  살인 검거  강도 발생  강도 검거  강간 발생  강간 검거  절도 발생  절도 검거  \\\n0           0   중부서      2      2      3      2    105     65   1395    477   \n1           1   종로서      3      3      6      5    115     98   1070    413   \n2           2  남대문서      1      0      6      4     65     46   1153    382   \n3           3  서대문서      2      2      5      4    154    124   1812    738   \n4           4   혜화서      3      2      5      4     96     63   1114    424   \n\n   폭력 발생  폭력 검거    구별  \n0   1355   1170    중구  \n1   1278   1070   종로구  \n2    869    794    중구  \n3   2056   1711  서대문구  \n4   1015    861   종로구  ",
      "text/html": "<div>\n<style scoped>\n    .dataframe tbody tr th:only-of-type {\n        vertical-align: middle;\n    }\n\n    .dataframe tbody tr th {\n        vertical-align: top;\n    }\n\n    .dataframe thead th {\n        text-align: right;\n    }\n</style>\n<table border=\"1\" class=\"dataframe\">\n  <thead>\n    <tr style=\"text-align: right;\">\n      <th></th>\n      <th>Unnamed: 0</th>\n      <th>관서명</th>\n      <th>살인 발생</th>\n      <th>살인 검거</th>\n      <th>강도 발생</th>\n      <th>강도 검거</th>\n      <th>강간 발생</th>\n      <th>강간 검거</th>\n      <th>절도 발생</th>\n      <th>절도 검거</th>\n      <th>폭력 발생</th>\n      <th>폭력 검거</th>\n      <th>구별</th>\n    </tr>\n  </thead>\n  <tbody>\n    <tr>\n      <th>0</th>\n      <td>0</td>\n      <td>중부서</td>\n      <td>2</td>\n      <td>2</td>\n      <td>3</td>\n      <td>2</td>\n      <td>105</td>\n      <td>65</td>\n      <td>1395</td>\n      <td>477</td>\n      <td>1355</td>\n      <td>1170</td>\n      <td>중구</td>\n    </tr>\n    <tr>\n      <th>1</th>\n      <td>1</td>\n      <td>종로서</td>\n      <td>3</td>\n      <td>3</td>\n      <td>6</td>\n      <td>5</td>\n      <td>115</td>\n      <td>98</td>\n      <td>1070</td>\n      <td>413</td>\n      <td>1278</td>\n      <td>1070</td>\n      <td>종로구</td>\n    </tr>\n    <tr>\n      <th>2</th>\n      <td>2</td>\n      <td>남대문서</td>\n      <td>1</td>\n      <td>0</td>\n      <td>6</td>\n      <td>4</td>\n      <td>65</td>\n      <td>46</td>\n      <td>1153</td>\n      <td>382</td>\n      <td>869</td>\n      <td>794</td>\n      <td>중구</td>\n    </tr>\n    <tr>\n      <th>3</th>\n      <td>3</td>\n      <td>서대문서</td>\n      <td>2</td>\n      <td>2</td>\n      <td>5</td>\n      <td>4</td>\n      <td>154</td>\n      <td>124</td>\n      <td>1812</td>\n      <td>738</td>\n      <td>2056</td>\n      <td>1711</td>\n      <td>서대문구</td>\n    </tr>\n    <tr>\n      <th>4</th>\n      <td>4</td>\n      <td>혜화서</td>\n      <td>3</td>\n      <td>2</td>\n      <td>5</td>\n      <td>4</td>\n      <td>96</td>\n      <td>63</td>\n      <td>1114</td>\n      <td>424</td>\n      <td>1015</td>\n      <td>861</td>\n      <td>종로구</td>\n    </tr>\n  </tbody>\n</table>\n</div>"
     },
     "execution_count": 18,
     "metadata": {},
     "output_type": "execute_result"
    }
   ],
   "source": [
    "crime_raw = pd.read_csv('./../data/crime_in_seoul_include_gu_name.csv')\n",
    "crime_raw.head()"
   ],
   "metadata": {
    "collapsed": false,
    "pycharm": {
     "name": "#%%\n"
    }
   }
  },
  {
   "cell_type": "code",
   "execution_count": 17,
   "outputs": [
    {
     "data": {
      "text/plain": "     강간 검거  강간 발생  강도 검거  강도 발생  살인 검거  살인 발생  절도 검거  절도 발생  폭력 검거  폭력 발생\n구별                                                                       \n강남구    349    449     18     21     10     13   1650   3850   3705   4284\n강동구    123    156      8      6      3      4    789   2366   2248   2712\n강북구    126    153     13     14      8      7    618   1434   2348   2649\n강서구    191    262     13     13      8      7   1260   2096   2718   3207\n관악구    221    320     14     12      8      9    827   2706   2642   3298",
      "text/html": "<div>\n<style scoped>\n    .dataframe tbody tr th:only-of-type {\n        vertical-align: middle;\n    }\n\n    .dataframe tbody tr th {\n        vertical-align: top;\n    }\n\n    .dataframe thead th {\n        text-align: right;\n    }\n</style>\n<table border=\"1\" class=\"dataframe\">\n  <thead>\n    <tr style=\"text-align: right;\">\n      <th></th>\n      <th>강간 검거</th>\n      <th>강간 발생</th>\n      <th>강도 검거</th>\n      <th>강도 발생</th>\n      <th>살인 검거</th>\n      <th>살인 발생</th>\n      <th>절도 검거</th>\n      <th>절도 발생</th>\n      <th>폭력 검거</th>\n      <th>폭력 발생</th>\n    </tr>\n    <tr>\n      <th>구별</th>\n      <th></th>\n      <th></th>\n      <th></th>\n      <th></th>\n      <th></th>\n      <th></th>\n      <th></th>\n      <th></th>\n      <th></th>\n      <th></th>\n    </tr>\n  </thead>\n  <tbody>\n    <tr>\n      <th>강남구</th>\n      <td>349</td>\n      <td>449</td>\n      <td>18</td>\n      <td>21</td>\n      <td>10</td>\n      <td>13</td>\n      <td>1650</td>\n      <td>3850</td>\n      <td>3705</td>\n      <td>4284</td>\n    </tr>\n    <tr>\n      <th>강동구</th>\n      <td>123</td>\n      <td>156</td>\n      <td>8</td>\n      <td>6</td>\n      <td>3</td>\n      <td>4</td>\n      <td>789</td>\n      <td>2366</td>\n      <td>2248</td>\n      <td>2712</td>\n    </tr>\n    <tr>\n      <th>강북구</th>\n      <td>126</td>\n      <td>153</td>\n      <td>13</td>\n      <td>14</td>\n      <td>8</td>\n      <td>7</td>\n      <td>618</td>\n      <td>1434</td>\n      <td>2348</td>\n      <td>2649</td>\n    </tr>\n    <tr>\n      <th>강서구</th>\n      <td>191</td>\n      <td>262</td>\n      <td>13</td>\n      <td>13</td>\n      <td>8</td>\n      <td>7</td>\n      <td>1260</td>\n      <td>2096</td>\n      <td>2718</td>\n      <td>3207</td>\n    </tr>\n    <tr>\n      <th>관악구</th>\n      <td>221</td>\n      <td>320</td>\n      <td>14</td>\n      <td>12</td>\n      <td>8</td>\n      <td>9</td>\n      <td>827</td>\n      <td>2706</td>\n      <td>2642</td>\n      <td>3298</td>\n    </tr>\n  </tbody>\n</table>\n</div>"
     },
     "execution_count": 17,
     "metadata": {},
     "output_type": "execute_result"
    }
   ],
   "source": [
    "crime_raw = pd.read_csv('./../data/crime_in_seoul_include_gu_name.csv', index_col=0)\n",
    "\n",
    "crime_data = pd.pivot_table(crime_raw, index='구별', aggfunc=np.sum)\n",
    "crime_data.head()"
   ],
   "metadata": {
    "collapsed": false,
    "pycharm": {
     "name": "#%%\n"
    }
   }
  },
  {
   "cell_type": "code",
   "execution_count": 19,
   "outputs": [
    {
     "data": {
      "text/plain": "     강간 발생  강도 발생  살인 발생  절도 발생  폭력 발생      강간검거율       강도검거율       살인검거율  \\\n구별                                                                          \n강남구    449     21     13   3850   4284  77.728285   85.714286   76.923077   \n강동구    156      6      4   2366   2712  78.846154  133.333333   75.000000   \n강북구    153     14      7   1434   2649  82.352941   92.857143  114.285714   \n강서구    262     13      7   2096   3207  72.900763  100.000000  114.285714   \n관악구    320     12      9   2706   3298  69.062500  116.666667   88.888889   \n\n         절도검거율      폭력검거율  \n구별                         \n강남구  42.857143  86.484594  \n강동구  33.347422  82.890855  \n강북구  43.096234  88.637222  \n강서구  60.114504  84.752105  \n관악구  30.561715  80.109157  ",
      "text/html": "<div>\n<style scoped>\n    .dataframe tbody tr th:only-of-type {\n        vertical-align: middle;\n    }\n\n    .dataframe tbody tr th {\n        vertical-align: top;\n    }\n\n    .dataframe thead th {\n        text-align: right;\n    }\n</style>\n<table border=\"1\" class=\"dataframe\">\n  <thead>\n    <tr style=\"text-align: right;\">\n      <th></th>\n      <th>강간 발생</th>\n      <th>강도 발생</th>\n      <th>살인 발생</th>\n      <th>절도 발생</th>\n      <th>폭력 발생</th>\n      <th>강간검거율</th>\n      <th>강도검거율</th>\n      <th>살인검거율</th>\n      <th>절도검거율</th>\n      <th>폭력검거율</th>\n    </tr>\n    <tr>\n      <th>구별</th>\n      <th></th>\n      <th></th>\n      <th></th>\n      <th></th>\n      <th></th>\n      <th></th>\n      <th></th>\n      <th></th>\n      <th></th>\n      <th></th>\n    </tr>\n  </thead>\n  <tbody>\n    <tr>\n      <th>강남구</th>\n      <td>449</td>\n      <td>21</td>\n      <td>13</td>\n      <td>3850</td>\n      <td>4284</td>\n      <td>77.728285</td>\n      <td>85.714286</td>\n      <td>76.923077</td>\n      <td>42.857143</td>\n      <td>86.484594</td>\n    </tr>\n    <tr>\n      <th>강동구</th>\n      <td>156</td>\n      <td>6</td>\n      <td>4</td>\n      <td>2366</td>\n      <td>2712</td>\n      <td>78.846154</td>\n      <td>133.333333</td>\n      <td>75.000000</td>\n      <td>33.347422</td>\n      <td>82.890855</td>\n    </tr>\n    <tr>\n      <th>강북구</th>\n      <td>153</td>\n      <td>14</td>\n      <td>7</td>\n      <td>1434</td>\n      <td>2649</td>\n      <td>82.352941</td>\n      <td>92.857143</td>\n      <td>114.285714</td>\n      <td>43.096234</td>\n      <td>88.637222</td>\n    </tr>\n    <tr>\n      <th>강서구</th>\n      <td>262</td>\n      <td>13</td>\n      <td>7</td>\n      <td>2096</td>\n      <td>3207</td>\n      <td>72.900763</td>\n      <td>100.000000</td>\n      <td>114.285714</td>\n      <td>60.114504</td>\n      <td>84.752105</td>\n    </tr>\n    <tr>\n      <th>관악구</th>\n      <td>320</td>\n      <td>12</td>\n      <td>9</td>\n      <td>2706</td>\n      <td>3298</td>\n      <td>69.062500</td>\n      <td>116.666667</td>\n      <td>88.888889</td>\n      <td>30.561715</td>\n      <td>80.109157</td>\n    </tr>\n  </tbody>\n</table>\n</div>"
     },
     "execution_count": 19,
     "metadata": {},
     "output_type": "execute_result"
    }
   ],
   "source": [
    "crime_data['강간검거율'] = crime_data['강간 검거'] / crime_data['강간 발생'] * 100\n",
    "crime_data['강도검거율'] = crime_data['강도 검거'] / crime_data['강도 발생'] * 100\n",
    "crime_data['살인검거율'] = crime_data['살인 검거'] / crime_data['살인 발생'] * 100\n",
    "crime_data['절도검거율'] = crime_data['절도 검거'] / crime_data['절도 발생'] * 100\n",
    "crime_data['폭력검거율'] = crime_data['폭력 검거'] / crime_data['폭력 발생'] * 100\n",
    "\n",
    "del crime_data['강간 검거']\n",
    "del crime_data['강도 검거']\n",
    "del crime_data['살인 검거']\n",
    "del crime_data['절도 검거']\n",
    "del crime_data['폭력 검거']\n",
    "\n",
    "crime_data.head()"
   ],
   "metadata": {
    "collapsed": false,
    "pycharm": {
     "name": "#%%\n"
    }
   }
  },
  {
   "cell_type": "markdown",
   "source": [
    "* 100이 넘는 숫자들은 전년도 발생 건수에 대한 검거도 포함되어 그런 것\n",
    "* 일단은 다 100으로 처리"
   ],
   "metadata": {
    "collapsed": false
   }
  },
  {
   "cell_type": "code",
   "execution_count": 20,
   "outputs": [
    {
     "data": {
      "text/plain": "     강간 발생  강도 발생  살인 발생  절도 발생  폭력 발생      강간검거율       강도검거율       살인검거율  \\\n구별                                                                          \n강남구    449     21     13   3850   4284  77.728285   85.714286   76.923077   \n강동구    156      6      4   2366   2712  78.846154  100.000000   75.000000   \n강북구    153     14      7   1434   2649  82.352941   92.857143  100.000000   \n강서구    262     13      7   2096   3207  72.900763  100.000000  100.000000   \n관악구    320     12      9   2706   3298  69.062500  100.000000   88.888889   \n\n         절도검거율      폭력검거율  \n구별                         \n강남구  42.857143  86.484594  \n강동구  33.347422  82.890855  \n강북구  43.096234  88.637222  \n강서구  60.114504  84.752105  \n관악구  30.561715  80.109157  ",
      "text/html": "<div>\n<style scoped>\n    .dataframe tbody tr th:only-of-type {\n        vertical-align: middle;\n    }\n\n    .dataframe tbody tr th {\n        vertical-align: top;\n    }\n\n    .dataframe thead th {\n        text-align: right;\n    }\n</style>\n<table border=\"1\" class=\"dataframe\">\n  <thead>\n    <tr style=\"text-align: right;\">\n      <th></th>\n      <th>강간 발생</th>\n      <th>강도 발생</th>\n      <th>살인 발생</th>\n      <th>절도 발생</th>\n      <th>폭력 발생</th>\n      <th>강간검거율</th>\n      <th>강도검거율</th>\n      <th>살인검거율</th>\n      <th>절도검거율</th>\n      <th>폭력검거율</th>\n    </tr>\n    <tr>\n      <th>구별</th>\n      <th></th>\n      <th></th>\n      <th></th>\n      <th></th>\n      <th></th>\n      <th></th>\n      <th></th>\n      <th></th>\n      <th></th>\n      <th></th>\n    </tr>\n  </thead>\n  <tbody>\n    <tr>\n      <th>강남구</th>\n      <td>449</td>\n      <td>21</td>\n      <td>13</td>\n      <td>3850</td>\n      <td>4284</td>\n      <td>77.728285</td>\n      <td>85.714286</td>\n      <td>76.923077</td>\n      <td>42.857143</td>\n      <td>86.484594</td>\n    </tr>\n    <tr>\n      <th>강동구</th>\n      <td>156</td>\n      <td>6</td>\n      <td>4</td>\n      <td>2366</td>\n      <td>2712</td>\n      <td>78.846154</td>\n      <td>100.000000</td>\n      <td>75.000000</td>\n      <td>33.347422</td>\n      <td>82.890855</td>\n    </tr>\n    <tr>\n      <th>강북구</th>\n      <td>153</td>\n      <td>14</td>\n      <td>7</td>\n      <td>1434</td>\n      <td>2649</td>\n      <td>82.352941</td>\n      <td>92.857143</td>\n      <td>100.000000</td>\n      <td>43.096234</td>\n      <td>88.637222</td>\n    </tr>\n    <tr>\n      <th>강서구</th>\n      <td>262</td>\n      <td>13</td>\n      <td>7</td>\n      <td>2096</td>\n      <td>3207</td>\n      <td>72.900763</td>\n      <td>100.000000</td>\n      <td>100.000000</td>\n      <td>60.114504</td>\n      <td>84.752105</td>\n    </tr>\n    <tr>\n      <th>관악구</th>\n      <td>320</td>\n      <td>12</td>\n      <td>9</td>\n      <td>2706</td>\n      <td>3298</td>\n      <td>69.062500</td>\n      <td>100.000000</td>\n      <td>88.888889</td>\n      <td>30.561715</td>\n      <td>80.109157</td>\n    </tr>\n  </tbody>\n</table>\n</div>"
     },
     "execution_count": 20,
     "metadata": {},
     "output_type": "execute_result"
    }
   ],
   "source": [
    "col_list = ['강간검거율', '강도검거율', '살인검거율', '절도검거율', '폭력검거율']\n",
    "\n",
    "for column in col_list:\n",
    "    crime_data.loc[crime_data[column] > 100, column] = 100\n",
    "\n",
    "crime_data.head()"
   ],
   "metadata": {
    "collapsed": false,
    "pycharm": {
     "name": "#%%\n"
    }
   }
  },
  {
   "cell_type": "markdown",
   "source": [
    "* 컬럼명에서 발생이라는 단어 삭제"
   ],
   "metadata": {
    "collapsed": false
   }
  },
  {
   "cell_type": "code",
   "execution_count": 21,
   "outputs": [
    {
     "data": {
      "text/plain": "      강간  강도  살인    절도    폭력      강간검거율       강도검거율       살인검거율      절도검거율  \\\n구별                                                                           \n강남구  449  21  13  3850  4284  77.728285   85.714286   76.923077  42.857143   \n강동구  156   6   4  2366  2712  78.846154  100.000000   75.000000  33.347422   \n강북구  153  14   7  1434  2649  82.352941   92.857143  100.000000  43.096234   \n강서구  262  13   7  2096  3207  72.900763  100.000000  100.000000  60.114504   \n관악구  320  12   9  2706  3298  69.062500  100.000000   88.888889  30.561715   \n\n         폭력검거율  \n구별              \n강남구  86.484594  \n강동구  82.890855  \n강북구  88.637222  \n강서구  84.752105  \n관악구  80.109157  ",
      "text/html": "<div>\n<style scoped>\n    .dataframe tbody tr th:only-of-type {\n        vertical-align: middle;\n    }\n\n    .dataframe tbody tr th {\n        vertical-align: top;\n    }\n\n    .dataframe thead th {\n        text-align: right;\n    }\n</style>\n<table border=\"1\" class=\"dataframe\">\n  <thead>\n    <tr style=\"text-align: right;\">\n      <th></th>\n      <th>강간</th>\n      <th>강도</th>\n      <th>살인</th>\n      <th>절도</th>\n      <th>폭력</th>\n      <th>강간검거율</th>\n      <th>강도검거율</th>\n      <th>살인검거율</th>\n      <th>절도검거율</th>\n      <th>폭력검거율</th>\n    </tr>\n    <tr>\n      <th>구별</th>\n      <th></th>\n      <th></th>\n      <th></th>\n      <th></th>\n      <th></th>\n      <th></th>\n      <th></th>\n      <th></th>\n      <th></th>\n      <th></th>\n    </tr>\n  </thead>\n  <tbody>\n    <tr>\n      <th>강남구</th>\n      <td>449</td>\n      <td>21</td>\n      <td>13</td>\n      <td>3850</td>\n      <td>4284</td>\n      <td>77.728285</td>\n      <td>85.714286</td>\n      <td>76.923077</td>\n      <td>42.857143</td>\n      <td>86.484594</td>\n    </tr>\n    <tr>\n      <th>강동구</th>\n      <td>156</td>\n      <td>6</td>\n      <td>4</td>\n      <td>2366</td>\n      <td>2712</td>\n      <td>78.846154</td>\n      <td>100.000000</td>\n      <td>75.000000</td>\n      <td>33.347422</td>\n      <td>82.890855</td>\n    </tr>\n    <tr>\n      <th>강북구</th>\n      <td>153</td>\n      <td>14</td>\n      <td>7</td>\n      <td>1434</td>\n      <td>2649</td>\n      <td>82.352941</td>\n      <td>92.857143</td>\n      <td>100.000000</td>\n      <td>43.096234</td>\n      <td>88.637222</td>\n    </tr>\n    <tr>\n      <th>강서구</th>\n      <td>262</td>\n      <td>13</td>\n      <td>7</td>\n      <td>2096</td>\n      <td>3207</td>\n      <td>72.900763</td>\n      <td>100.000000</td>\n      <td>100.000000</td>\n      <td>60.114504</td>\n      <td>84.752105</td>\n    </tr>\n    <tr>\n      <th>관악구</th>\n      <td>320</td>\n      <td>12</td>\n      <td>9</td>\n      <td>2706</td>\n      <td>3298</td>\n      <td>69.062500</td>\n      <td>100.000000</td>\n      <td>88.888889</td>\n      <td>30.561715</td>\n      <td>80.109157</td>\n    </tr>\n  </tbody>\n</table>\n</div>"
     },
     "execution_count": 21,
     "metadata": {},
     "output_type": "execute_result"
    }
   ],
   "source": [
    "crime_data.rename(columns={'강간 발생': '강간',\n",
    "                           '강도 발생': '강도',\n",
    "                           '살인 발생': '살인',\n",
    "                           '절도 발생': '절도',\n",
    "                           '폭력 발생': '폭력'}, inplace=True)\n",
    "crime_data.head()"
   ],
   "metadata": {
    "collapsed": false,
    "pycharm": {
     "name": "#%%\n"
    }
   }
  },
  {
   "cell_type": "markdown",
   "source": [
    "## 2-7. 데이터 표현을 위해 다듬기"
   ],
   "metadata": {
    "collapsed": false
   }
  },
  {
   "cell_type": "markdown",
   "source": [
    "* 강도, 살인 사건은 두 자릿수인데, 절도와 폭력은 네 자릿수\n",
    "* 각각 비슷한 범위에 놓고 ㅂ교하는 것이 편리함\n",
    "* 강간, 강도, 살인, 절도, 폭력에 대해 각 컬럼별로 '정규화(normalize)'"
   ],
   "metadata": {
    "collapsed": false
   }
  },
  {
   "cell_type": "code",
   "execution_count": 25,
   "outputs": [
    {
     "data": {
      "text/plain": "           강간        강도        살인        절도        폭력      강간검거율       강도검거율  \\\n구별                                                                             \n강남구  1.000000  0.941176  0.916667  1.000000  1.000000  77.728285   85.714286   \n강동구  0.155620  0.058824  0.166667  0.467528  0.437969  78.846154  100.000000   \n강북구  0.146974  0.529412  0.416667  0.133118  0.415445  82.352941   92.857143   \n강서구  0.461095  0.470588  0.416667  0.370649  0.614945  72.900763  100.000000   \n관악구  0.628242  0.411765  0.583333  0.589523  0.647479  69.062500  100.000000   \n\n          살인검거율      절도검거율      폭력검거율  \n구별                                     \n강남구   76.923077  42.857143  86.484594  \n강동구   75.000000  33.347422  82.890855  \n강북구  100.000000  43.096234  88.637222  \n강서구  100.000000  60.114504  84.752105  \n관악구   88.888889  30.561715  80.109157  ",
      "text/html": "<div>\n<style scoped>\n    .dataframe tbody tr th:only-of-type {\n        vertical-align: middle;\n    }\n\n    .dataframe tbody tr th {\n        vertical-align: top;\n    }\n\n    .dataframe thead th {\n        text-align: right;\n    }\n</style>\n<table border=\"1\" class=\"dataframe\">\n  <thead>\n    <tr style=\"text-align: right;\">\n      <th></th>\n      <th>강간</th>\n      <th>강도</th>\n      <th>살인</th>\n      <th>절도</th>\n      <th>폭력</th>\n      <th>강간검거율</th>\n      <th>강도검거율</th>\n      <th>살인검거율</th>\n      <th>절도검거율</th>\n      <th>폭력검거율</th>\n    </tr>\n    <tr>\n      <th>구별</th>\n      <th></th>\n      <th></th>\n      <th></th>\n      <th></th>\n      <th></th>\n      <th></th>\n      <th></th>\n      <th></th>\n      <th></th>\n      <th></th>\n    </tr>\n  </thead>\n  <tbody>\n    <tr>\n      <th>강남구</th>\n      <td>1.000000</td>\n      <td>0.941176</td>\n      <td>0.916667</td>\n      <td>1.000000</td>\n      <td>1.000000</td>\n      <td>77.728285</td>\n      <td>85.714286</td>\n      <td>76.923077</td>\n      <td>42.857143</td>\n      <td>86.484594</td>\n    </tr>\n    <tr>\n      <th>강동구</th>\n      <td>0.155620</td>\n      <td>0.058824</td>\n      <td>0.166667</td>\n      <td>0.467528</td>\n      <td>0.437969</td>\n      <td>78.846154</td>\n      <td>100.000000</td>\n      <td>75.000000</td>\n      <td>33.347422</td>\n      <td>82.890855</td>\n    </tr>\n    <tr>\n      <th>강북구</th>\n      <td>0.146974</td>\n      <td>0.529412</td>\n      <td>0.416667</td>\n      <td>0.133118</td>\n      <td>0.415445</td>\n      <td>82.352941</td>\n      <td>92.857143</td>\n      <td>100.000000</td>\n      <td>43.096234</td>\n      <td>88.637222</td>\n    </tr>\n    <tr>\n      <th>강서구</th>\n      <td>0.461095</td>\n      <td>0.470588</td>\n      <td>0.416667</td>\n      <td>0.370649</td>\n      <td>0.614945</td>\n      <td>72.900763</td>\n      <td>100.000000</td>\n      <td>100.000000</td>\n      <td>60.114504</td>\n      <td>84.752105</td>\n    </tr>\n    <tr>\n      <th>관악구</th>\n      <td>0.628242</td>\n      <td>0.411765</td>\n      <td>0.583333</td>\n      <td>0.589523</td>\n      <td>0.647479</td>\n      <td>69.062500</td>\n      <td>100.000000</td>\n      <td>88.888889</td>\n      <td>30.561715</td>\n      <td>80.109157</td>\n    </tr>\n  </tbody>\n</table>\n</div>"
     },
     "execution_count": 25,
     "metadata": {},
     "output_type": "execute_result"
    }
   ],
   "source": [
    "from sklearn import preprocessing\n",
    "\n",
    "col = ['강간', '강도', '살인', '절도', '폭력']\n",
    "\n",
    "x = crime_data[col].values\n",
    "min_max_scaler = preprocessing.MinMaxScaler()   # 최소값, 최대값을 이용해 정규화\n",
    "\n",
    "x_scaled = min_max_scaler.fit_transform(x.astype(float))\n",
    "crime_norm = pd.DataFrame(x_scaled, columns=col, index=crime_data.index)\n",
    "\n",
    "col2 = ['강간검거율', '강도검거율', '살인검거율', '절도검거율', '폭력검거율']\n",
    "crime_norm[col2] = crime_data[col2]\n",
    "crime_norm.head()"
   ],
   "metadata": {
    "collapsed": false,
    "pycharm": {
     "name": "#%%\n"
    }
   }
  },
  {
   "cell_type": "code",
   "execution_count": 26,
   "outputs": [
    {
     "data": {
      "text/plain": "           강간        강도        살인        절도        폭력      강간검거율       강도검거율  \\\n구별                                                                             \n강남구  1.000000  0.941176  0.916667  1.000000  1.000000  77.728285   85.714286   \n강동구  0.155620  0.058824  0.166667  0.467528  0.437969  78.846154  100.000000   \n강북구  0.146974  0.529412  0.416667  0.133118  0.415445  82.352941   92.857143   \n강서구  0.461095  0.470588  0.416667  0.370649  0.614945  72.900763  100.000000   \n관악구  0.628242  0.411765  0.583333  0.589523  0.647479  69.062500  100.000000   \n\n          살인검거율      절도검거율      폭력검거율       인구수  CCTV  \n구별                                                     \n강남구   76.923077  42.857143  86.484594  570500.0  2780  \n강동구   75.000000  33.347422  82.890855  453233.0   773  \n강북구  100.000000  43.096234  88.637222  330192.0   748  \n강서구  100.000000  60.114504  84.752105  603772.0   884  \n관악구   88.888889  30.561715  80.109157  525515.0  1496  ",
      "text/html": "<div>\n<style scoped>\n    .dataframe tbody tr th:only-of-type {\n        vertical-align: middle;\n    }\n\n    .dataframe tbody tr th {\n        vertical-align: top;\n    }\n\n    .dataframe thead th {\n        text-align: right;\n    }\n</style>\n<table border=\"1\" class=\"dataframe\">\n  <thead>\n    <tr style=\"text-align: right;\">\n      <th></th>\n      <th>강간</th>\n      <th>강도</th>\n      <th>살인</th>\n      <th>절도</th>\n      <th>폭력</th>\n      <th>강간검거율</th>\n      <th>강도검거율</th>\n      <th>살인검거율</th>\n      <th>절도검거율</th>\n      <th>폭력검거율</th>\n      <th>인구수</th>\n      <th>CCTV</th>\n    </tr>\n    <tr>\n      <th>구별</th>\n      <th></th>\n      <th></th>\n      <th></th>\n      <th></th>\n      <th></th>\n      <th></th>\n      <th></th>\n      <th></th>\n      <th></th>\n      <th></th>\n      <th></th>\n      <th></th>\n    </tr>\n  </thead>\n  <tbody>\n    <tr>\n      <th>강남구</th>\n      <td>1.000000</td>\n      <td>0.941176</td>\n      <td>0.916667</td>\n      <td>1.000000</td>\n      <td>1.000000</td>\n      <td>77.728285</td>\n      <td>85.714286</td>\n      <td>76.923077</td>\n      <td>42.857143</td>\n      <td>86.484594</td>\n      <td>570500.0</td>\n      <td>2780</td>\n    </tr>\n    <tr>\n      <th>강동구</th>\n      <td>0.155620</td>\n      <td>0.058824</td>\n      <td>0.166667</td>\n      <td>0.467528</td>\n      <td>0.437969</td>\n      <td>78.846154</td>\n      <td>100.000000</td>\n      <td>75.000000</td>\n      <td>33.347422</td>\n      <td>82.890855</td>\n      <td>453233.0</td>\n      <td>773</td>\n    </tr>\n    <tr>\n      <th>강북구</th>\n      <td>0.146974</td>\n      <td>0.529412</td>\n      <td>0.416667</td>\n      <td>0.133118</td>\n      <td>0.415445</td>\n      <td>82.352941</td>\n      <td>92.857143</td>\n      <td>100.000000</td>\n      <td>43.096234</td>\n      <td>88.637222</td>\n      <td>330192.0</td>\n      <td>748</td>\n    </tr>\n    <tr>\n      <th>강서구</th>\n      <td>0.461095</td>\n      <td>0.470588</td>\n      <td>0.416667</td>\n      <td>0.370649</td>\n      <td>0.614945</td>\n      <td>72.900763</td>\n      <td>100.000000</td>\n      <td>100.000000</td>\n      <td>60.114504</td>\n      <td>84.752105</td>\n      <td>603772.0</td>\n      <td>884</td>\n    </tr>\n    <tr>\n      <th>관악구</th>\n      <td>0.628242</td>\n      <td>0.411765</td>\n      <td>0.583333</td>\n      <td>0.589523</td>\n      <td>0.647479</td>\n      <td>69.062500</td>\n      <td>100.000000</td>\n      <td>88.888889</td>\n      <td>30.561715</td>\n      <td>80.109157</td>\n      <td>525515.0</td>\n      <td>1496</td>\n    </tr>\n  </tbody>\n</table>\n</div>"
     },
     "execution_count": 26,
     "metadata": {},
     "output_type": "execute_result"
    }
   ],
   "source": [
    "result_cctv = pd.read_csv('./../data/cctv_result.csv', index_col='구별')\n",
    "crime_norm[['인구수', 'CCTV']] = result_cctv[['인구수', '소계']]\n",
    "crime_norm.head()"
   ],
   "metadata": {
    "collapsed": false,
    "pycharm": {
     "name": "#%%\n"
    }
   }
  },
  {
   "cell_type": "code",
   "execution_count": 27,
   "outputs": [
    {
     "data": {
      "text/plain": "           강간        강도        살인        절도        폭력      강간검거율       강도검거율  \\\n구별                                                                             \n강남구  1.000000  0.941176  0.916667  1.000000  1.000000  77.728285   85.714286   \n강동구  0.155620  0.058824  0.166667  0.467528  0.437969  78.846154  100.000000   \n강북구  0.146974  0.529412  0.416667  0.133118  0.415445  82.352941   92.857143   \n강서구  0.461095  0.470588  0.416667  0.370649  0.614945  72.900763  100.000000   \n관악구  0.628242  0.411765  0.583333  0.589523  0.647479  69.062500  100.000000   \n\n          살인검거율      절도검거율      폭력검거율       인구수  CCTV        범죄  \n구별                                                               \n강남구   76.923077  42.857143  86.484594  570500.0  2780  4.857843  \n강동구   75.000000  33.347422  82.890855  453233.0   773  1.286607  \n강북구  100.000000  43.096234  88.637222  330192.0   748  1.641616  \n강서구  100.000000  60.114504  84.752105  603772.0   884  2.333944  \n관악구   88.888889  30.561715  80.109157  525515.0  1496  2.860342  ",
      "text/html": "<div>\n<style scoped>\n    .dataframe tbody tr th:only-of-type {\n        vertical-align: middle;\n    }\n\n    .dataframe tbody tr th {\n        vertical-align: top;\n    }\n\n    .dataframe thead th {\n        text-align: right;\n    }\n</style>\n<table border=\"1\" class=\"dataframe\">\n  <thead>\n    <tr style=\"text-align: right;\">\n      <th></th>\n      <th>강간</th>\n      <th>강도</th>\n      <th>살인</th>\n      <th>절도</th>\n      <th>폭력</th>\n      <th>강간검거율</th>\n      <th>강도검거율</th>\n      <th>살인검거율</th>\n      <th>절도검거율</th>\n      <th>폭력검거율</th>\n      <th>인구수</th>\n      <th>CCTV</th>\n      <th>범죄</th>\n    </tr>\n    <tr>\n      <th>구별</th>\n      <th></th>\n      <th></th>\n      <th></th>\n      <th></th>\n      <th></th>\n      <th></th>\n      <th></th>\n      <th></th>\n      <th></th>\n      <th></th>\n      <th></th>\n      <th></th>\n      <th></th>\n    </tr>\n  </thead>\n  <tbody>\n    <tr>\n      <th>강남구</th>\n      <td>1.000000</td>\n      <td>0.941176</td>\n      <td>0.916667</td>\n      <td>1.000000</td>\n      <td>1.000000</td>\n      <td>77.728285</td>\n      <td>85.714286</td>\n      <td>76.923077</td>\n      <td>42.857143</td>\n      <td>86.484594</td>\n      <td>570500.0</td>\n      <td>2780</td>\n      <td>4.857843</td>\n    </tr>\n    <tr>\n      <th>강동구</th>\n      <td>0.155620</td>\n      <td>0.058824</td>\n      <td>0.166667</td>\n      <td>0.467528</td>\n      <td>0.437969</td>\n      <td>78.846154</td>\n      <td>100.000000</td>\n      <td>75.000000</td>\n      <td>33.347422</td>\n      <td>82.890855</td>\n      <td>453233.0</td>\n      <td>773</td>\n      <td>1.286607</td>\n    </tr>\n    <tr>\n      <th>강북구</th>\n      <td>0.146974</td>\n      <td>0.529412</td>\n      <td>0.416667</td>\n      <td>0.133118</td>\n      <td>0.415445</td>\n      <td>82.352941</td>\n      <td>92.857143</td>\n      <td>100.000000</td>\n      <td>43.096234</td>\n      <td>88.637222</td>\n      <td>330192.0</td>\n      <td>748</td>\n      <td>1.641616</td>\n    </tr>\n    <tr>\n      <th>강서구</th>\n      <td>0.461095</td>\n      <td>0.470588</td>\n      <td>0.416667</td>\n      <td>0.370649</td>\n      <td>0.614945</td>\n      <td>72.900763</td>\n      <td>100.000000</td>\n      <td>100.000000</td>\n      <td>60.114504</td>\n      <td>84.752105</td>\n      <td>603772.0</td>\n      <td>884</td>\n      <td>2.333944</td>\n    </tr>\n    <tr>\n      <th>관악구</th>\n      <td>0.628242</td>\n      <td>0.411765</td>\n      <td>0.583333</td>\n      <td>0.589523</td>\n      <td>0.647479</td>\n      <td>69.062500</td>\n      <td>100.000000</td>\n      <td>88.888889</td>\n      <td>30.561715</td>\n      <td>80.109157</td>\n      <td>525515.0</td>\n      <td>1496</td>\n      <td>2.860342</td>\n    </tr>\n  </tbody>\n</table>\n</div>"
     },
     "execution_count": 27,
     "metadata": {},
     "output_type": "execute_result"
    }
   ],
   "source": [
    "col = ['강간', '강도', '살인', '절도', '폭력']\n",
    "crime_norm['범죄'] = np.sum(crime_norm[col], axis=1)\n",
    "crime_norm.head()"
   ],
   "metadata": {
    "collapsed": false,
    "pycharm": {
     "name": "#%%\n"
    }
   }
  },
  {
   "cell_type": "code",
   "execution_count": 28,
   "outputs": [
    {
     "data": {
      "text/plain": "            강간        강도        살인        절도        폭력       강간검거율  \\\n구별                                                                   \n강남구   1.000000  0.941176  0.916667  1.000000  1.000000   77.728285   \n강동구   0.155620  0.058824  0.166667  0.467528  0.437969   78.846154   \n강북구   0.146974  0.529412  0.416667  0.133118  0.415445   82.352941   \n강서구   0.461095  0.470588  0.416667  0.370649  0.614945   72.900763   \n관악구   0.628242  0.411765  0.583333  0.589523  0.647479   69.062500   \n광진구   0.397695  0.529412  0.166667  0.704342  0.406864   91.666667   \n구로구   0.515850  0.588235  0.500000  0.456405  0.543439   58.362989   \n금천구   0.141210  0.058824  0.083333  0.180840  0.202717   80.794702   \n노원구   0.273775  0.117647  0.666667  0.405454  0.441902   61.421320   \n도봉구   0.000000  0.235294  0.083333  0.000000  0.000000  100.000000   \n동대문구  0.204611  0.470588  0.250000  0.329386  0.379335   84.393064   \n동작구   0.527378  0.235294  0.250000  0.287765  0.151233   48.771930   \n마포구   0.553314  0.529412  0.500000  0.535343  0.534859   84.013605   \n서대문구  0.149856  0.000000  0.000000  0.268748  0.203432   80.519481   \n서초구   0.838617  0.235294  0.500000  0.564047  0.326064   63.358779   \n성동구   0.069164  0.235294  0.166667  0.195192  0.044691   94.444444   \n성북구   0.138329  0.000000  0.250000  0.259060  0.258134   82.666667   \n송파구   0.340058  0.470588  0.750000  0.780768  0.646407   80.909091   \n양천구   0.051873  0.058824  0.083333  0.296735  0.365391   87.500000   \n영등포구  0.556196  1.000000  1.000000  0.682095  0.745442   62.033898   \n용산구   0.265130  0.529412  0.250000  0.177252  0.201287   89.175258   \n은평구   0.184438  0.235294  0.083333  0.305346  0.416875   84.939759   \n종로구   0.314121  0.352941  0.333333  0.402225  0.288166   76.303318   \n중구    0.195965  0.235294  0.083333  0.532831  0.263497   65.294118   \n중랑구   0.244957  0.352941  0.916667  0.384643  0.486235   79.144385   \n\n           강도검거율       살인검거율      절도검거율      폭력검거율       인구수  CCTV        범죄  \\\n구별                                                                             \n강남구    85.714286   76.923077  42.857143  86.484594  570500.0  2780  4.857843   \n강동구   100.000000   75.000000  33.347422  82.890855  453233.0   773  1.286607   \n강북구    92.857143  100.000000  43.096234  88.637222  330192.0   748  1.641616   \n강서구   100.000000  100.000000  60.114504  84.752105  603772.0   884  2.333944   \n관악구   100.000000   88.888889  30.561715  80.109157  525515.0  1496  2.860342   \n광진구   100.000000  100.000000  42.200925  83.047619  372164.0   707  2.204979   \n구로구    73.333333   75.000000  38.072805  80.877951  447874.0  1561  2.603930   \n금천구   100.000000  100.000000  56.668794  86.465433  255082.0  1015  0.666924   \n노원구   100.000000  100.000000  36.525308  85.530665  569384.0  1265  1.905445   \n도봉구   100.000000  100.000000  44.967074  87.626093  348646.0   485  0.318627   \n동대문구  100.000000  100.000000  41.090358  87.401884  369496.0  1294  1.633921   \n동작구    55.555556  100.000000  35.442359  83.089005  412520.0  1091  1.451670   \n마포구    71.428571  100.000000  31.819961  84.445189  389649.0   574  2.652927   \n서대문구   80.000000  100.000000  40.728477  83.219844  327163.0   962  0.622036   \n서초구    66.666667   75.000000  41.404175  87.453105  450310.0  1930  2.464022   \n성동구    88.888889  100.000000  37.149969  86.538462  311244.0  1062  0.711008   \n성북구    80.000000  100.000000  41.512605  83.974649  461260.0  1464  0.905522   \n송파구    76.923077   90.909091  34.856437  84.552352  667483.0   618  2.987821   \n양천구    50.000000  100.000000  35.555556  80.908729  479978.0  2034  0.856156   \n영등포구   90.909091   85.714286  32.995951  82.894737  402985.0   904  3.983733   \n용산구   100.000000  100.000000  37.700706  83.121951  244203.0  1624  1.423080   \n은평구    66.666667  100.000000  37.147335  86.920467  494388.0  1873  1.225287   \n종로구    81.818182   83.333333  38.324176  84.212822  162820.0  1002  1.690786   \n중구     66.666667   66.666667  33.712716  88.309353  133240.0   671  1.310920   \n중랑구    81.818182   92.307692  38.829040  84.545135  414503.0   660  2.385443   \n\n              검거  \n구별                \n강남구   369.707384  \n강동구   370.084431  \n강북구   406.943540  \n강서구   417.767372  \n관악구   368.622261  \n광진구   416.915211  \n구로구   325.647079  \n금천구   423.928929  \n노원구   383.477292  \n도봉구   432.593167  \n동대문구  412.885306  \n동작구   322.858850  \n마포구   371.707327  \n서대문구  384.467802  \n서초구   333.882725  \n성동구   407.021764  \n성북구   388.153921  \n송파구   368.150048  \n양천구   353.964284  \n영등포구  354.547963  \n용산구   409.997915  \n은평구   375.674229  \n종로구   363.991830  \n중구    320.649519  \n중랑구   376.644434  ",
      "text/html": "<div>\n<style scoped>\n    .dataframe tbody tr th:only-of-type {\n        vertical-align: middle;\n    }\n\n    .dataframe tbody tr th {\n        vertical-align: top;\n    }\n\n    .dataframe thead th {\n        text-align: right;\n    }\n</style>\n<table border=\"1\" class=\"dataframe\">\n  <thead>\n    <tr style=\"text-align: right;\">\n      <th></th>\n      <th>강간</th>\n      <th>강도</th>\n      <th>살인</th>\n      <th>절도</th>\n      <th>폭력</th>\n      <th>강간검거율</th>\n      <th>강도검거율</th>\n      <th>살인검거율</th>\n      <th>절도검거율</th>\n      <th>폭력검거율</th>\n      <th>인구수</th>\n      <th>CCTV</th>\n      <th>범죄</th>\n      <th>검거</th>\n    </tr>\n    <tr>\n      <th>구별</th>\n      <th></th>\n      <th></th>\n      <th></th>\n      <th></th>\n      <th></th>\n      <th></th>\n      <th></th>\n      <th></th>\n      <th></th>\n      <th></th>\n      <th></th>\n      <th></th>\n      <th></th>\n      <th></th>\n    </tr>\n  </thead>\n  <tbody>\n    <tr>\n      <th>강남구</th>\n      <td>1.000000</td>\n      <td>0.941176</td>\n      <td>0.916667</td>\n      <td>1.000000</td>\n      <td>1.000000</td>\n      <td>77.728285</td>\n      <td>85.714286</td>\n      <td>76.923077</td>\n      <td>42.857143</td>\n      <td>86.484594</td>\n      <td>570500.0</td>\n      <td>2780</td>\n      <td>4.857843</td>\n      <td>369.707384</td>\n    </tr>\n    <tr>\n      <th>강동구</th>\n      <td>0.155620</td>\n      <td>0.058824</td>\n      <td>0.166667</td>\n      <td>0.467528</td>\n      <td>0.437969</td>\n      <td>78.846154</td>\n      <td>100.000000</td>\n      <td>75.000000</td>\n      <td>33.347422</td>\n      <td>82.890855</td>\n      <td>453233.0</td>\n      <td>773</td>\n      <td>1.286607</td>\n      <td>370.084431</td>\n    </tr>\n    <tr>\n      <th>강북구</th>\n      <td>0.146974</td>\n      <td>0.529412</td>\n      <td>0.416667</td>\n      <td>0.133118</td>\n      <td>0.415445</td>\n      <td>82.352941</td>\n      <td>92.857143</td>\n      <td>100.000000</td>\n      <td>43.096234</td>\n      <td>88.637222</td>\n      <td>330192.0</td>\n      <td>748</td>\n      <td>1.641616</td>\n      <td>406.943540</td>\n    </tr>\n    <tr>\n      <th>강서구</th>\n      <td>0.461095</td>\n      <td>0.470588</td>\n      <td>0.416667</td>\n      <td>0.370649</td>\n      <td>0.614945</td>\n      <td>72.900763</td>\n      <td>100.000000</td>\n      <td>100.000000</td>\n      <td>60.114504</td>\n      <td>84.752105</td>\n      <td>603772.0</td>\n      <td>884</td>\n      <td>2.333944</td>\n      <td>417.767372</td>\n    </tr>\n    <tr>\n      <th>관악구</th>\n      <td>0.628242</td>\n      <td>0.411765</td>\n      <td>0.583333</td>\n      <td>0.589523</td>\n      <td>0.647479</td>\n      <td>69.062500</td>\n      <td>100.000000</td>\n      <td>88.888889</td>\n      <td>30.561715</td>\n      <td>80.109157</td>\n      <td>525515.0</td>\n      <td>1496</td>\n      <td>2.860342</td>\n      <td>368.622261</td>\n    </tr>\n    <tr>\n      <th>광진구</th>\n      <td>0.397695</td>\n      <td>0.529412</td>\n      <td>0.166667</td>\n      <td>0.704342</td>\n      <td>0.406864</td>\n      <td>91.666667</td>\n      <td>100.000000</td>\n      <td>100.000000</td>\n      <td>42.200925</td>\n      <td>83.047619</td>\n      <td>372164.0</td>\n      <td>707</td>\n      <td>2.204979</td>\n      <td>416.915211</td>\n    </tr>\n    <tr>\n      <th>구로구</th>\n      <td>0.515850</td>\n      <td>0.588235</td>\n      <td>0.500000</td>\n      <td>0.456405</td>\n      <td>0.543439</td>\n      <td>58.362989</td>\n      <td>73.333333</td>\n      <td>75.000000</td>\n      <td>38.072805</td>\n      <td>80.877951</td>\n      <td>447874.0</td>\n      <td>1561</td>\n      <td>2.603930</td>\n      <td>325.647079</td>\n    </tr>\n    <tr>\n      <th>금천구</th>\n      <td>0.141210</td>\n      <td>0.058824</td>\n      <td>0.083333</td>\n      <td>0.180840</td>\n      <td>0.202717</td>\n      <td>80.794702</td>\n      <td>100.000000</td>\n      <td>100.000000</td>\n      <td>56.668794</td>\n      <td>86.465433</td>\n      <td>255082.0</td>\n      <td>1015</td>\n      <td>0.666924</td>\n      <td>423.928929</td>\n    </tr>\n    <tr>\n      <th>노원구</th>\n      <td>0.273775</td>\n      <td>0.117647</td>\n      <td>0.666667</td>\n      <td>0.405454</td>\n      <td>0.441902</td>\n      <td>61.421320</td>\n      <td>100.000000</td>\n      <td>100.000000</td>\n      <td>36.525308</td>\n      <td>85.530665</td>\n      <td>569384.0</td>\n      <td>1265</td>\n      <td>1.905445</td>\n      <td>383.477292</td>\n    </tr>\n    <tr>\n      <th>도봉구</th>\n      <td>0.000000</td>\n      <td>0.235294</td>\n      <td>0.083333</td>\n      <td>0.000000</td>\n      <td>0.000000</td>\n      <td>100.000000</td>\n      <td>100.000000</td>\n      <td>100.000000</td>\n      <td>44.967074</td>\n      <td>87.626093</td>\n      <td>348646.0</td>\n      <td>485</td>\n      <td>0.318627</td>\n      <td>432.593167</td>\n    </tr>\n    <tr>\n      <th>동대문구</th>\n      <td>0.204611</td>\n      <td>0.470588</td>\n      <td>0.250000</td>\n      <td>0.329386</td>\n      <td>0.379335</td>\n      <td>84.393064</td>\n      <td>100.000000</td>\n      <td>100.000000</td>\n      <td>41.090358</td>\n      <td>87.401884</td>\n      <td>369496.0</td>\n      <td>1294</td>\n      <td>1.633921</td>\n      <td>412.885306</td>\n    </tr>\n    <tr>\n      <th>동작구</th>\n      <td>0.527378</td>\n      <td>0.235294</td>\n      <td>0.250000</td>\n      <td>0.287765</td>\n      <td>0.151233</td>\n      <td>48.771930</td>\n      <td>55.555556</td>\n      <td>100.000000</td>\n      <td>35.442359</td>\n      <td>83.089005</td>\n      <td>412520.0</td>\n      <td>1091</td>\n      <td>1.451670</td>\n      <td>322.858850</td>\n    </tr>\n    <tr>\n      <th>마포구</th>\n      <td>0.553314</td>\n      <td>0.529412</td>\n      <td>0.500000</td>\n      <td>0.535343</td>\n      <td>0.534859</td>\n      <td>84.013605</td>\n      <td>71.428571</td>\n      <td>100.000000</td>\n      <td>31.819961</td>\n      <td>84.445189</td>\n      <td>389649.0</td>\n      <td>574</td>\n      <td>2.652927</td>\n      <td>371.707327</td>\n    </tr>\n    <tr>\n      <th>서대문구</th>\n      <td>0.149856</td>\n      <td>0.000000</td>\n      <td>0.000000</td>\n      <td>0.268748</td>\n      <td>0.203432</td>\n      <td>80.519481</td>\n      <td>80.000000</td>\n      <td>100.000000</td>\n      <td>40.728477</td>\n      <td>83.219844</td>\n      <td>327163.0</td>\n      <td>962</td>\n      <td>0.622036</td>\n      <td>384.467802</td>\n    </tr>\n    <tr>\n      <th>서초구</th>\n      <td>0.838617</td>\n      <td>0.235294</td>\n      <td>0.500000</td>\n      <td>0.564047</td>\n      <td>0.326064</td>\n      <td>63.358779</td>\n      <td>66.666667</td>\n      <td>75.000000</td>\n      <td>41.404175</td>\n      <td>87.453105</td>\n      <td>450310.0</td>\n      <td>1930</td>\n      <td>2.464022</td>\n      <td>333.882725</td>\n    </tr>\n    <tr>\n      <th>성동구</th>\n      <td>0.069164</td>\n      <td>0.235294</td>\n      <td>0.166667</td>\n      <td>0.195192</td>\n      <td>0.044691</td>\n      <td>94.444444</td>\n      <td>88.888889</td>\n      <td>100.000000</td>\n      <td>37.149969</td>\n      <td>86.538462</td>\n      <td>311244.0</td>\n      <td>1062</td>\n      <td>0.711008</td>\n      <td>407.021764</td>\n    </tr>\n    <tr>\n      <th>성북구</th>\n      <td>0.138329</td>\n      <td>0.000000</td>\n      <td>0.250000</td>\n      <td>0.259060</td>\n      <td>0.258134</td>\n      <td>82.666667</td>\n      <td>80.000000</td>\n      <td>100.000000</td>\n      <td>41.512605</td>\n      <td>83.974649</td>\n      <td>461260.0</td>\n      <td>1464</td>\n      <td>0.905522</td>\n      <td>388.153921</td>\n    </tr>\n    <tr>\n      <th>송파구</th>\n      <td>0.340058</td>\n      <td>0.470588</td>\n      <td>0.750000</td>\n      <td>0.780768</td>\n      <td>0.646407</td>\n      <td>80.909091</td>\n      <td>76.923077</td>\n      <td>90.909091</td>\n      <td>34.856437</td>\n      <td>84.552352</td>\n      <td>667483.0</td>\n      <td>618</td>\n      <td>2.987821</td>\n      <td>368.150048</td>\n    </tr>\n    <tr>\n      <th>양천구</th>\n      <td>0.051873</td>\n      <td>0.058824</td>\n      <td>0.083333</td>\n      <td>0.296735</td>\n      <td>0.365391</td>\n      <td>87.500000</td>\n      <td>50.000000</td>\n      <td>100.000000</td>\n      <td>35.555556</td>\n      <td>80.908729</td>\n      <td>479978.0</td>\n      <td>2034</td>\n      <td>0.856156</td>\n      <td>353.964284</td>\n    </tr>\n    <tr>\n      <th>영등포구</th>\n      <td>0.556196</td>\n      <td>1.000000</td>\n      <td>1.000000</td>\n      <td>0.682095</td>\n      <td>0.745442</td>\n      <td>62.033898</td>\n      <td>90.909091</td>\n      <td>85.714286</td>\n      <td>32.995951</td>\n      <td>82.894737</td>\n      <td>402985.0</td>\n      <td>904</td>\n      <td>3.983733</td>\n      <td>354.547963</td>\n    </tr>\n    <tr>\n      <th>용산구</th>\n      <td>0.265130</td>\n      <td>0.529412</td>\n      <td>0.250000</td>\n      <td>0.177252</td>\n      <td>0.201287</td>\n      <td>89.175258</td>\n      <td>100.000000</td>\n      <td>100.000000</td>\n      <td>37.700706</td>\n      <td>83.121951</td>\n      <td>244203.0</td>\n      <td>1624</td>\n      <td>1.423080</td>\n      <td>409.997915</td>\n    </tr>\n    <tr>\n      <th>은평구</th>\n      <td>0.184438</td>\n      <td>0.235294</td>\n      <td>0.083333</td>\n      <td>0.305346</td>\n      <td>0.416875</td>\n      <td>84.939759</td>\n      <td>66.666667</td>\n      <td>100.000000</td>\n      <td>37.147335</td>\n      <td>86.920467</td>\n      <td>494388.0</td>\n      <td>1873</td>\n      <td>1.225287</td>\n      <td>375.674229</td>\n    </tr>\n    <tr>\n      <th>종로구</th>\n      <td>0.314121</td>\n      <td>0.352941</td>\n      <td>0.333333</td>\n      <td>0.402225</td>\n      <td>0.288166</td>\n      <td>76.303318</td>\n      <td>81.818182</td>\n      <td>83.333333</td>\n      <td>38.324176</td>\n      <td>84.212822</td>\n      <td>162820.0</td>\n      <td>1002</td>\n      <td>1.690786</td>\n      <td>363.991830</td>\n    </tr>\n    <tr>\n      <th>중구</th>\n      <td>0.195965</td>\n      <td>0.235294</td>\n      <td>0.083333</td>\n      <td>0.532831</td>\n      <td>0.263497</td>\n      <td>65.294118</td>\n      <td>66.666667</td>\n      <td>66.666667</td>\n      <td>33.712716</td>\n      <td>88.309353</td>\n      <td>133240.0</td>\n      <td>671</td>\n      <td>1.310920</td>\n      <td>320.649519</td>\n    </tr>\n    <tr>\n      <th>중랑구</th>\n      <td>0.244957</td>\n      <td>0.352941</td>\n      <td>0.916667</td>\n      <td>0.384643</td>\n      <td>0.486235</td>\n      <td>79.144385</td>\n      <td>81.818182</td>\n      <td>92.307692</td>\n      <td>38.829040</td>\n      <td>84.545135</td>\n      <td>414503.0</td>\n      <td>660</td>\n      <td>2.385443</td>\n      <td>376.644434</td>\n    </tr>\n  </tbody>\n</table>\n</div>"
     },
     "execution_count": 28,
     "metadata": {},
     "output_type": "execute_result"
    }
   ],
   "source": [
    "col = ['강간검거율', '강도검거율', '살인검거율', '절도검거율', '폭력검거율']\n",
    "crime_norm['검거'] = np.sum(crime_norm[col], axis=1)\n",
    "crime_norm"
   ],
   "metadata": {
    "collapsed": false,
    "pycharm": {
     "name": "#%%\n"
    }
   }
  },
  {
   "cell_type": "markdown",
   "source": [],
   "metadata": {
    "collapsed": false
   }
  },
  {
   "cell_type": "code",
   "execution_count": null,
   "outputs": [],
   "source": [],
   "metadata": {
    "collapsed": false,
    "pycharm": {
     "name": "#%%\n"
    }
   }
  }
 ],
 "metadata": {
  "kernelspec": {
   "display_name": "Python 3",
   "language": "python",
   "name": "python3"
  },
  "language_info": {
   "codemirror_mode": {
    "name": "ipython",
    "version": 2
   },
   "file_extension": ".py",
   "mimetype": "text/x-python",
   "name": "python",
   "nbconvert_exporter": "python",
   "pygments_lexer": "ipython2",
   "version": "2.7.6"
  }
 },
 "nbformat": 4,
 "nbformat_minor": 0
}