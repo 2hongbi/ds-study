{
 "cells": [
  {
   "cell_type": "code",
   "execution_count": 1,
   "metadata": {
    "collapsed": true
   },
   "outputs": [],
   "source": [
    "import pandas as pd\n",
    "import numpy as np"
   ]
  },
  {
   "cell_type": "code",
   "execution_count": 4,
   "outputs": [
    {
     "data": {
      "text/plain": "0    1.0\n1    3.0\n2    5.0\n3    NaN\n4    6.0\n5    8.0\ndtype: float64"
     },
     "execution_count": 4,
     "metadata": {},
     "output_type": "execute_result"
    }
   ],
   "source": [
    "# Series 생성\n",
    "s = pd.Series([1, 3, 5, np.nan, 6, 8])\n",
    "s"
   ],
   "metadata": {
    "collapsed": false,
    "pycharm": {
     "name": "#%%\n"
    }
   }
  },
  {
   "cell_type": "code",
   "execution_count": 3,
   "outputs": [
    {
     "data": {
      "text/plain": "DatetimeIndex(['2022-01-01', '2022-01-02', '2022-01-03', '2022-01-04',\n               '2022-01-05', '2022-01-06'],\n              dtype='datetime64[ns]', freq='D')"
     },
     "execution_count": 3,
     "metadata": {},
     "output_type": "execute_result"
    }
   ],
   "source": [
    "# 날짜 형의 데이텅 : data_range, periods : 6일간\n",
    "dates = pd.date_range('20220101', periods=6)\n",
    "dates"
   ],
   "metadata": {
    "collapsed": false,
    "pycharm": {
     "name": "#%%\n"
    }
   }
  },
  {
   "cell_type": "code",
   "execution_count": 5,
   "outputs": [
    {
     "data": {
      "text/plain": "                   A         B         C         D\n2022-01-01  0.130354  1.500406  0.173290 -1.784245\n2022-01-02  1.713190  0.499851  0.156170  0.066028\n2022-01-03 -0.446603  0.940961  1.294809  0.993898\n2022-01-04  0.858115  1.311840  1.174808 -0.261098\n2022-01-05  0.776659  0.415124 -0.009434  0.237204\n2022-01-06 -0.925415 -0.033729 -0.576099 -0.177671",
      "text/html": "<div>\n<style scoped>\n    .dataframe tbody tr th:only-of-type {\n        vertical-align: middle;\n    }\n\n    .dataframe tbody tr th {\n        vertical-align: top;\n    }\n\n    .dataframe thead th {\n        text-align: right;\n    }\n</style>\n<table border=\"1\" class=\"dataframe\">\n  <thead>\n    <tr style=\"text-align: right;\">\n      <th></th>\n      <th>A</th>\n      <th>B</th>\n      <th>C</th>\n      <th>D</th>\n    </tr>\n  </thead>\n  <tbody>\n    <tr>\n      <th>2022-01-01</th>\n      <td>0.130354</td>\n      <td>1.500406</td>\n      <td>0.173290</td>\n      <td>-1.784245</td>\n    </tr>\n    <tr>\n      <th>2022-01-02</th>\n      <td>1.713190</td>\n      <td>0.499851</td>\n      <td>0.156170</td>\n      <td>0.066028</td>\n    </tr>\n    <tr>\n      <th>2022-01-03</th>\n      <td>-0.446603</td>\n      <td>0.940961</td>\n      <td>1.294809</td>\n      <td>0.993898</td>\n    </tr>\n    <tr>\n      <th>2022-01-04</th>\n      <td>0.858115</td>\n      <td>1.311840</td>\n      <td>1.174808</td>\n      <td>-0.261098</td>\n    </tr>\n    <tr>\n      <th>2022-01-05</th>\n      <td>0.776659</td>\n      <td>0.415124</td>\n      <td>-0.009434</td>\n      <td>0.237204</td>\n    </tr>\n    <tr>\n      <th>2022-01-06</th>\n      <td>-0.925415</td>\n      <td>-0.033729</td>\n      <td>-0.576099</td>\n      <td>-0.177671</td>\n    </tr>\n  </tbody>\n</table>\n</div>"
     },
     "execution_count": 5,
     "metadata": {},
     "output_type": "execute_result"
    }
   ],
   "source": [
    "df = pd.DataFrame(np.random.randn(6, 4), index=dates, columns=['A', 'B', 'C', 'D'])\n",
    "df"
   ],
   "metadata": {
    "collapsed": false,
    "pycharm": {
     "name": "#%%\n"
    }
   }
  },
  {
   "cell_type": "code",
   "execution_count": 6,
   "outputs": [
    {
     "data": {
      "text/plain": "                   A         B         C         D\n2022-01-01  0.130354  1.500406  0.173290 -1.784245\n2022-01-02  1.713190  0.499851  0.156170  0.066028\n2022-01-03 -0.446603  0.940961  1.294809  0.993898",
      "text/html": "<div>\n<style scoped>\n    .dataframe tbody tr th:only-of-type {\n        vertical-align: middle;\n    }\n\n    .dataframe tbody tr th {\n        vertical-align: top;\n    }\n\n    .dataframe thead th {\n        text-align: right;\n    }\n</style>\n<table border=\"1\" class=\"dataframe\">\n  <thead>\n    <tr style=\"text-align: right;\">\n      <th></th>\n      <th>A</th>\n      <th>B</th>\n      <th>C</th>\n      <th>D</th>\n    </tr>\n  </thead>\n  <tbody>\n    <tr>\n      <th>2022-01-01</th>\n      <td>0.130354</td>\n      <td>1.500406</td>\n      <td>0.173290</td>\n      <td>-1.784245</td>\n    </tr>\n    <tr>\n      <th>2022-01-02</th>\n      <td>1.713190</td>\n      <td>0.499851</td>\n      <td>0.156170</td>\n      <td>0.066028</td>\n    </tr>\n    <tr>\n      <th>2022-01-03</th>\n      <td>-0.446603</td>\n      <td>0.940961</td>\n      <td>1.294809</td>\n      <td>0.993898</td>\n    </tr>\n  </tbody>\n</table>\n</div>"
     },
     "execution_count": 6,
     "metadata": {},
     "output_type": "execute_result"
    }
   ],
   "source": [
    "# head : 기본적으로 첫 5행을 보여줌\n",
    "df.head(3)"
   ],
   "metadata": {
    "collapsed": false,
    "pycharm": {
     "name": "#%%\n"
    }
   }
  },
  {
   "cell_type": "code",
   "execution_count": 7,
   "outputs": [
    {
     "data": {
      "text/plain": "DatetimeIndex(['2022-01-01', '2022-01-02', '2022-01-03', '2022-01-04',\n               '2022-01-05', '2022-01-06'],\n              dtype='datetime64[ns]', freq='D')"
     },
     "execution_count": 7,
     "metadata": {},
     "output_type": "execute_result"
    }
   ],
   "source": [
    "df.index"
   ],
   "metadata": {
    "collapsed": false,
    "pycharm": {
     "name": "#%%\n"
    }
   }
  },
  {
   "cell_type": "code",
   "execution_count": 8,
   "outputs": [
    {
     "data": {
      "text/plain": "Index(['A', 'B', 'C', 'D'], dtype='object')"
     },
     "execution_count": 8,
     "metadata": {},
     "output_type": "execute_result"
    }
   ],
   "source": [
    "df.columns"
   ],
   "metadata": {
    "collapsed": false,
    "pycharm": {
     "name": "#%%\n"
    }
   }
  },
  {
   "cell_type": "code",
   "execution_count": 9,
   "outputs": [
    {
     "data": {
      "text/plain": "array([[ 0.13035414,  1.50040573,  0.17329026, -1.78424483],\n       [ 1.71319008,  0.49985097,  0.15617017,  0.06602839],\n       [-0.44660293,  0.94096097,  1.29480883,  0.99389843],\n       [ 0.85811534,  1.31184029,  1.17480779, -0.26109759],\n       [ 0.77665872,  0.41512424, -0.00943443,  0.23720353],\n       [-0.92541459, -0.03372924, -0.57609942, -0.17767136]])"
     },
     "execution_count": 9,
     "metadata": {},
     "output_type": "execute_result"
    }
   ],
   "source": [
    "df.values"
   ],
   "metadata": {
    "collapsed": false,
    "pycharm": {
     "name": "#%%\n"
    }
   }
  },
  {
   "cell_type": "code",
   "execution_count": 10,
   "outputs": [
    {
     "name": "stdout",
     "output_type": "stream",
     "text": [
      "<class 'pandas.core.frame.DataFrame'>\n",
      "DatetimeIndex: 6 entries, 2022-01-01 to 2022-01-06\n",
      "Freq: D\n",
      "Data columns (total 4 columns):\n",
      " #   Column  Non-Null Count  Dtype  \n",
      "---  ------  --------------  -----  \n",
      " 0   A       6 non-null      float64\n",
      " 1   B       6 non-null      float64\n",
      " 2   C       6 non-null      float64\n",
      " 3   D       6 non-null      float64\n",
      "dtypes: float64(4)\n",
      "memory usage: 240.0 bytes\n"
     ]
    }
   ],
   "source": [
    "# df.info() : df 변수 dataframe의 개요를 알 수 있음\n",
    "df.info()"
   ],
   "metadata": {
    "collapsed": false,
    "pycharm": {
     "name": "#%%\n"
    }
   }
  },
  {
   "cell_type": "code",
   "execution_count": 11,
   "outputs": [
    {
     "data": {
      "text/plain": "              A         B         C         D\ncount  6.000000  6.000000  6.000000  6.000000\nmean   0.351050  0.772409  0.368924 -0.154314\nstd    0.960000  0.583297  0.724772  0.915298\nmin   -0.925415 -0.033729 -0.576099 -1.784245\n25%   -0.302364  0.436306  0.031967 -0.240241\n50%    0.453506  0.720406  0.164730 -0.055821\n75%    0.837751  1.219120  0.924428  0.194410\nmax    1.713190  1.500406  1.294809  0.993898",
      "text/html": "<div>\n<style scoped>\n    .dataframe tbody tr th:only-of-type {\n        vertical-align: middle;\n    }\n\n    .dataframe tbody tr th {\n        vertical-align: top;\n    }\n\n    .dataframe thead th {\n        text-align: right;\n    }\n</style>\n<table border=\"1\" class=\"dataframe\">\n  <thead>\n    <tr style=\"text-align: right;\">\n      <th></th>\n      <th>A</th>\n      <th>B</th>\n      <th>C</th>\n      <th>D</th>\n    </tr>\n  </thead>\n  <tbody>\n    <tr>\n      <th>count</th>\n      <td>6.000000</td>\n      <td>6.000000</td>\n      <td>6.000000</td>\n      <td>6.000000</td>\n    </tr>\n    <tr>\n      <th>mean</th>\n      <td>0.351050</td>\n      <td>0.772409</td>\n      <td>0.368924</td>\n      <td>-0.154314</td>\n    </tr>\n    <tr>\n      <th>std</th>\n      <td>0.960000</td>\n      <td>0.583297</td>\n      <td>0.724772</td>\n      <td>0.915298</td>\n    </tr>\n    <tr>\n      <th>min</th>\n      <td>-0.925415</td>\n      <td>-0.033729</td>\n      <td>-0.576099</td>\n      <td>-1.784245</td>\n    </tr>\n    <tr>\n      <th>25%</th>\n      <td>-0.302364</td>\n      <td>0.436306</td>\n      <td>0.031967</td>\n      <td>-0.240241</td>\n    </tr>\n    <tr>\n      <th>50%</th>\n      <td>0.453506</td>\n      <td>0.720406</td>\n      <td>0.164730</td>\n      <td>-0.055821</td>\n    </tr>\n    <tr>\n      <th>75%</th>\n      <td>0.837751</td>\n      <td>1.219120</td>\n      <td>0.924428</td>\n      <td>0.194410</td>\n    </tr>\n    <tr>\n      <th>max</th>\n      <td>1.713190</td>\n      <td>1.500406</td>\n      <td>1.294809</td>\n      <td>0.993898</td>\n    </tr>\n  </tbody>\n</table>\n</div>"
     },
     "execution_count": 11,
     "metadata": {},
     "output_type": "execute_result"
    }
   ],
   "source": [
    "# df.describe() : 통계적 개요 확인 가능\n",
    "df.describe()"
   ],
   "metadata": {
    "collapsed": false,
    "pycharm": {
     "name": "#%%\n"
    }
   }
  },
  {
   "cell_type": "code",
   "execution_count": 12,
   "outputs": [
    {
     "data": {
      "text/plain": "                   A         B         C         D\n2022-01-06 -0.925415 -0.033729 -0.576099 -0.177671\n2022-01-05  0.776659  0.415124 -0.009434  0.237204\n2022-01-02  1.713190  0.499851  0.156170  0.066028\n2022-01-03 -0.446603  0.940961  1.294809  0.993898\n2022-01-04  0.858115  1.311840  1.174808 -0.261098\n2022-01-01  0.130354  1.500406  0.173290 -1.784245",
      "text/html": "<div>\n<style scoped>\n    .dataframe tbody tr th:only-of-type {\n        vertical-align: middle;\n    }\n\n    .dataframe tbody tr th {\n        vertical-align: top;\n    }\n\n    .dataframe thead th {\n        text-align: right;\n    }\n</style>\n<table border=\"1\" class=\"dataframe\">\n  <thead>\n    <tr style=\"text-align: right;\">\n      <th></th>\n      <th>A</th>\n      <th>B</th>\n      <th>C</th>\n      <th>D</th>\n    </tr>\n  </thead>\n  <tbody>\n    <tr>\n      <th>2022-01-06</th>\n      <td>-0.925415</td>\n      <td>-0.033729</td>\n      <td>-0.576099</td>\n      <td>-0.177671</td>\n    </tr>\n    <tr>\n      <th>2022-01-05</th>\n      <td>0.776659</td>\n      <td>0.415124</td>\n      <td>-0.009434</td>\n      <td>0.237204</td>\n    </tr>\n    <tr>\n      <th>2022-01-02</th>\n      <td>1.713190</td>\n      <td>0.499851</td>\n      <td>0.156170</td>\n      <td>0.066028</td>\n    </tr>\n    <tr>\n      <th>2022-01-03</th>\n      <td>-0.446603</td>\n      <td>0.940961</td>\n      <td>1.294809</td>\n      <td>0.993898</td>\n    </tr>\n    <tr>\n      <th>2022-01-04</th>\n      <td>0.858115</td>\n      <td>1.311840</td>\n      <td>1.174808</td>\n      <td>-0.261098</td>\n    </tr>\n    <tr>\n      <th>2022-01-01</th>\n      <td>0.130354</td>\n      <td>1.500406</td>\n      <td>0.173290</td>\n      <td>-1.784245</td>\n    </tr>\n  </tbody>\n</table>\n</div>"
     },
     "execution_count": 12,
     "metadata": {},
     "output_type": "execute_result"
    }
   ],
   "source": [
    "# sort_values : by로 지정된 컬럼 기준으로 정렬. ascending : 내림차순 / 오름차순 정렬\n",
    "df.sort_values(by='B', ascending=True)"
   ],
   "metadata": {
    "collapsed": false,
    "pycharm": {
     "name": "#%%\n"
    }
   }
  },
  {
   "cell_type": "code",
   "execution_count": 13,
   "outputs": [
    {
     "data": {
      "text/plain": "                   A         B         C         D\n2022-01-01  0.130354  1.500406  0.173290 -1.784245\n2022-01-02  1.713190  0.499851  0.156170  0.066028\n2022-01-03 -0.446603  0.940961  1.294809  0.993898\n2022-01-04  0.858115  1.311840  1.174808 -0.261098\n2022-01-05  0.776659  0.415124 -0.009434  0.237204\n2022-01-06 -0.925415 -0.033729 -0.576099 -0.177671",
      "text/html": "<div>\n<style scoped>\n    .dataframe tbody tr th:only-of-type {\n        vertical-align: middle;\n    }\n\n    .dataframe tbody tr th {\n        vertical-align: top;\n    }\n\n    .dataframe thead th {\n        text-align: right;\n    }\n</style>\n<table border=\"1\" class=\"dataframe\">\n  <thead>\n    <tr style=\"text-align: right;\">\n      <th></th>\n      <th>A</th>\n      <th>B</th>\n      <th>C</th>\n      <th>D</th>\n    </tr>\n  </thead>\n  <tbody>\n    <tr>\n      <th>2022-01-01</th>\n      <td>0.130354</td>\n      <td>1.500406</td>\n      <td>0.173290</td>\n      <td>-1.784245</td>\n    </tr>\n    <tr>\n      <th>2022-01-02</th>\n      <td>1.713190</td>\n      <td>0.499851</td>\n      <td>0.156170</td>\n      <td>0.066028</td>\n    </tr>\n    <tr>\n      <th>2022-01-03</th>\n      <td>-0.446603</td>\n      <td>0.940961</td>\n      <td>1.294809</td>\n      <td>0.993898</td>\n    </tr>\n    <tr>\n      <th>2022-01-04</th>\n      <td>0.858115</td>\n      <td>1.311840</td>\n      <td>1.174808</td>\n      <td>-0.261098</td>\n    </tr>\n    <tr>\n      <th>2022-01-05</th>\n      <td>0.776659</td>\n      <td>0.415124</td>\n      <td>-0.009434</td>\n      <td>0.237204</td>\n    </tr>\n    <tr>\n      <th>2022-01-06</th>\n      <td>-0.925415</td>\n      <td>-0.033729</td>\n      <td>-0.576099</td>\n      <td>-0.177671</td>\n    </tr>\n  </tbody>\n</table>\n</div>"
     },
     "execution_count": 13,
     "metadata": {},
     "output_type": "execute_result"
    }
   ],
   "source": [
    "df"
   ],
   "metadata": {
    "collapsed": false,
    "pycharm": {
     "name": "#%%\n"
    }
   }
  },
  {
   "cell_type": "code",
   "execution_count": 15,
   "outputs": [
    {
     "data": {
      "text/plain": "2022-01-01    0.130354\n2022-01-02    1.713190\n2022-01-03   -0.446603\n2022-01-04    0.858115\n2022-01-05    0.776659\n2022-01-06   -0.925415\nFreq: D, Name: A, dtype: float64"
     },
     "execution_count": 15,
     "metadata": {},
     "output_type": "execute_result"
    }
   ],
   "source": [
    "# 해당 컬럼 A만 series로 보여줌\n",
    "df['A']"
   ],
   "metadata": {
    "collapsed": false,
    "pycharm": {
     "name": "#%%\n"
    }
   }
  },
  {
   "cell_type": "code",
   "execution_count": 16,
   "outputs": [
    {
     "data": {
      "text/plain": "                   A         B         C         D\n2022-01-01  0.130354  1.500406  0.173290 -1.784245\n2022-01-02  1.713190  0.499851  0.156170  0.066028\n2022-01-03 -0.446603  0.940961  1.294809  0.993898",
      "text/html": "<div>\n<style scoped>\n    .dataframe tbody tr th:only-of-type {\n        vertical-align: middle;\n    }\n\n    .dataframe tbody tr th {\n        vertical-align: top;\n    }\n\n    .dataframe thead th {\n        text-align: right;\n    }\n</style>\n<table border=\"1\" class=\"dataframe\">\n  <thead>\n    <tr style=\"text-align: right;\">\n      <th></th>\n      <th>A</th>\n      <th>B</th>\n      <th>C</th>\n      <th>D</th>\n    </tr>\n  </thead>\n  <tbody>\n    <tr>\n      <th>2022-01-01</th>\n      <td>0.130354</td>\n      <td>1.500406</td>\n      <td>0.173290</td>\n      <td>-1.784245</td>\n    </tr>\n    <tr>\n      <th>2022-01-02</th>\n      <td>1.713190</td>\n      <td>0.499851</td>\n      <td>0.156170</td>\n      <td>0.066028</td>\n    </tr>\n    <tr>\n      <th>2022-01-03</th>\n      <td>-0.446603</td>\n      <td>0.940961</td>\n      <td>1.294809</td>\n      <td>0.993898</td>\n    </tr>\n  </tbody>\n</table>\n</div>"
     },
     "execution_count": 16,
     "metadata": {},
     "output_type": "execute_result"
    }
   ],
   "source": [
    "# 행의 범위 지정\n",
    "df[0:3]"
   ],
   "metadata": {
    "collapsed": false,
    "pycharm": {
     "name": "#%%\n"
    }
   }
  },
  {
   "cell_type": "code",
   "execution_count": 17,
   "outputs": [
    {
     "data": {
      "text/plain": "                   A         B         C         D\n2022-01-01  0.130354  1.500406  0.173290 -1.784245\n2022-01-02  1.713190  0.499851  0.156170  0.066028\n2022-01-03 -0.446603  0.940961  1.294809  0.993898",
      "text/html": "<div>\n<style scoped>\n    .dataframe tbody tr th:only-of-type {\n        vertical-align: middle;\n    }\n\n    .dataframe tbody tr th {\n        vertical-align: top;\n    }\n\n    .dataframe thead th {\n        text-align: right;\n    }\n</style>\n<table border=\"1\" class=\"dataframe\">\n  <thead>\n    <tr style=\"text-align: right;\">\n      <th></th>\n      <th>A</th>\n      <th>B</th>\n      <th>C</th>\n      <th>D</th>\n    </tr>\n  </thead>\n  <tbody>\n    <tr>\n      <th>2022-01-01</th>\n      <td>0.130354</td>\n      <td>1.500406</td>\n      <td>0.173290</td>\n      <td>-1.784245</td>\n    </tr>\n    <tr>\n      <th>2022-01-02</th>\n      <td>1.713190</td>\n      <td>0.499851</td>\n      <td>0.156170</td>\n      <td>0.066028</td>\n    </tr>\n    <tr>\n      <th>2022-01-03</th>\n      <td>-0.446603</td>\n      <td>0.940961</td>\n      <td>1.294809</td>\n      <td>0.993898</td>\n    </tr>\n  </tbody>\n</table>\n</div>"
     },
     "execution_count": 17,
     "metadata": {},
     "output_type": "execute_result"
    }
   ],
   "source": [
    "df['2022-01-01':'2022-01-03']"
   ],
   "metadata": {
    "collapsed": false,
    "pycharm": {
     "name": "#%%\n"
    }
   }
  },
  {
   "cell_type": "code",
   "execution_count": 18,
   "outputs": [
    {
     "data": {
      "text/plain": "A    0.130354\nB    1.500406\nC    0.173290\nD   -1.784245\nName: 2022-01-01 00:00:00, dtype: float64"
     },
     "execution_count": 18,
     "metadata": {},
     "output_type": "execute_result"
    }
   ],
   "source": [
    "# loc : location 옵션으로 슬라이싱\n",
    "df.loc[dates[0]]"
   ],
   "metadata": {
    "collapsed": false,
    "pycharm": {
     "name": "#%%\n"
    }
   }
  },
  {
   "cell_type": "code",
   "execution_count": 19,
   "outputs": [
    {
     "data": {
      "text/plain": "                   A         B\n2022-01-01  0.130354  1.500406\n2022-01-02  1.713190  0.499851\n2022-01-03 -0.446603  0.940961\n2022-01-04  0.858115  1.311840\n2022-01-05  0.776659  0.415124\n2022-01-06 -0.925415 -0.033729",
      "text/html": "<div>\n<style scoped>\n    .dataframe tbody tr th:only-of-type {\n        vertical-align: middle;\n    }\n\n    .dataframe tbody tr th {\n        vertical-align: top;\n    }\n\n    .dataframe thead th {\n        text-align: right;\n    }\n</style>\n<table border=\"1\" class=\"dataframe\">\n  <thead>\n    <tr style=\"text-align: right;\">\n      <th></th>\n      <th>A</th>\n      <th>B</th>\n    </tr>\n  </thead>\n  <tbody>\n    <tr>\n      <th>2022-01-01</th>\n      <td>0.130354</td>\n      <td>1.500406</td>\n    </tr>\n    <tr>\n      <th>2022-01-02</th>\n      <td>1.713190</td>\n      <td>0.499851</td>\n    </tr>\n    <tr>\n      <th>2022-01-03</th>\n      <td>-0.446603</td>\n      <td>0.940961</td>\n    </tr>\n    <tr>\n      <th>2022-01-04</th>\n      <td>0.858115</td>\n      <td>1.311840</td>\n    </tr>\n    <tr>\n      <th>2022-01-05</th>\n      <td>0.776659</td>\n      <td>0.415124</td>\n    </tr>\n    <tr>\n      <th>2022-01-06</th>\n      <td>-0.925415</td>\n      <td>-0.033729</td>\n    </tr>\n  </tbody>\n</table>\n</div>"
     },
     "execution_count": 19,
     "metadata": {},
     "output_type": "execute_result"
    }
   ],
   "source": [
    "df.loc[:, ['A', 'B']]"
   ],
   "metadata": {
    "collapsed": false,
    "pycharm": {
     "name": "#%%\n"
    }
   }
  },
  {
   "cell_type": "code",
   "execution_count": 20,
   "outputs": [
    {
     "data": {
      "text/plain": "                   A         B\n2022-01-01  0.130354  1.500406\n2022-01-02  1.713190  0.499851\n2022-01-03 -0.446603  0.940961",
      "text/html": "<div>\n<style scoped>\n    .dataframe tbody tr th:only-of-type {\n        vertical-align: middle;\n    }\n\n    .dataframe tbody tr th {\n        vertical-align: top;\n    }\n\n    .dataframe thead th {\n        text-align: right;\n    }\n</style>\n<table border=\"1\" class=\"dataframe\">\n  <thead>\n    <tr style=\"text-align: right;\">\n      <th></th>\n      <th>A</th>\n      <th>B</th>\n    </tr>\n  </thead>\n  <tbody>\n    <tr>\n      <th>2022-01-01</th>\n      <td>0.130354</td>\n      <td>1.500406</td>\n    </tr>\n    <tr>\n      <th>2022-01-02</th>\n      <td>1.713190</td>\n      <td>0.499851</td>\n    </tr>\n    <tr>\n      <th>2022-01-03</th>\n      <td>-0.446603</td>\n      <td>0.940961</td>\n    </tr>\n  </tbody>\n</table>\n</div>"
     },
     "execution_count": 20,
     "metadata": {},
     "output_type": "execute_result"
    }
   ],
   "source": [
    "df.loc['2022-01-01':'2022-01-03', ['A', 'B']]"
   ],
   "metadata": {
    "collapsed": false,
    "pycharm": {
     "name": "#%%\n"
    }
   }
  },
  {
   "cell_type": "code",
   "execution_count": 21,
   "outputs": [
    {
     "data": {
      "text/plain": "A    1.713190\nB    0.499851\nName: 2022-01-02 00:00:00, dtype: float64"
     },
     "execution_count": 21,
     "metadata": {},
     "output_type": "execute_result"
    }
   ],
   "source": [
    "df.loc['2022-01-02', ['A', 'B']]"
   ],
   "metadata": {
    "collapsed": false,
    "pycharm": {
     "name": "#%%\n"
    }
   }
  },
  {
   "cell_type": "code",
   "execution_count": 23,
   "outputs": [
    {
     "data": {
      "text/plain": "0.13035414459117528"
     },
     "execution_count": 23,
     "metadata": {},
     "output_type": "execute_result"
    }
   ],
   "source": [
    "df.loc[dates[0], 'A']   # 컬럼 내용 확인"
   ],
   "metadata": {
    "collapsed": false,
    "pycharm": {
     "name": "#%%\n"
    }
   }
  },
  {
   "cell_type": "code",
   "execution_count": 24,
   "outputs": [
    {
     "data": {
      "text/plain": "A    0.858115\nB    1.311840\nC    1.174808\nD   -0.261098\nName: 2022-01-04 00:00:00, dtype: float64"
     },
     "execution_count": 24,
     "metadata": {},
     "output_type": "execute_result"
    }
   ],
   "source": [
    "# loc 명령과 달리 행과 열의 번호를 이용해 데이터에 접근 : iloc\n",
    "df.iloc[3]"
   ],
   "metadata": {
    "collapsed": false,
    "pycharm": {
     "name": "#%%\n"
    }
   }
  },
  {
   "cell_type": "code",
   "execution_count": 25,
   "outputs": [
    {
     "data": {
      "text/plain": "                   A         B\n2022-01-04  0.858115  1.311840\n2022-01-05  0.776659  0.415124",
      "text/html": "<div>\n<style scoped>\n    .dataframe tbody tr th:only-of-type {\n        vertical-align: middle;\n    }\n\n    .dataframe tbody tr th {\n        vertical-align: top;\n    }\n\n    .dataframe thead th {\n        text-align: right;\n    }\n</style>\n<table border=\"1\" class=\"dataframe\">\n  <thead>\n    <tr style=\"text-align: right;\">\n      <th></th>\n      <th>A</th>\n      <th>B</th>\n    </tr>\n  </thead>\n  <tbody>\n    <tr>\n      <th>2022-01-04</th>\n      <td>0.858115</td>\n      <td>1.311840</td>\n    </tr>\n    <tr>\n      <th>2022-01-05</th>\n      <td>0.776659</td>\n      <td>0.415124</td>\n    </tr>\n  </tbody>\n</table>\n</div>"
     },
     "execution_count": 25,
     "metadata": {},
     "output_type": "execute_result"
    }
   ],
   "source": [
    "df.iloc[3:5, 0:2]"
   ],
   "metadata": {
    "collapsed": false,
    "pycharm": {
     "name": "#%%\n"
    }
   }
  },
  {
   "cell_type": "code",
   "execution_count": 26,
   "outputs": [
    {
     "data": {
      "text/plain": "                   A         C\n2022-01-02  1.713190  0.156170\n2022-01-03 -0.446603  1.294809\n2022-01-05  0.776659 -0.009434",
      "text/html": "<div>\n<style scoped>\n    .dataframe tbody tr th:only-of-type {\n        vertical-align: middle;\n    }\n\n    .dataframe tbody tr th {\n        vertical-align: top;\n    }\n\n    .dataframe thead th {\n        text-align: right;\n    }\n</style>\n<table border=\"1\" class=\"dataframe\">\n  <thead>\n    <tr style=\"text-align: right;\">\n      <th></th>\n      <th>A</th>\n      <th>C</th>\n    </tr>\n  </thead>\n  <tbody>\n    <tr>\n      <th>2022-01-02</th>\n      <td>1.713190</td>\n      <td>0.156170</td>\n    </tr>\n    <tr>\n      <th>2022-01-03</th>\n      <td>-0.446603</td>\n      <td>1.294809</td>\n    </tr>\n    <tr>\n      <th>2022-01-05</th>\n      <td>0.776659</td>\n      <td>-0.009434</td>\n    </tr>\n  </tbody>\n</table>\n</div>"
     },
     "execution_count": 26,
     "metadata": {},
     "output_type": "execute_result"
    }
   ],
   "source": [
    "df.iloc[[1, 2, 4], [0, 2]]"
   ],
   "metadata": {
    "collapsed": false,
    "pycharm": {
     "name": "#%%\n"
    }
   }
  },
  {
   "cell_type": "code",
   "execution_count": 27,
   "outputs": [
    {
     "data": {
      "text/plain": "                   A         B         C         D\n2022-01-02  1.713190  0.499851  0.156170  0.066028\n2022-01-03 -0.446603  0.940961  1.294809  0.993898",
      "text/html": "<div>\n<style scoped>\n    .dataframe tbody tr th:only-of-type {\n        vertical-align: middle;\n    }\n\n    .dataframe tbody tr th {\n        vertical-align: top;\n    }\n\n    .dataframe thead th {\n        text-align: right;\n    }\n</style>\n<table border=\"1\" class=\"dataframe\">\n  <thead>\n    <tr style=\"text-align: right;\">\n      <th></th>\n      <th>A</th>\n      <th>B</th>\n      <th>C</th>\n      <th>D</th>\n    </tr>\n  </thead>\n  <tbody>\n    <tr>\n      <th>2022-01-02</th>\n      <td>1.713190</td>\n      <td>0.499851</td>\n      <td>0.156170</td>\n      <td>0.066028</td>\n    </tr>\n    <tr>\n      <th>2022-01-03</th>\n      <td>-0.446603</td>\n      <td>0.940961</td>\n      <td>1.294809</td>\n      <td>0.993898</td>\n    </tr>\n  </tbody>\n</table>\n</div>"
     },
     "execution_count": 27,
     "metadata": {},
     "output_type": "execute_result"
    }
   ],
   "source": [
    "df.iloc[1:3, :]"
   ],
   "metadata": {
    "collapsed": false,
    "pycharm": {
     "name": "#%%\n"
    }
   }
  },
  {
   "cell_type": "code",
   "execution_count": 28,
   "outputs": [
    {
     "data": {
      "text/plain": "                   B         C\n2022-01-01  1.500406  0.173290\n2022-01-02  0.499851  0.156170\n2022-01-03  0.940961  1.294809\n2022-01-04  1.311840  1.174808\n2022-01-05  0.415124 -0.009434\n2022-01-06 -0.033729 -0.576099",
      "text/html": "<div>\n<style scoped>\n    .dataframe tbody tr th:only-of-type {\n        vertical-align: middle;\n    }\n\n    .dataframe tbody tr th {\n        vertical-align: top;\n    }\n\n    .dataframe thead th {\n        text-align: right;\n    }\n</style>\n<table border=\"1\" class=\"dataframe\">\n  <thead>\n    <tr style=\"text-align: right;\">\n      <th></th>\n      <th>B</th>\n      <th>C</th>\n    </tr>\n  </thead>\n  <tbody>\n    <tr>\n      <th>2022-01-01</th>\n      <td>1.500406</td>\n      <td>0.173290</td>\n    </tr>\n    <tr>\n      <th>2022-01-02</th>\n      <td>0.499851</td>\n      <td>0.156170</td>\n    </tr>\n    <tr>\n      <th>2022-01-03</th>\n      <td>0.940961</td>\n      <td>1.294809</td>\n    </tr>\n    <tr>\n      <th>2022-01-04</th>\n      <td>1.311840</td>\n      <td>1.174808</td>\n    </tr>\n    <tr>\n      <th>2022-01-05</th>\n      <td>0.415124</td>\n      <td>-0.009434</td>\n    </tr>\n    <tr>\n      <th>2022-01-06</th>\n      <td>-0.033729</td>\n      <td>-0.576099</td>\n    </tr>\n  </tbody>\n</table>\n</div>"
     },
     "execution_count": 28,
     "metadata": {},
     "output_type": "execute_result"
    }
   ],
   "source": [
    "df.iloc[:, 1:3]"
   ],
   "metadata": {
    "collapsed": false,
    "pycharm": {
     "name": "#%%\n"
    }
   }
  },
  {
   "cell_type": "code",
   "execution_count": 29,
   "outputs": [
    {
     "data": {
      "text/plain": "                   A         B         C         D\n2022-01-01  0.130354  1.500406  0.173290 -1.784245\n2022-01-02  1.713190  0.499851  0.156170  0.066028\n2022-01-03 -0.446603  0.940961  1.294809  0.993898\n2022-01-04  0.858115  1.311840  1.174808 -0.261098\n2022-01-05  0.776659  0.415124 -0.009434  0.237204\n2022-01-06 -0.925415 -0.033729 -0.576099 -0.177671",
      "text/html": "<div>\n<style scoped>\n    .dataframe tbody tr th:only-of-type {\n        vertical-align: middle;\n    }\n\n    .dataframe tbody tr th {\n        vertical-align: top;\n    }\n\n    .dataframe thead th {\n        text-align: right;\n    }\n</style>\n<table border=\"1\" class=\"dataframe\">\n  <thead>\n    <tr style=\"text-align: right;\">\n      <th></th>\n      <th>A</th>\n      <th>B</th>\n      <th>C</th>\n      <th>D</th>\n    </tr>\n  </thead>\n  <tbody>\n    <tr>\n      <th>2022-01-01</th>\n      <td>0.130354</td>\n      <td>1.500406</td>\n      <td>0.173290</td>\n      <td>-1.784245</td>\n    </tr>\n    <tr>\n      <th>2022-01-02</th>\n      <td>1.713190</td>\n      <td>0.499851</td>\n      <td>0.156170</td>\n      <td>0.066028</td>\n    </tr>\n    <tr>\n      <th>2022-01-03</th>\n      <td>-0.446603</td>\n      <td>0.940961</td>\n      <td>1.294809</td>\n      <td>0.993898</td>\n    </tr>\n    <tr>\n      <th>2022-01-04</th>\n      <td>0.858115</td>\n      <td>1.311840</td>\n      <td>1.174808</td>\n      <td>-0.261098</td>\n    </tr>\n    <tr>\n      <th>2022-01-05</th>\n      <td>0.776659</td>\n      <td>0.415124</td>\n      <td>-0.009434</td>\n      <td>0.237204</td>\n    </tr>\n    <tr>\n      <th>2022-01-06</th>\n      <td>-0.925415</td>\n      <td>-0.033729</td>\n      <td>-0.576099</td>\n      <td>-0.177671</td>\n    </tr>\n  </tbody>\n</table>\n</div>"
     },
     "execution_count": 29,
     "metadata": {},
     "output_type": "execute_result"
    }
   ],
   "source": [
    "df"
   ],
   "metadata": {
    "collapsed": false,
    "pycharm": {
     "name": "#%%\n"
    }
   }
  },
  {
   "cell_type": "code",
   "execution_count": 30,
   "outputs": [
    {
     "data": {
      "text/plain": "                   A         B         C         D\n2022-01-01  0.130354  1.500406  0.173290 -1.784245\n2022-01-02  1.713190  0.499851  0.156170  0.066028\n2022-01-04  0.858115  1.311840  1.174808 -0.261098\n2022-01-05  0.776659  0.415124 -0.009434  0.237204",
      "text/html": "<div>\n<style scoped>\n    .dataframe tbody tr th:only-of-type {\n        vertical-align: middle;\n    }\n\n    .dataframe tbody tr th {\n        vertical-align: top;\n    }\n\n    .dataframe thead th {\n        text-align: right;\n    }\n</style>\n<table border=\"1\" class=\"dataframe\">\n  <thead>\n    <tr style=\"text-align: right;\">\n      <th></th>\n      <th>A</th>\n      <th>B</th>\n      <th>C</th>\n      <th>D</th>\n    </tr>\n  </thead>\n  <tbody>\n    <tr>\n      <th>2022-01-01</th>\n      <td>0.130354</td>\n      <td>1.500406</td>\n      <td>0.173290</td>\n      <td>-1.784245</td>\n    </tr>\n    <tr>\n      <th>2022-01-02</th>\n      <td>1.713190</td>\n      <td>0.499851</td>\n      <td>0.156170</td>\n      <td>0.066028</td>\n    </tr>\n    <tr>\n      <th>2022-01-04</th>\n      <td>0.858115</td>\n      <td>1.311840</td>\n      <td>1.174808</td>\n      <td>-0.261098</td>\n    </tr>\n    <tr>\n      <th>2022-01-05</th>\n      <td>0.776659</td>\n      <td>0.415124</td>\n      <td>-0.009434</td>\n      <td>0.237204</td>\n    </tr>\n  </tbody>\n</table>\n</div>"
     },
     "execution_count": 30,
     "metadata": {},
     "output_type": "execute_result"
    }
   ],
   "source": [
    "# 특정 조건을 만족하는 데이터만 얻기\n",
    "df[df.A > 0]"
   ],
   "metadata": {
    "collapsed": false,
    "pycharm": {
     "name": "#%%\n"
    }
   }
  },
  {
   "cell_type": "code",
   "execution_count": 31,
   "outputs": [
    {
     "data": {
      "text/plain": "                   A         B         C         D\n2022-01-01  0.130354  1.500406  0.173290       NaN\n2022-01-02  1.713190  0.499851  0.156170  0.066028\n2022-01-03       NaN  0.940961  1.294809  0.993898\n2022-01-04  0.858115  1.311840  1.174808       NaN\n2022-01-05  0.776659  0.415124       NaN  0.237204\n2022-01-06       NaN       NaN       NaN       NaN",
      "text/html": "<div>\n<style scoped>\n    .dataframe tbody tr th:only-of-type {\n        vertical-align: middle;\n    }\n\n    .dataframe tbody tr th {\n        vertical-align: top;\n    }\n\n    .dataframe thead th {\n        text-align: right;\n    }\n</style>\n<table border=\"1\" class=\"dataframe\">\n  <thead>\n    <tr style=\"text-align: right;\">\n      <th></th>\n      <th>A</th>\n      <th>B</th>\n      <th>C</th>\n      <th>D</th>\n    </tr>\n  </thead>\n  <tbody>\n    <tr>\n      <th>2022-01-01</th>\n      <td>0.130354</td>\n      <td>1.500406</td>\n      <td>0.173290</td>\n      <td>NaN</td>\n    </tr>\n    <tr>\n      <th>2022-01-02</th>\n      <td>1.713190</td>\n      <td>0.499851</td>\n      <td>0.156170</td>\n      <td>0.066028</td>\n    </tr>\n    <tr>\n      <th>2022-01-03</th>\n      <td>NaN</td>\n      <td>0.940961</td>\n      <td>1.294809</td>\n      <td>0.993898</td>\n    </tr>\n    <tr>\n      <th>2022-01-04</th>\n      <td>0.858115</td>\n      <td>1.311840</td>\n      <td>1.174808</td>\n      <td>NaN</td>\n    </tr>\n    <tr>\n      <th>2022-01-05</th>\n      <td>0.776659</td>\n      <td>0.415124</td>\n      <td>NaN</td>\n      <td>0.237204</td>\n    </tr>\n    <tr>\n      <th>2022-01-06</th>\n      <td>NaN</td>\n      <td>NaN</td>\n      <td>NaN</td>\n      <td>NaN</td>\n    </tr>\n  </tbody>\n</table>\n</div>"
     },
     "execution_count": 31,
     "metadata": {},
     "output_type": "execute_result"
    }
   ],
   "source": [
    "df[df > 0]"
   ],
   "metadata": {
    "collapsed": false,
    "pycharm": {
     "name": "#%%\n"
    }
   }
  },
  {
   "cell_type": "code",
   "execution_count": 32,
   "outputs": [],
   "source": [
    "# dataframe을 복사할 때 그냥 = 기호를 복사하면 실제 데이터의 내용이 복사되는 것이 아닌 데이터 위치만 복사됨\n",
    "# 데이터의 내용까지 복사하라는 명령은 copy() 옵션 붙이면 됨\n",
    "\n",
    "df2 = df.copy()"
   ],
   "metadata": {
    "collapsed": false,
    "pycharm": {
     "name": "#%%\n"
    }
   }
  },
  {
   "cell_type": "code",
   "execution_count": 33,
   "outputs": [],
   "source": [
    "df2['E'] = ['one', 'one', 'two', 'three', 'four', 'three']"
   ],
   "metadata": {
    "collapsed": false,
    "pycharm": {
     "name": "#%%\n"
    }
   }
  },
  {
   "cell_type": "code",
   "execution_count": 34,
   "outputs": [
    {
     "data": {
      "text/plain": "2022-01-01    False\n2022-01-02    False\n2022-01-03     True\n2022-01-04    False\n2022-01-05     True\n2022-01-06    False\nFreq: D, Name: E, dtype: bool"
     },
     "execution_count": 34,
     "metadata": {},
     "output_type": "execute_result"
    }
   ],
   "source": [
    "df2['E'].isin(['two', 'four'])"
   ],
   "metadata": {
    "collapsed": false,
    "pycharm": {
     "name": "#%%\n"
    }
   }
  },
  {
   "cell_type": "code",
   "execution_count": 35,
   "outputs": [
    {
     "data": {
      "text/plain": "                   A         B         C         D     E\n2022-01-03 -0.446603  0.940961  1.294809  0.993898   two\n2022-01-05  0.776659  0.415124 -0.009434  0.237204  four",
      "text/html": "<div>\n<style scoped>\n    .dataframe tbody tr th:only-of-type {\n        vertical-align: middle;\n    }\n\n    .dataframe tbody tr th {\n        vertical-align: top;\n    }\n\n    .dataframe thead th {\n        text-align: right;\n    }\n</style>\n<table border=\"1\" class=\"dataframe\">\n  <thead>\n    <tr style=\"text-align: right;\">\n      <th></th>\n      <th>A</th>\n      <th>B</th>\n      <th>C</th>\n      <th>D</th>\n      <th>E</th>\n    </tr>\n  </thead>\n  <tbody>\n    <tr>\n      <th>2022-01-03</th>\n      <td>-0.446603</td>\n      <td>0.940961</td>\n      <td>1.294809</td>\n      <td>0.993898</td>\n      <td>two</td>\n    </tr>\n    <tr>\n      <th>2022-01-05</th>\n      <td>0.776659</td>\n      <td>0.415124</td>\n      <td>-0.009434</td>\n      <td>0.237204</td>\n      <td>four</td>\n    </tr>\n  </tbody>\n</table>\n</div>"
     },
     "execution_count": 35,
     "metadata": {},
     "output_type": "execute_result"
    }
   ],
   "source": [
    "df2[df2['E'].isin(['two', 'four'])]"
   ],
   "metadata": {
    "collapsed": false,
    "pycharm": {
     "name": "#%%\n"
    }
   }
  },
  {
   "cell_type": "code",
   "execution_count": 36,
   "outputs": [
    {
     "data": {
      "text/plain": "                   A         B         C         D\n2022-01-01  0.130354  1.500406  0.173290 -1.784245\n2022-01-02  1.713190  0.499851  0.156170  0.066028\n2022-01-03 -0.446603  0.940961  1.294809  0.993898\n2022-01-04  0.858115  1.311840  1.174808 -0.261098\n2022-01-05  0.776659  0.415124 -0.009434  0.237204\n2022-01-06 -0.925415 -0.033729 -0.576099 -0.177671",
      "text/html": "<div>\n<style scoped>\n    .dataframe tbody tr th:only-of-type {\n        vertical-align: middle;\n    }\n\n    .dataframe tbody tr th {\n        vertical-align: top;\n    }\n\n    .dataframe thead th {\n        text-align: right;\n    }\n</style>\n<table border=\"1\" class=\"dataframe\">\n  <thead>\n    <tr style=\"text-align: right;\">\n      <th></th>\n      <th>A</th>\n      <th>B</th>\n      <th>C</th>\n      <th>D</th>\n    </tr>\n  </thead>\n  <tbody>\n    <tr>\n      <th>2022-01-01</th>\n      <td>0.130354</td>\n      <td>1.500406</td>\n      <td>0.173290</td>\n      <td>-1.784245</td>\n    </tr>\n    <tr>\n      <th>2022-01-02</th>\n      <td>1.713190</td>\n      <td>0.499851</td>\n      <td>0.156170</td>\n      <td>0.066028</td>\n    </tr>\n    <tr>\n      <th>2022-01-03</th>\n      <td>-0.446603</td>\n      <td>0.940961</td>\n      <td>1.294809</td>\n      <td>0.993898</td>\n    </tr>\n    <tr>\n      <th>2022-01-04</th>\n      <td>0.858115</td>\n      <td>1.311840</td>\n      <td>1.174808</td>\n      <td>-0.261098</td>\n    </tr>\n    <tr>\n      <th>2022-01-05</th>\n      <td>0.776659</td>\n      <td>0.415124</td>\n      <td>-0.009434</td>\n      <td>0.237204</td>\n    </tr>\n    <tr>\n      <th>2022-01-06</th>\n      <td>-0.925415</td>\n      <td>-0.033729</td>\n      <td>-0.576099</td>\n      <td>-0.177671</td>\n    </tr>\n  </tbody>\n</table>\n</div>"
     },
     "execution_count": 36,
     "metadata": {},
     "output_type": "execute_result"
    }
   ],
   "source": [
    "df"
   ],
   "metadata": {
    "collapsed": false,
    "pycharm": {
     "name": "#%%\n"
    }
   }
  },
  {
   "cell_type": "code",
   "execution_count": 37,
   "outputs": [
    {
     "data": {
      "text/plain": "                   A         B         C         D\n2022-01-01  0.130354  1.500406  0.173290 -1.784245\n2022-01-02  1.843544  2.000257  0.329460 -1.718216\n2022-01-03  1.396941  2.941218  1.624269 -0.724318\n2022-01-04  2.255057  4.253058  2.799077 -0.985416\n2022-01-05  3.031715  4.668182  2.789643 -0.748212\n2022-01-06  2.106301  4.634453  2.213543 -0.925883",
      "text/html": "<div>\n<style scoped>\n    .dataframe tbody tr th:only-of-type {\n        vertical-align: middle;\n    }\n\n    .dataframe tbody tr th {\n        vertical-align: top;\n    }\n\n    .dataframe thead th {\n        text-align: right;\n    }\n</style>\n<table border=\"1\" class=\"dataframe\">\n  <thead>\n    <tr style=\"text-align: right;\">\n      <th></th>\n      <th>A</th>\n      <th>B</th>\n      <th>C</th>\n      <th>D</th>\n    </tr>\n  </thead>\n  <tbody>\n    <tr>\n      <th>2022-01-01</th>\n      <td>0.130354</td>\n      <td>1.500406</td>\n      <td>0.173290</td>\n      <td>-1.784245</td>\n    </tr>\n    <tr>\n      <th>2022-01-02</th>\n      <td>1.843544</td>\n      <td>2.000257</td>\n      <td>0.329460</td>\n      <td>-1.718216</td>\n    </tr>\n    <tr>\n      <th>2022-01-03</th>\n      <td>1.396941</td>\n      <td>2.941218</td>\n      <td>1.624269</td>\n      <td>-0.724318</td>\n    </tr>\n    <tr>\n      <th>2022-01-04</th>\n      <td>2.255057</td>\n      <td>4.253058</td>\n      <td>2.799077</td>\n      <td>-0.985416</td>\n    </tr>\n    <tr>\n      <th>2022-01-05</th>\n      <td>3.031715</td>\n      <td>4.668182</td>\n      <td>2.789643</td>\n      <td>-0.748212</td>\n    </tr>\n    <tr>\n      <th>2022-01-06</th>\n      <td>2.106301</td>\n      <td>4.634453</td>\n      <td>2.213543</td>\n      <td>-0.925883</td>\n    </tr>\n  </tbody>\n</table>\n</div>"
     },
     "execution_count": 37,
     "metadata": {},
     "output_type": "execute_result"
    }
   ],
   "source": [
    "# numpy의 cumsum : 누적합\n",
    "df.apply(np.cumsum)"
   ],
   "metadata": {
    "collapsed": false,
    "pycharm": {
     "name": "#%%\n"
    }
   }
  },
  {
   "cell_type": "code",
   "execution_count": 38,
   "outputs": [
    {
     "data": {
      "text/plain": "A    2.638605\nB    1.534135\nC    1.870908\nD    2.778143\ndtype: float64"
     },
     "execution_count": 38,
     "metadata": {},
     "output_type": "execute_result"
    }
   ],
   "source": [
    "df.apply(lambda x: x.max() - x.min())"
   ],
   "metadata": {
    "collapsed": false,
    "pycharm": {
     "name": "#%%\n"
    }
   }
  },
  {
   "cell_type": "code",
   "execution_count": null,
   "outputs": [],
   "source": [],
   "metadata": {
    "collapsed": false,
    "pycharm": {
     "name": "#%%\n"
    }
   }
  }
 ],
 "metadata": {
  "kernelspec": {
   "display_name": "Python 3",
   "language": "python",
   "name": "python3"
  },
  "language_info": {
   "codemirror_mode": {
    "name": "ipython",
    "version": 2
   },
   "file_extension": ".py",
   "mimetype": "text/x-python",
   "name": "python",
   "nbconvert_exporter": "python",
   "pygments_lexer": "ipython2",
   "version": "2.7.6"
  }
 },
 "nbformat": 4,
 "nbformat_minor": 0
}