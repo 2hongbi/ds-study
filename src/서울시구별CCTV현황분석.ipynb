{
 "cells": [
  {
   "cell_type": "code",
   "execution_count": 1,
   "metadata": {
    "collapsed": true
   },
   "outputs": [],
   "source": [
    "import pandas as pd"
   ]
  },
  {
   "cell_type": "code",
   "execution_count": 3,
   "outputs": [
    {
     "data": {
      "text/plain": "     기관명    소계  2013년도 이전  2014년  2015년  2016년\n0    강남구  2780       1292    430    584    932\n1    강동구   773        379     99    155    377\n2    강북구   748        369    120    138    204\n3    강서구   884        388    258    184     81\n4    관악구  1496        846    260    390    613\n5    광진구   707        573     78     53    174\n6    구로구  1561       1142    173    246    323\n7    금천구  1015        674     51    269    354\n8    노원구  1265        542     57    451    516\n9    도봉구   485        238    159     42    386\n10  동대문구  1294       1070     23    198    579\n11   동작구  1091        544    341    103    314\n12   마포구   574        314    118    169    379\n13  서대문구   962        844     50     68    292\n14   서초구  1930       1406    157    336    398\n15   성동구  1062        730     91    241    265\n16   성북구  1464       1009     78    360    204\n17   송파구   618        529     21     68    463\n18   양천구  2034       1843    142     30    467\n19  영등포구   904        495    214    195    373\n20   용산구  1624       1368    218    112    398\n21   은평구  1873       1138    224    278    468\n22   종로구  1002        464    314    211    630\n23    중구   671        413    190     72    348\n24   중랑구   660        509    121    177    109",
      "text/html": "<div>\n<style scoped>\n    .dataframe tbody tr th:only-of-type {\n        vertical-align: middle;\n    }\n\n    .dataframe tbody tr th {\n        vertical-align: top;\n    }\n\n    .dataframe thead th {\n        text-align: right;\n    }\n</style>\n<table border=\"1\" class=\"dataframe\">\n  <thead>\n    <tr style=\"text-align: right;\">\n      <th></th>\n      <th>기관명</th>\n      <th>소계</th>\n      <th>2013년도 이전</th>\n      <th>2014년</th>\n      <th>2015년</th>\n      <th>2016년</th>\n    </tr>\n  </thead>\n  <tbody>\n    <tr>\n      <th>0</th>\n      <td>강남구</td>\n      <td>2780</td>\n      <td>1292</td>\n      <td>430</td>\n      <td>584</td>\n      <td>932</td>\n    </tr>\n    <tr>\n      <th>1</th>\n      <td>강동구</td>\n      <td>773</td>\n      <td>379</td>\n      <td>99</td>\n      <td>155</td>\n      <td>377</td>\n    </tr>\n    <tr>\n      <th>2</th>\n      <td>강북구</td>\n      <td>748</td>\n      <td>369</td>\n      <td>120</td>\n      <td>138</td>\n      <td>204</td>\n    </tr>\n    <tr>\n      <th>3</th>\n      <td>강서구</td>\n      <td>884</td>\n      <td>388</td>\n      <td>258</td>\n      <td>184</td>\n      <td>81</td>\n    </tr>\n    <tr>\n      <th>4</th>\n      <td>관악구</td>\n      <td>1496</td>\n      <td>846</td>\n      <td>260</td>\n      <td>390</td>\n      <td>613</td>\n    </tr>\n    <tr>\n      <th>5</th>\n      <td>광진구</td>\n      <td>707</td>\n      <td>573</td>\n      <td>78</td>\n      <td>53</td>\n      <td>174</td>\n    </tr>\n    <tr>\n      <th>6</th>\n      <td>구로구</td>\n      <td>1561</td>\n      <td>1142</td>\n      <td>173</td>\n      <td>246</td>\n      <td>323</td>\n    </tr>\n    <tr>\n      <th>7</th>\n      <td>금천구</td>\n      <td>1015</td>\n      <td>674</td>\n      <td>51</td>\n      <td>269</td>\n      <td>354</td>\n    </tr>\n    <tr>\n      <th>8</th>\n      <td>노원구</td>\n      <td>1265</td>\n      <td>542</td>\n      <td>57</td>\n      <td>451</td>\n      <td>516</td>\n    </tr>\n    <tr>\n      <th>9</th>\n      <td>도봉구</td>\n      <td>485</td>\n      <td>238</td>\n      <td>159</td>\n      <td>42</td>\n      <td>386</td>\n    </tr>\n    <tr>\n      <th>10</th>\n      <td>동대문구</td>\n      <td>1294</td>\n      <td>1070</td>\n      <td>23</td>\n      <td>198</td>\n      <td>579</td>\n    </tr>\n    <tr>\n      <th>11</th>\n      <td>동작구</td>\n      <td>1091</td>\n      <td>544</td>\n      <td>341</td>\n      <td>103</td>\n      <td>314</td>\n    </tr>\n    <tr>\n      <th>12</th>\n      <td>마포구</td>\n      <td>574</td>\n      <td>314</td>\n      <td>118</td>\n      <td>169</td>\n      <td>379</td>\n    </tr>\n    <tr>\n      <th>13</th>\n      <td>서대문구</td>\n      <td>962</td>\n      <td>844</td>\n      <td>50</td>\n      <td>68</td>\n      <td>292</td>\n    </tr>\n    <tr>\n      <th>14</th>\n      <td>서초구</td>\n      <td>1930</td>\n      <td>1406</td>\n      <td>157</td>\n      <td>336</td>\n      <td>398</td>\n    </tr>\n    <tr>\n      <th>15</th>\n      <td>성동구</td>\n      <td>1062</td>\n      <td>730</td>\n      <td>91</td>\n      <td>241</td>\n      <td>265</td>\n    </tr>\n    <tr>\n      <th>16</th>\n      <td>성북구</td>\n      <td>1464</td>\n      <td>1009</td>\n      <td>78</td>\n      <td>360</td>\n      <td>204</td>\n    </tr>\n    <tr>\n      <th>17</th>\n      <td>송파구</td>\n      <td>618</td>\n      <td>529</td>\n      <td>21</td>\n      <td>68</td>\n      <td>463</td>\n    </tr>\n    <tr>\n      <th>18</th>\n      <td>양천구</td>\n      <td>2034</td>\n      <td>1843</td>\n      <td>142</td>\n      <td>30</td>\n      <td>467</td>\n    </tr>\n    <tr>\n      <th>19</th>\n      <td>영등포구</td>\n      <td>904</td>\n      <td>495</td>\n      <td>214</td>\n      <td>195</td>\n      <td>373</td>\n    </tr>\n    <tr>\n      <th>20</th>\n      <td>용산구</td>\n      <td>1624</td>\n      <td>1368</td>\n      <td>218</td>\n      <td>112</td>\n      <td>398</td>\n    </tr>\n    <tr>\n      <th>21</th>\n      <td>은평구</td>\n      <td>1873</td>\n      <td>1138</td>\n      <td>224</td>\n      <td>278</td>\n      <td>468</td>\n    </tr>\n    <tr>\n      <th>22</th>\n      <td>종로구</td>\n      <td>1002</td>\n      <td>464</td>\n      <td>314</td>\n      <td>211</td>\n      <td>630</td>\n    </tr>\n    <tr>\n      <th>23</th>\n      <td>중구</td>\n      <td>671</td>\n      <td>413</td>\n      <td>190</td>\n      <td>72</td>\n      <td>348</td>\n    </tr>\n    <tr>\n      <th>24</th>\n      <td>중랑구</td>\n      <td>660</td>\n      <td>509</td>\n      <td>121</td>\n      <td>177</td>\n      <td>109</td>\n    </tr>\n  </tbody>\n</table>\n</div>"
     },
     "execution_count": 3,
     "metadata": {},
     "output_type": "execute_result"
    }
   ],
   "source": [
    "cctv_seoul = pd.read_csv('./../data/CCTV_in_Seoul.csv')\n",
    "cctv_seoul"
   ],
   "metadata": {
    "collapsed": false,
    "pycharm": {
     "name": "#%%\n"
    }
   }
  },
  {
   "cell_type": "code",
   "execution_count": 4,
   "outputs": [
    {
     "data": {
      "text/plain": "Index(['기관명', '소계', '2013년도 이전', '2014년', '2015년', '2016년'], dtype='object')"
     },
     "execution_count": 4,
     "metadata": {},
     "output_type": "execute_result"
    }
   ],
   "source": [
    "cctv_seoul.columns"
   ],
   "metadata": {
    "collapsed": false,
    "pycharm": {
     "name": "#%%\n"
    }
   }
  },
  {
   "cell_type": "code",
   "execution_count": 5,
   "outputs": [
    {
     "data": {
      "text/plain": "'기관명'"
     },
     "execution_count": 5,
     "metadata": {},
     "output_type": "execute_result"
    }
   ],
   "source": [
    "cctv_seoul.columns[0]"
   ],
   "metadata": {
    "collapsed": false,
    "pycharm": {
     "name": "#%%\n"
    }
   }
  },
  {
   "cell_type": "code",
   "execution_count": 6,
   "outputs": [
    {
     "data": {
      "text/plain": "    구별    소계  2013년도 이전  2014년  2015년  2016년\n0  강남구  2780       1292    430    584    932\n1  강동구   773        379     99    155    377\n2  강북구   748        369    120    138    204\n3  강서구   884        388    258    184     81\n4  관악구  1496        846    260    390    613",
      "text/html": "<div>\n<style scoped>\n    .dataframe tbody tr th:only-of-type {\n        vertical-align: middle;\n    }\n\n    .dataframe tbody tr th {\n        vertical-align: top;\n    }\n\n    .dataframe thead th {\n        text-align: right;\n    }\n</style>\n<table border=\"1\" class=\"dataframe\">\n  <thead>\n    <tr style=\"text-align: right;\">\n      <th></th>\n      <th>구별</th>\n      <th>소계</th>\n      <th>2013년도 이전</th>\n      <th>2014년</th>\n      <th>2015년</th>\n      <th>2016년</th>\n    </tr>\n  </thead>\n  <tbody>\n    <tr>\n      <th>0</th>\n      <td>강남구</td>\n      <td>2780</td>\n      <td>1292</td>\n      <td>430</td>\n      <td>584</td>\n      <td>932</td>\n    </tr>\n    <tr>\n      <th>1</th>\n      <td>강동구</td>\n      <td>773</td>\n      <td>379</td>\n      <td>99</td>\n      <td>155</td>\n      <td>377</td>\n    </tr>\n    <tr>\n      <th>2</th>\n      <td>강북구</td>\n      <td>748</td>\n      <td>369</td>\n      <td>120</td>\n      <td>138</td>\n      <td>204</td>\n    </tr>\n    <tr>\n      <th>3</th>\n      <td>강서구</td>\n      <td>884</td>\n      <td>388</td>\n      <td>258</td>\n      <td>184</td>\n      <td>81</td>\n    </tr>\n    <tr>\n      <th>4</th>\n      <td>관악구</td>\n      <td>1496</td>\n      <td>846</td>\n      <td>260</td>\n      <td>390</td>\n      <td>613</td>\n    </tr>\n  </tbody>\n</table>\n</div>"
     },
     "execution_count": 6,
     "metadata": {},
     "output_type": "execute_result"
    }
   ],
   "source": [
    "# inplace = True : 변수의 내용을 갱신하라는 의미\n",
    "cctv_seoul.rename(columns = {cctv_seoul.columns[0]: '구별'}, inplace=True)\n",
    "cctv_seoul.head()"
   ],
   "metadata": {
    "collapsed": false,
    "pycharm": {
     "name": "#%%\n"
    }
   }
  },
  {
   "cell_type": "code",
   "execution_count": 8,
   "outputs": [
    {
     "data": {
      "text/plain": "   자치구           계        계.1       계.2   65세이상고령자\n0   합계  10197604.0  9926968.0  270636.0  1321458.0\n1  종로구    162820.0   153589.0    9231.0    25425.0\n2   중구    133240.0   124312.0    8928.0    20764.0\n3  용산구    244203.0   229456.0   14747.0    36231.0\n4  성동구    311244.0   303380.0    7864.0    39997.0",
      "text/html": "<div>\n<style scoped>\n    .dataframe tbody tr th:only-of-type {\n        vertical-align: middle;\n    }\n\n    .dataframe tbody tr th {\n        vertical-align: top;\n    }\n\n    .dataframe thead th {\n        text-align: right;\n    }\n</style>\n<table border=\"1\" class=\"dataframe\">\n  <thead>\n    <tr style=\"text-align: right;\">\n      <th></th>\n      <th>자치구</th>\n      <th>계</th>\n      <th>계.1</th>\n      <th>계.2</th>\n      <th>65세이상고령자</th>\n    </tr>\n  </thead>\n  <tbody>\n    <tr>\n      <th>0</th>\n      <td>합계</td>\n      <td>10197604.0</td>\n      <td>9926968.0</td>\n      <td>270636.0</td>\n      <td>1321458.0</td>\n    </tr>\n    <tr>\n      <th>1</th>\n      <td>종로구</td>\n      <td>162820.0</td>\n      <td>153589.0</td>\n      <td>9231.0</td>\n      <td>25425.0</td>\n    </tr>\n    <tr>\n      <th>2</th>\n      <td>중구</td>\n      <td>133240.0</td>\n      <td>124312.0</td>\n      <td>8928.0</td>\n      <td>20764.0</td>\n    </tr>\n    <tr>\n      <th>3</th>\n      <td>용산구</td>\n      <td>244203.0</td>\n      <td>229456.0</td>\n      <td>14747.0</td>\n      <td>36231.0</td>\n    </tr>\n    <tr>\n      <th>4</th>\n      <td>성동구</td>\n      <td>311244.0</td>\n      <td>303380.0</td>\n      <td>7864.0</td>\n      <td>39997.0</td>\n    </tr>\n  </tbody>\n</table>\n</div>"
     },
     "execution_count": 8,
     "metadata": {},
     "output_type": "execute_result"
    }
   ],
   "source": [
    "# 몇 번째 줄 부터 읽을 것인지 : header, parse_cols > usecols : 해당 열만 읽도록\n",
    "pop_seoul = pd.read_excel('./../data/population_in_Seoul.xls',\n",
    "                          header=2,\n",
    "                          usecols='B, D, G, J, N'\n",
    "                          )\n",
    "pop_seoul.head()"
   ],
   "metadata": {
    "collapsed": false,
    "pycharm": {
     "name": "#%%\n"
    }
   }
  },
  {
   "cell_type": "code",
   "execution_count": 9,
   "outputs": [
    {
     "data": {
      "text/plain": "    구별          인구        한국인       외국인        고령자\n0   합계  10197604.0  9926968.0  270636.0  1321458.0\n1  종로구    162820.0   153589.0    9231.0    25425.0\n2   중구    133240.0   124312.0    8928.0    20764.0\n3  용산구    244203.0   229456.0   14747.0    36231.0\n4  성동구    311244.0   303380.0    7864.0    39997.0",
      "text/html": "<div>\n<style scoped>\n    .dataframe tbody tr th:only-of-type {\n        vertical-align: middle;\n    }\n\n    .dataframe tbody tr th {\n        vertical-align: top;\n    }\n\n    .dataframe thead th {\n        text-align: right;\n    }\n</style>\n<table border=\"1\" class=\"dataframe\">\n  <thead>\n    <tr style=\"text-align: right;\">\n      <th></th>\n      <th>구별</th>\n      <th>인구</th>\n      <th>한국인</th>\n      <th>외국인</th>\n      <th>고령자</th>\n    </tr>\n  </thead>\n  <tbody>\n    <tr>\n      <th>0</th>\n      <td>합계</td>\n      <td>10197604.0</td>\n      <td>9926968.0</td>\n      <td>270636.0</td>\n      <td>1321458.0</td>\n    </tr>\n    <tr>\n      <th>1</th>\n      <td>종로구</td>\n      <td>162820.0</td>\n      <td>153589.0</td>\n      <td>9231.0</td>\n      <td>25425.0</td>\n    </tr>\n    <tr>\n      <th>2</th>\n      <td>중구</td>\n      <td>133240.0</td>\n      <td>124312.0</td>\n      <td>8928.0</td>\n      <td>20764.0</td>\n    </tr>\n    <tr>\n      <th>3</th>\n      <td>용산구</td>\n      <td>244203.0</td>\n      <td>229456.0</td>\n      <td>14747.0</td>\n      <td>36231.0</td>\n    </tr>\n    <tr>\n      <th>4</th>\n      <td>성동구</td>\n      <td>311244.0</td>\n      <td>303380.0</td>\n      <td>7864.0</td>\n      <td>39997.0</td>\n    </tr>\n  </tbody>\n</table>\n</div>"
     },
     "execution_count": 9,
     "metadata": {},
     "output_type": "execute_result"
    }
   ],
   "source": [
    "pop_seoul.rename(columns={\n",
    "    pop_seoul.columns[0]: '구별',\n",
    "    pop_seoul.columns[1]: '인구',\n",
    "    pop_seoul.columns[2]: '한국인',\n",
    "    pop_seoul.columns[3]: '외국인',\n",
    "    pop_seoul.columns[4]: '고령자'}, inplace=True)\n",
    "pop_seoul.head()"
   ],
   "metadata": {
    "collapsed": false,
    "pycharm": {
     "name": "#%%\n"
    }
   }
  },
  {
   "cell_type": "markdown",
   "source": [
    "## 1-4. pandas 이용해서 CCTV와 인구 현황 데이터 파악하기"
   ],
   "metadata": {
    "collapsed": false
   }
  },
  {
   "cell_type": "code",
   "execution_count": 10,
   "outputs": [
    {
     "data": {
      "text/plain": "    구별    소계  2013년도 이전  2014년  2015년  2016년\n0  강남구  2780       1292    430    584    932\n1  강동구   773        379     99    155    377\n2  강북구   748        369    120    138    204\n3  강서구   884        388    258    184     81\n4  관악구  1496        846    260    390    613",
      "text/html": "<div>\n<style scoped>\n    .dataframe tbody tr th:only-of-type {\n        vertical-align: middle;\n    }\n\n    .dataframe tbody tr th {\n        vertical-align: top;\n    }\n\n    .dataframe thead th {\n        text-align: right;\n    }\n</style>\n<table border=\"1\" class=\"dataframe\">\n  <thead>\n    <tr style=\"text-align: right;\">\n      <th></th>\n      <th>구별</th>\n      <th>소계</th>\n      <th>2013년도 이전</th>\n      <th>2014년</th>\n      <th>2015년</th>\n      <th>2016년</th>\n    </tr>\n  </thead>\n  <tbody>\n    <tr>\n      <th>0</th>\n      <td>강남구</td>\n      <td>2780</td>\n      <td>1292</td>\n      <td>430</td>\n      <td>584</td>\n      <td>932</td>\n    </tr>\n    <tr>\n      <th>1</th>\n      <td>강동구</td>\n      <td>773</td>\n      <td>379</td>\n      <td>99</td>\n      <td>155</td>\n      <td>377</td>\n    </tr>\n    <tr>\n      <th>2</th>\n      <td>강북구</td>\n      <td>748</td>\n      <td>369</td>\n      <td>120</td>\n      <td>138</td>\n      <td>204</td>\n    </tr>\n    <tr>\n      <th>3</th>\n      <td>강서구</td>\n      <td>884</td>\n      <td>388</td>\n      <td>258</td>\n      <td>184</td>\n      <td>81</td>\n    </tr>\n    <tr>\n      <th>4</th>\n      <td>관악구</td>\n      <td>1496</td>\n      <td>846</td>\n      <td>260</td>\n      <td>390</td>\n      <td>613</td>\n    </tr>\n  </tbody>\n</table>\n</div>"
     },
     "execution_count": 10,
     "metadata": {},
     "output_type": "execute_result"
    }
   ],
   "source": [
    "cctv_seoul.head()"
   ],
   "metadata": {
    "collapsed": false,
    "pycharm": {
     "name": "#%%\n"
    }
   }
  },
  {
   "cell_type": "markdown",
   "source": [
    "* cctv의 전체 개수가 가장 작은 구는 도봉구, 마포구, 송파구, 중랑구, 중구"
   ],
   "metadata": {
    "collapsed": false
   }
  },
  {
   "cell_type": "code",
   "execution_count": 11,
   "outputs": [
    {
     "data": {
      "text/plain": "     구별   소계  2013년도 이전  2014년  2015년  2016년\n9   도봉구  485        238    159     42    386\n12  마포구  574        314    118    169    379\n17  송파구  618        529     21     68    463\n24  중랑구  660        509    121    177    109\n23   중구  671        413    190     72    348",
      "text/html": "<div>\n<style scoped>\n    .dataframe tbody tr th:only-of-type {\n        vertical-align: middle;\n    }\n\n    .dataframe tbody tr th {\n        vertical-align: top;\n    }\n\n    .dataframe thead th {\n        text-align: right;\n    }\n</style>\n<table border=\"1\" class=\"dataframe\">\n  <thead>\n    <tr style=\"text-align: right;\">\n      <th></th>\n      <th>구별</th>\n      <th>소계</th>\n      <th>2013년도 이전</th>\n      <th>2014년</th>\n      <th>2015년</th>\n      <th>2016년</th>\n    </tr>\n  </thead>\n  <tbody>\n    <tr>\n      <th>9</th>\n      <td>도봉구</td>\n      <td>485</td>\n      <td>238</td>\n      <td>159</td>\n      <td>42</td>\n      <td>386</td>\n    </tr>\n    <tr>\n      <th>12</th>\n      <td>마포구</td>\n      <td>574</td>\n      <td>314</td>\n      <td>118</td>\n      <td>169</td>\n      <td>379</td>\n    </tr>\n    <tr>\n      <th>17</th>\n      <td>송파구</td>\n      <td>618</td>\n      <td>529</td>\n      <td>21</td>\n      <td>68</td>\n      <td>463</td>\n    </tr>\n    <tr>\n      <th>24</th>\n      <td>중랑구</td>\n      <td>660</td>\n      <td>509</td>\n      <td>121</td>\n      <td>177</td>\n      <td>109</td>\n    </tr>\n    <tr>\n      <th>23</th>\n      <td>중구</td>\n      <td>671</td>\n      <td>413</td>\n      <td>190</td>\n      <td>72</td>\n      <td>348</td>\n    </tr>\n  </tbody>\n</table>\n</div>"
     },
     "execution_count": 11,
     "metadata": {},
     "output_type": "execute_result"
    }
   ],
   "source": [
    "cctv_seoul.sort_values(by='소계', ascending=True).head(5)"
   ],
   "metadata": {
    "collapsed": false,
    "pycharm": {
     "name": "#%%\n"
    }
   }
  },
  {
   "cell_type": "markdown",
   "source": [
    "* cctv가 가장 많은 구는 강남구, 양천구, 서초구, 은평구, 용산구로 나타남"
   ],
   "metadata": {
    "collapsed": false
   }
  },
  {
   "cell_type": "code",
   "execution_count": 12,
   "outputs": [
    {
     "data": {
      "text/plain": "     구별    소계  2013년도 이전  2014년  2015년  2016년\n0   강남구  2780       1292    430    584    932\n18  양천구  2034       1843    142     30    467\n14  서초구  1930       1406    157    336    398\n21  은평구  1873       1138    224    278    468\n20  용산구  1624       1368    218    112    398",
      "text/html": "<div>\n<style scoped>\n    .dataframe tbody tr th:only-of-type {\n        vertical-align: middle;\n    }\n\n    .dataframe tbody tr th {\n        vertical-align: top;\n    }\n\n    .dataframe thead th {\n        text-align: right;\n    }\n</style>\n<table border=\"1\" class=\"dataframe\">\n  <thead>\n    <tr style=\"text-align: right;\">\n      <th></th>\n      <th>구별</th>\n      <th>소계</th>\n      <th>2013년도 이전</th>\n      <th>2014년</th>\n      <th>2015년</th>\n      <th>2016년</th>\n    </tr>\n  </thead>\n  <tbody>\n    <tr>\n      <th>0</th>\n      <td>강남구</td>\n      <td>2780</td>\n      <td>1292</td>\n      <td>430</td>\n      <td>584</td>\n      <td>932</td>\n    </tr>\n    <tr>\n      <th>18</th>\n      <td>양천구</td>\n      <td>2034</td>\n      <td>1843</td>\n      <td>142</td>\n      <td>30</td>\n      <td>467</td>\n    </tr>\n    <tr>\n      <th>14</th>\n      <td>서초구</td>\n      <td>1930</td>\n      <td>1406</td>\n      <td>157</td>\n      <td>336</td>\n      <td>398</td>\n    </tr>\n    <tr>\n      <th>21</th>\n      <td>은평구</td>\n      <td>1873</td>\n      <td>1138</td>\n      <td>224</td>\n      <td>278</td>\n      <td>468</td>\n    </tr>\n    <tr>\n      <th>20</th>\n      <td>용산구</td>\n      <td>1624</td>\n      <td>1368</td>\n      <td>218</td>\n      <td>112</td>\n      <td>398</td>\n    </tr>\n  </tbody>\n</table>\n</div>"
     },
     "execution_count": 12,
     "metadata": {},
     "output_type": "execute_result"
    }
   ],
   "source": [
    "cctv_seoul.sort_values(by='소계', ascending=False).head(5)"
   ],
   "metadata": {
    "collapsed": false,
    "pycharm": {
     "name": "#%%\n"
    }
   }
  },
  {
   "cell_type": "markdown",
   "source": [
    "* 특히 2014년부터 2016년까지 최근 3년간 CCTV 수를 더하고 2013년 이전 CCTV 수로 나눠서 최근 3년간 CCTV 증가율을 계산\n",
    "* 최근 3년간 cctv가 그 이전 대비 많이 증가한 구는 종로구, 도봉구, 마포구, 노원구, 강동구"
   ],
   "metadata": {
    "collapsed": false
   }
  },
  {
   "cell_type": "code",
   "execution_count": 13,
   "outputs": [
    {
     "data": {
      "text/plain": "     구별    소계  2013년도 이전  2014년  2015년  2016년       최근증가율\n22  종로구  1002        464    314    211    630  248.922414\n9   도봉구   485        238    159     42    386  246.638655\n12  마포구   574        314    118    169    379  212.101911\n8   노원구  1265        542     57    451    516  188.929889\n1   강동구   773        379     99    155    377  166.490765",
      "text/html": "<div>\n<style scoped>\n    .dataframe tbody tr th:only-of-type {\n        vertical-align: middle;\n    }\n\n    .dataframe tbody tr th {\n        vertical-align: top;\n    }\n\n    .dataframe thead th {\n        text-align: right;\n    }\n</style>\n<table border=\"1\" class=\"dataframe\">\n  <thead>\n    <tr style=\"text-align: right;\">\n      <th></th>\n      <th>구별</th>\n      <th>소계</th>\n      <th>2013년도 이전</th>\n      <th>2014년</th>\n      <th>2015년</th>\n      <th>2016년</th>\n      <th>최근증가율</th>\n    </tr>\n  </thead>\n  <tbody>\n    <tr>\n      <th>22</th>\n      <td>종로구</td>\n      <td>1002</td>\n      <td>464</td>\n      <td>314</td>\n      <td>211</td>\n      <td>630</td>\n      <td>248.922414</td>\n    </tr>\n    <tr>\n      <th>9</th>\n      <td>도봉구</td>\n      <td>485</td>\n      <td>238</td>\n      <td>159</td>\n      <td>42</td>\n      <td>386</td>\n      <td>246.638655</td>\n    </tr>\n    <tr>\n      <th>12</th>\n      <td>마포구</td>\n      <td>574</td>\n      <td>314</td>\n      <td>118</td>\n      <td>169</td>\n      <td>379</td>\n      <td>212.101911</td>\n    </tr>\n    <tr>\n      <th>8</th>\n      <td>노원구</td>\n      <td>1265</td>\n      <td>542</td>\n      <td>57</td>\n      <td>451</td>\n      <td>516</td>\n      <td>188.929889</td>\n    </tr>\n    <tr>\n      <th>1</th>\n      <td>강동구</td>\n      <td>773</td>\n      <td>379</td>\n      <td>99</td>\n      <td>155</td>\n      <td>377</td>\n      <td>166.490765</td>\n    </tr>\n  </tbody>\n</table>\n</div>"
     },
     "execution_count": 13,
     "metadata": {},
     "output_type": "execute_result"
    }
   ],
   "source": [
    "cctv_seoul['최근증가율'] = (cctv_seoul['2016년'] + cctv_seoul['2015년'] + cctv_seoul['2014년']) / cctv_seoul['2013년도 이전'] * 100\n",
    "cctv_seoul.sort_values(by='최근증가율', ascending=False).head(5)"
   ],
   "metadata": {
    "collapsed": false,
    "pycharm": {
     "name": "#%%\n"
    }
   }
  },
  {
   "cell_type": "code",
   "execution_count": 14,
   "outputs": [
    {
     "data": {
      "text/plain": "    구별          인구        한국인       외국인        고령자\n0   합계  10197604.0  9926968.0  270636.0  1321458.0\n1  종로구    162820.0   153589.0    9231.0    25425.0\n2   중구    133240.0   124312.0    8928.0    20764.0\n3  용산구    244203.0   229456.0   14747.0    36231.0\n4  성동구    311244.0   303380.0    7864.0    39997.0",
      "text/html": "<div>\n<style scoped>\n    .dataframe tbody tr th:only-of-type {\n        vertical-align: middle;\n    }\n\n    .dataframe tbody tr th {\n        vertical-align: top;\n    }\n\n    .dataframe thead th {\n        text-align: right;\n    }\n</style>\n<table border=\"1\" class=\"dataframe\">\n  <thead>\n    <tr style=\"text-align: right;\">\n      <th></th>\n      <th>구별</th>\n      <th>인구</th>\n      <th>한국인</th>\n      <th>외국인</th>\n      <th>고령자</th>\n    </tr>\n  </thead>\n  <tbody>\n    <tr>\n      <th>0</th>\n      <td>합계</td>\n      <td>10197604.0</td>\n      <td>9926968.0</td>\n      <td>270636.0</td>\n      <td>1321458.0</td>\n    </tr>\n    <tr>\n      <th>1</th>\n      <td>종로구</td>\n      <td>162820.0</td>\n      <td>153589.0</td>\n      <td>9231.0</td>\n      <td>25425.0</td>\n    </tr>\n    <tr>\n      <th>2</th>\n      <td>중구</td>\n      <td>133240.0</td>\n      <td>124312.0</td>\n      <td>8928.0</td>\n      <td>20764.0</td>\n    </tr>\n    <tr>\n      <th>3</th>\n      <td>용산구</td>\n      <td>244203.0</td>\n      <td>229456.0</td>\n      <td>14747.0</td>\n      <td>36231.0</td>\n    </tr>\n    <tr>\n      <th>4</th>\n      <td>성동구</td>\n      <td>311244.0</td>\n      <td>303380.0</td>\n      <td>7864.0</td>\n      <td>39997.0</td>\n    </tr>\n  </tbody>\n</table>\n</div>"
     },
     "execution_count": 14,
     "metadata": {},
     "output_type": "execute_result"
    }
   ],
   "source": [
    "pop_seoul.head()"
   ],
   "metadata": {
    "collapsed": false,
    "pycharm": {
     "name": "#%%\n"
    }
   }
  },
  {
   "cell_type": "markdown",
   "source": [
    "* 0번 행의 합계 삭제"
   ],
   "metadata": {
    "collapsed": false
   }
  },
  {
   "cell_type": "code",
   "execution_count": 15,
   "outputs": [
    {
     "data": {
      "text/plain": "    구별        인구       한국인      외국인      고령자\n1  종로구  162820.0  153589.0   9231.0  25425.0\n2   중구  133240.0  124312.0   8928.0  20764.0\n3  용산구  244203.0  229456.0  14747.0  36231.0\n4  성동구  311244.0  303380.0   7864.0  39997.0\n5  광진구  372164.0  357211.0  14953.0  42214.0",
      "text/html": "<div>\n<style scoped>\n    .dataframe tbody tr th:only-of-type {\n        vertical-align: middle;\n    }\n\n    .dataframe tbody tr th {\n        vertical-align: top;\n    }\n\n    .dataframe thead th {\n        text-align: right;\n    }\n</style>\n<table border=\"1\" class=\"dataframe\">\n  <thead>\n    <tr style=\"text-align: right;\">\n      <th></th>\n      <th>구별</th>\n      <th>인구</th>\n      <th>한국인</th>\n      <th>외국인</th>\n      <th>고령자</th>\n    </tr>\n  </thead>\n  <tbody>\n    <tr>\n      <th>1</th>\n      <td>종로구</td>\n      <td>162820.0</td>\n      <td>153589.0</td>\n      <td>9231.0</td>\n      <td>25425.0</td>\n    </tr>\n    <tr>\n      <th>2</th>\n      <td>중구</td>\n      <td>133240.0</td>\n      <td>124312.0</td>\n      <td>8928.0</td>\n      <td>20764.0</td>\n    </tr>\n    <tr>\n      <th>3</th>\n      <td>용산구</td>\n      <td>244203.0</td>\n      <td>229456.0</td>\n      <td>14747.0</td>\n      <td>36231.0</td>\n    </tr>\n    <tr>\n      <th>4</th>\n      <td>성동구</td>\n      <td>311244.0</td>\n      <td>303380.0</td>\n      <td>7864.0</td>\n      <td>39997.0</td>\n    </tr>\n    <tr>\n      <th>5</th>\n      <td>광진구</td>\n      <td>372164.0</td>\n      <td>357211.0</td>\n      <td>14953.0</td>\n      <td>42214.0</td>\n    </tr>\n  </tbody>\n</table>\n</div>"
     },
     "execution_count": 15,
     "metadata": {},
     "output_type": "execute_result"
    }
   ],
   "source": [
    "pop_seoul.drop([0], inplace=True)\n",
    "pop_seoul.head()"
   ],
   "metadata": {
    "collapsed": false,
    "pycharm": {
     "name": "#%%\n"
    }
   }
  },
  {
   "cell_type": "code",
   "execution_count": 16,
   "outputs": [
    {
     "data": {
      "text/plain": "array(['종로구', '중구', '용산구', '성동구', '광진구', '동대문구', '중랑구', '성북구', '강북구',\n       '도봉구', '노원구', '은평구', '서대문구', '마포구', '양천구', '강서구', '구로구', '금천구',\n       '영등포구', '동작구', '관악구', '서초구', '강남구', '송파구', '강동구', nan],\n      dtype=object)"
     },
     "execution_count": 16,
     "metadata": {},
     "output_type": "execute_result"
    }
   ],
   "source": [
    "# unique : 반복된 데이터 중 한 번 이상 나타난 데이터 확인\n",
    "pop_seoul['구별'].unique()"
   ],
   "metadata": {
    "collapsed": false,
    "pycharm": {
     "name": "#%%\n"
    }
   }
  },
  {
   "cell_type": "code",
   "execution_count": 17,
   "outputs": [
    {
     "data": {
      "text/plain": "     구별  인구  한국인  외국인  고령자\n26  NaN NaN  NaN  NaN  NaN",
      "text/html": "<div>\n<style scoped>\n    .dataframe tbody tr th:only-of-type {\n        vertical-align: middle;\n    }\n\n    .dataframe tbody tr th {\n        vertical-align: top;\n    }\n\n    .dataframe thead th {\n        text-align: right;\n    }\n</style>\n<table border=\"1\" class=\"dataframe\">\n  <thead>\n    <tr style=\"text-align: right;\">\n      <th></th>\n      <th>구별</th>\n      <th>인구</th>\n      <th>한국인</th>\n      <th>외국인</th>\n      <th>고령자</th>\n    </tr>\n  </thead>\n  <tbody>\n    <tr>\n      <th>26</th>\n      <td>NaN</td>\n      <td>NaN</td>\n      <td>NaN</td>\n      <td>NaN</td>\n      <td>NaN</td>\n    </tr>\n  </tbody>\n</table>\n</div>"
     },
     "execution_count": 17,
     "metadata": {},
     "output_type": "execute_result"
    }
   ],
   "source": [
    "pop_seoul[pop_seoul['구별'].isnull()]"
   ],
   "metadata": {
    "collapsed": false,
    "pycharm": {
     "name": "#%%\n"
    }
   }
  },
  {
   "cell_type": "code",
   "execution_count": 18,
   "outputs": [],
   "source": [
    "pop_seoul.drop([26], inplace=True)"
   ],
   "metadata": {
    "collapsed": false,
    "pycharm": {
     "name": "#%%\n"
    }
   }
  },
  {
   "cell_type": "markdown",
   "source": [
    "* 각 구별 전체 인구를 이용해서 구별 외국인 비율과 고령자 비율 계산\n",
    "* 인구 수로 정렬 시, 송파구, 강서구, 강남구, 노원구, 관악구 순으로 인구가 많음"
   ],
   "metadata": {
    "collapsed": false
   }
  },
  {
   "cell_type": "code",
   "execution_count": 20,
   "outputs": [
    {
     "data": {
      "text/plain": "    구별        인구       한국인      외국인      고령자     외국인비율      고령자비율\n1  종로구  162820.0  153589.0   9231.0  25425.0  5.669451  15.615404\n2   중구  133240.0  124312.0   8928.0  20764.0  6.700690  15.583909\n3  용산구  244203.0  229456.0  14747.0  36231.0  6.038828  14.836427\n4  성동구  311244.0  303380.0   7864.0  39997.0  2.526635  12.850689\n5  광진구  372164.0  357211.0  14953.0  42214.0  4.017852  11.342849",
      "text/html": "<div>\n<style scoped>\n    .dataframe tbody tr th:only-of-type {\n        vertical-align: middle;\n    }\n\n    .dataframe tbody tr th {\n        vertical-align: top;\n    }\n\n    .dataframe thead th {\n        text-align: right;\n    }\n</style>\n<table border=\"1\" class=\"dataframe\">\n  <thead>\n    <tr style=\"text-align: right;\">\n      <th></th>\n      <th>구별</th>\n      <th>인구</th>\n      <th>한국인</th>\n      <th>외국인</th>\n      <th>고령자</th>\n      <th>외국인비율</th>\n      <th>고령자비율</th>\n    </tr>\n  </thead>\n  <tbody>\n    <tr>\n      <th>1</th>\n      <td>종로구</td>\n      <td>162820.0</td>\n      <td>153589.0</td>\n      <td>9231.0</td>\n      <td>25425.0</td>\n      <td>5.669451</td>\n      <td>15.615404</td>\n    </tr>\n    <tr>\n      <th>2</th>\n      <td>중구</td>\n      <td>133240.0</td>\n      <td>124312.0</td>\n      <td>8928.0</td>\n      <td>20764.0</td>\n      <td>6.700690</td>\n      <td>15.583909</td>\n    </tr>\n    <tr>\n      <th>3</th>\n      <td>용산구</td>\n      <td>244203.0</td>\n      <td>229456.0</td>\n      <td>14747.0</td>\n      <td>36231.0</td>\n      <td>6.038828</td>\n      <td>14.836427</td>\n    </tr>\n    <tr>\n      <th>4</th>\n      <td>성동구</td>\n      <td>311244.0</td>\n      <td>303380.0</td>\n      <td>7864.0</td>\n      <td>39997.0</td>\n      <td>2.526635</td>\n      <td>12.850689</td>\n    </tr>\n    <tr>\n      <th>5</th>\n      <td>광진구</td>\n      <td>372164.0</td>\n      <td>357211.0</td>\n      <td>14953.0</td>\n      <td>42214.0</td>\n      <td>4.017852</td>\n      <td>11.342849</td>\n    </tr>\n  </tbody>\n</table>\n</div>"
     },
     "execution_count": 20,
     "metadata": {},
     "output_type": "execute_result"
    }
   ],
   "source": [
    "pop_seoul['외국인비율'] = pop_seoul['외국인'] / pop_seoul['인구'] * 100\n",
    "pop_seoul['고령자비율'] = pop_seoul['고령자'] / pop_seoul['인구'] * 100\n",
    "pop_seoul.head()"
   ],
   "metadata": {
    "collapsed": false,
    "pycharm": {
     "name": "#%%\n"
    }
   }
  },
  {
   "cell_type": "code",
   "execution_count": 21,
   "outputs": [
    {
     "data": {
      "text/plain": "     구별        인구       한국인      외국인      고령자     외국인비율      고령자비율\n24  송파구  667483.0  660584.0   6899.0  72506.0  1.033584  10.862599\n16  강서구  603772.0  597248.0   6524.0  72548.0  1.080540  12.015794\n23  강남구  570500.0  565550.0   4950.0  63167.0  0.867660  11.072217\n11  노원구  569384.0  565565.0   3819.0  71941.0  0.670725  12.634883\n21  관악구  525515.0  507203.0  18312.0  68082.0  3.484582  12.955291",
      "text/html": "<div>\n<style scoped>\n    .dataframe tbody tr th:only-of-type {\n        vertical-align: middle;\n    }\n\n    .dataframe tbody tr th {\n        vertical-align: top;\n    }\n\n    .dataframe thead th {\n        text-align: right;\n    }\n</style>\n<table border=\"1\" class=\"dataframe\">\n  <thead>\n    <tr style=\"text-align: right;\">\n      <th></th>\n      <th>구별</th>\n      <th>인구</th>\n      <th>한국인</th>\n      <th>외국인</th>\n      <th>고령자</th>\n      <th>외국인비율</th>\n      <th>고령자비율</th>\n    </tr>\n  </thead>\n  <tbody>\n    <tr>\n      <th>24</th>\n      <td>송파구</td>\n      <td>667483.0</td>\n      <td>660584.0</td>\n      <td>6899.0</td>\n      <td>72506.0</td>\n      <td>1.033584</td>\n      <td>10.862599</td>\n    </tr>\n    <tr>\n      <th>16</th>\n      <td>강서구</td>\n      <td>603772.0</td>\n      <td>597248.0</td>\n      <td>6524.0</td>\n      <td>72548.0</td>\n      <td>1.080540</td>\n      <td>12.015794</td>\n    </tr>\n    <tr>\n      <th>23</th>\n      <td>강남구</td>\n      <td>570500.0</td>\n      <td>565550.0</td>\n      <td>4950.0</td>\n      <td>63167.0</td>\n      <td>0.867660</td>\n      <td>11.072217</td>\n    </tr>\n    <tr>\n      <th>11</th>\n      <td>노원구</td>\n      <td>569384.0</td>\n      <td>565565.0</td>\n      <td>3819.0</td>\n      <td>71941.0</td>\n      <td>0.670725</td>\n      <td>12.634883</td>\n    </tr>\n    <tr>\n      <th>21</th>\n      <td>관악구</td>\n      <td>525515.0</td>\n      <td>507203.0</td>\n      <td>18312.0</td>\n      <td>68082.0</td>\n      <td>3.484582</td>\n      <td>12.955291</td>\n    </tr>\n  </tbody>\n</table>\n</div>"
     },
     "execution_count": 21,
     "metadata": {},
     "output_type": "execute_result"
    }
   ],
   "source": [
    "pop_seoul.sort_values(by='인구', ascending=False).head(5)"
   ],
   "metadata": {
    "collapsed": false,
    "pycharm": {
     "name": "#%%\n"
    }
   }
  },
  {
   "cell_type": "markdown",
   "source": [
    "* 외국인 숫자가 많은 구는 영등포, 구로구, 금천구, 관악구, 동대문구\n",
    "* 외국인 비율이 높은 구는 영등포, 금천구, 구로구, 중구, 용산구"
   ],
   "metadata": {
    "collapsed": false
   }
  },
  {
   "cell_type": "code",
   "execution_count": 22,
   "outputs": [
    {
     "data": {
      "text/plain": "      구별        인구       한국인      외국인      고령자     외국인비율      고령자비율\n19  영등포구  402985.0  368072.0  34913.0  52413.0  8.663598  13.006191\n17   구로구  447874.0  416487.0  31387.0  56833.0  7.007998  12.689506\n18   금천구  255082.0  236353.0  18729.0  32970.0  7.342345  12.925255\n21   관악구  525515.0  507203.0  18312.0  68082.0  3.484582  12.955291\n6   동대문구  369496.0  354079.0  15417.0  54173.0  4.172440  14.661322",
      "text/html": "<div>\n<style scoped>\n    .dataframe tbody tr th:only-of-type {\n        vertical-align: middle;\n    }\n\n    .dataframe tbody tr th {\n        vertical-align: top;\n    }\n\n    .dataframe thead th {\n        text-align: right;\n    }\n</style>\n<table border=\"1\" class=\"dataframe\">\n  <thead>\n    <tr style=\"text-align: right;\">\n      <th></th>\n      <th>구별</th>\n      <th>인구</th>\n      <th>한국인</th>\n      <th>외국인</th>\n      <th>고령자</th>\n      <th>외국인비율</th>\n      <th>고령자비율</th>\n    </tr>\n  </thead>\n  <tbody>\n    <tr>\n      <th>19</th>\n      <td>영등포구</td>\n      <td>402985.0</td>\n      <td>368072.0</td>\n      <td>34913.0</td>\n      <td>52413.0</td>\n      <td>8.663598</td>\n      <td>13.006191</td>\n    </tr>\n    <tr>\n      <th>17</th>\n      <td>구로구</td>\n      <td>447874.0</td>\n      <td>416487.0</td>\n      <td>31387.0</td>\n      <td>56833.0</td>\n      <td>7.007998</td>\n      <td>12.689506</td>\n    </tr>\n    <tr>\n      <th>18</th>\n      <td>금천구</td>\n      <td>255082.0</td>\n      <td>236353.0</td>\n      <td>18729.0</td>\n      <td>32970.0</td>\n      <td>7.342345</td>\n      <td>12.925255</td>\n    </tr>\n    <tr>\n      <th>21</th>\n      <td>관악구</td>\n      <td>525515.0</td>\n      <td>507203.0</td>\n      <td>18312.0</td>\n      <td>68082.0</td>\n      <td>3.484582</td>\n      <td>12.955291</td>\n    </tr>\n    <tr>\n      <th>6</th>\n      <td>동대문구</td>\n      <td>369496.0</td>\n      <td>354079.0</td>\n      <td>15417.0</td>\n      <td>54173.0</td>\n      <td>4.172440</td>\n      <td>14.661322</td>\n    </tr>\n  </tbody>\n</table>\n</div>"
     },
     "execution_count": 22,
     "metadata": {},
     "output_type": "execute_result"
    }
   ],
   "source": [
    "pop_seoul.sort_values(by='외국인', ascending=False).head(5)"
   ],
   "metadata": {
    "collapsed": false,
    "pycharm": {
     "name": "#%%\n"
    }
   }
  },
  {
   "cell_type": "code",
   "execution_count": 23,
   "outputs": [
    {
     "data": {
      "text/plain": "      구별        인구       한국인      외국인      고령자     외국인비율      고령자비율\n19  영등포구  402985.0  368072.0  34913.0  52413.0  8.663598  13.006191\n18   금천구  255082.0  236353.0  18729.0  32970.0  7.342345  12.925255\n17   구로구  447874.0  416487.0  31387.0  56833.0  7.007998  12.689506\n2     중구  133240.0  124312.0   8928.0  20764.0  6.700690  15.583909\n3    용산구  244203.0  229456.0  14747.0  36231.0  6.038828  14.836427",
      "text/html": "<div>\n<style scoped>\n    .dataframe tbody tr th:only-of-type {\n        vertical-align: middle;\n    }\n\n    .dataframe tbody tr th {\n        vertical-align: top;\n    }\n\n    .dataframe thead th {\n        text-align: right;\n    }\n</style>\n<table border=\"1\" class=\"dataframe\">\n  <thead>\n    <tr style=\"text-align: right;\">\n      <th></th>\n      <th>구별</th>\n      <th>인구</th>\n      <th>한국인</th>\n      <th>외국인</th>\n      <th>고령자</th>\n      <th>외국인비율</th>\n      <th>고령자비율</th>\n    </tr>\n  </thead>\n  <tbody>\n    <tr>\n      <th>19</th>\n      <td>영등포구</td>\n      <td>402985.0</td>\n      <td>368072.0</td>\n      <td>34913.0</td>\n      <td>52413.0</td>\n      <td>8.663598</td>\n      <td>13.006191</td>\n    </tr>\n    <tr>\n      <th>18</th>\n      <td>금천구</td>\n      <td>255082.0</td>\n      <td>236353.0</td>\n      <td>18729.0</td>\n      <td>32970.0</td>\n      <td>7.342345</td>\n      <td>12.925255</td>\n    </tr>\n    <tr>\n      <th>17</th>\n      <td>구로구</td>\n      <td>447874.0</td>\n      <td>416487.0</td>\n      <td>31387.0</td>\n      <td>56833.0</td>\n      <td>7.007998</td>\n      <td>12.689506</td>\n    </tr>\n    <tr>\n      <th>2</th>\n      <td>중구</td>\n      <td>133240.0</td>\n      <td>124312.0</td>\n      <td>8928.0</td>\n      <td>20764.0</td>\n      <td>6.700690</td>\n      <td>15.583909</td>\n    </tr>\n    <tr>\n      <th>3</th>\n      <td>용산구</td>\n      <td>244203.0</td>\n      <td>229456.0</td>\n      <td>14747.0</td>\n      <td>36231.0</td>\n      <td>6.038828</td>\n      <td>14.836427</td>\n    </tr>\n  </tbody>\n</table>\n</div>"
     },
     "execution_count": 23,
     "metadata": {},
     "output_type": "execute_result"
    }
   ],
   "source": [
    "pop_seoul.sort_values(by='외국인비율', ascending=False).head(5)"
   ],
   "metadata": {
    "collapsed": false,
    "pycharm": {
     "name": "#%%\n"
    }
   }
  },
  {
   "cell_type": "markdown",
   "source": [
    "* 고령자가 많은 구는 강서구, 송파구, 은평구, 노원구, 관악구\n",
    "* 고령자 비율이 높은 구는 강북구, 종로구, 중구, 용산구, 서대문구"
   ],
   "metadata": {
    "collapsed": false
   }
  },
  {
   "cell_type": "code",
   "execution_count": 24,
   "outputs": [
    {
     "data": {
      "text/plain": "     구별        인구       한국인      외국인      고령자     외국인비율      고령자비율\n16  강서구  603772.0  597248.0   6524.0  72548.0  1.080540  12.015794\n24  송파구  667483.0  660584.0   6899.0  72506.0  1.033584  10.862599\n12  은평구  494388.0  489943.0   4445.0  72334.0  0.899091  14.631019\n11  노원구  569384.0  565565.0   3819.0  71941.0  0.670725  12.634883\n21  관악구  525515.0  507203.0  18312.0  68082.0  3.484582  12.955291",
      "text/html": "<div>\n<style scoped>\n    .dataframe tbody tr th:only-of-type {\n        vertical-align: middle;\n    }\n\n    .dataframe tbody tr th {\n        vertical-align: top;\n    }\n\n    .dataframe thead th {\n        text-align: right;\n    }\n</style>\n<table border=\"1\" class=\"dataframe\">\n  <thead>\n    <tr style=\"text-align: right;\">\n      <th></th>\n      <th>구별</th>\n      <th>인구</th>\n      <th>한국인</th>\n      <th>외국인</th>\n      <th>고령자</th>\n      <th>외국인비율</th>\n      <th>고령자비율</th>\n    </tr>\n  </thead>\n  <tbody>\n    <tr>\n      <th>16</th>\n      <td>강서구</td>\n      <td>603772.0</td>\n      <td>597248.0</td>\n      <td>6524.0</td>\n      <td>72548.0</td>\n      <td>1.080540</td>\n      <td>12.015794</td>\n    </tr>\n    <tr>\n      <th>24</th>\n      <td>송파구</td>\n      <td>667483.0</td>\n      <td>660584.0</td>\n      <td>6899.0</td>\n      <td>72506.0</td>\n      <td>1.033584</td>\n      <td>10.862599</td>\n    </tr>\n    <tr>\n      <th>12</th>\n      <td>은평구</td>\n      <td>494388.0</td>\n      <td>489943.0</td>\n      <td>4445.0</td>\n      <td>72334.0</td>\n      <td>0.899091</td>\n      <td>14.631019</td>\n    </tr>\n    <tr>\n      <th>11</th>\n      <td>노원구</td>\n      <td>569384.0</td>\n      <td>565565.0</td>\n      <td>3819.0</td>\n      <td>71941.0</td>\n      <td>0.670725</td>\n      <td>12.634883</td>\n    </tr>\n    <tr>\n      <th>21</th>\n      <td>관악구</td>\n      <td>525515.0</td>\n      <td>507203.0</td>\n      <td>18312.0</td>\n      <td>68082.0</td>\n      <td>3.484582</td>\n      <td>12.955291</td>\n    </tr>\n  </tbody>\n</table>\n</div>"
     },
     "execution_count": 24,
     "metadata": {},
     "output_type": "execute_result"
    }
   ],
   "source": [
    "pop_seoul.sort_values(by='고령자', ascending=False).head(5)"
   ],
   "metadata": {
    "collapsed": false,
    "pycharm": {
     "name": "#%%\n"
    }
   }
  },
  {
   "cell_type": "code",
   "execution_count": 25,
   "outputs": [
    {
     "data": {
      "text/plain": "      구별        인구       한국인      외국인      고령자     외국인비율      고령자비율\n9    강북구  330192.0  326686.0   3506.0  54813.0  1.061806  16.600342\n1    종로구  162820.0  153589.0   9231.0  25425.0  5.669451  15.615404\n2     중구  133240.0  124312.0   8928.0  20764.0  6.700690  15.583909\n3    용산구  244203.0  229456.0  14747.0  36231.0  6.038828  14.836427\n13  서대문구  327163.0  314982.0  12181.0  48161.0  3.723221  14.720797",
      "text/html": "<div>\n<style scoped>\n    .dataframe tbody tr th:only-of-type {\n        vertical-align: middle;\n    }\n\n    .dataframe tbody tr th {\n        vertical-align: top;\n    }\n\n    .dataframe thead th {\n        text-align: right;\n    }\n</style>\n<table border=\"1\" class=\"dataframe\">\n  <thead>\n    <tr style=\"text-align: right;\">\n      <th></th>\n      <th>구별</th>\n      <th>인구</th>\n      <th>한국인</th>\n      <th>외국인</th>\n      <th>고령자</th>\n      <th>외국인비율</th>\n      <th>고령자비율</th>\n    </tr>\n  </thead>\n  <tbody>\n    <tr>\n      <th>9</th>\n      <td>강북구</td>\n      <td>330192.0</td>\n      <td>326686.0</td>\n      <td>3506.0</td>\n      <td>54813.0</td>\n      <td>1.061806</td>\n      <td>16.600342</td>\n    </tr>\n    <tr>\n      <th>1</th>\n      <td>종로구</td>\n      <td>162820.0</td>\n      <td>153589.0</td>\n      <td>9231.0</td>\n      <td>25425.0</td>\n      <td>5.669451</td>\n      <td>15.615404</td>\n    </tr>\n    <tr>\n      <th>2</th>\n      <td>중구</td>\n      <td>133240.0</td>\n      <td>124312.0</td>\n      <td>8928.0</td>\n      <td>20764.0</td>\n      <td>6.700690</td>\n      <td>15.583909</td>\n    </tr>\n    <tr>\n      <th>3</th>\n      <td>용산구</td>\n      <td>244203.0</td>\n      <td>229456.0</td>\n      <td>14747.0</td>\n      <td>36231.0</td>\n      <td>6.038828</td>\n      <td>14.836427</td>\n    </tr>\n    <tr>\n      <th>13</th>\n      <td>서대문구</td>\n      <td>327163.0</td>\n      <td>314982.0</td>\n      <td>12181.0</td>\n      <td>48161.0</td>\n      <td>3.723221</td>\n      <td>14.720797</td>\n    </tr>\n  </tbody>\n</table>\n</div>"
     },
     "execution_count": 25,
     "metadata": {},
     "output_type": "execute_result"
    }
   ],
   "source": [
    "pop_seoul.sort_values(by='고령자비율', ascending=False).head(5)"
   ],
   "metadata": {
    "collapsed": false,
    "pycharm": {
     "name": "#%%\n"
    }
   }
  },
  {
   "cell_type": "code",
   "execution_count": null,
   "outputs": [],
   "source": [],
   "metadata": {
    "collapsed": false,
    "pycharm": {
     "name": "#%%\n"
    }
   }
  }
 ],
 "metadata": {
  "kernelspec": {
   "display_name": "Python 3",
   "language": "python",
   "name": "python3"
  },
  "language_info": {
   "codemirror_mode": {
    "name": "ipython",
    "version": 2
   },
   "file_extension": ".py",
   "mimetype": "text/x-python",
   "name": "python",
   "nbconvert_exporter": "python",
   "pygments_lexer": "ipython2",
   "version": "2.7.6"
  }
 },
 "nbformat": 4,
 "nbformat_minor": 0
}