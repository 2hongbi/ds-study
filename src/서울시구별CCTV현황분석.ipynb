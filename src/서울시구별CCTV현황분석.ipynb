{
 "cells": [
  {
   "cell_type": "code",
   "execution_count": 1,
   "metadata": {
    "collapsed": true
   },
   "outputs": [],
   "source": [
    "import numpy as np\n",
    "import pandas as pd"
   ]
  },
  {
   "cell_type": "code",
   "execution_count": 3,
   "outputs": [
    {
     "data": {
      "text/plain": "     기관명    소계  2013년도 이전  2014년  2015년  2016년\n0    강남구  2780       1292    430    584    932\n1    강동구   773        379     99    155    377\n2    강북구   748        369    120    138    204\n3    강서구   884        388    258    184     81\n4    관악구  1496        846    260    390    613\n5    광진구   707        573     78     53    174\n6    구로구  1561       1142    173    246    323\n7    금천구  1015        674     51    269    354\n8    노원구  1265        542     57    451    516\n9    도봉구   485        238    159     42    386\n10  동대문구  1294       1070     23    198    579\n11   동작구  1091        544    341    103    314\n12   마포구   574        314    118    169    379\n13  서대문구   962        844     50     68    292\n14   서초구  1930       1406    157    336    398\n15   성동구  1062        730     91    241    265\n16   성북구  1464       1009     78    360    204\n17   송파구   618        529     21     68    463\n18   양천구  2034       1843    142     30    467\n19  영등포구   904        495    214    195    373\n20   용산구  1624       1368    218    112    398\n21   은평구  1873       1138    224    278    468\n22   종로구  1002        464    314    211    630\n23    중구   671        413    190     72    348\n24   중랑구   660        509    121    177    109",
      "text/html": "<div>\n<style scoped>\n    .dataframe tbody tr th:only-of-type {\n        vertical-align: middle;\n    }\n\n    .dataframe tbody tr th {\n        vertical-align: top;\n    }\n\n    .dataframe thead th {\n        text-align: right;\n    }\n</style>\n<table border=\"1\" class=\"dataframe\">\n  <thead>\n    <tr style=\"text-align: right;\">\n      <th></th>\n      <th>기관명</th>\n      <th>소계</th>\n      <th>2013년도 이전</th>\n      <th>2014년</th>\n      <th>2015년</th>\n      <th>2016년</th>\n    </tr>\n  </thead>\n  <tbody>\n    <tr>\n      <th>0</th>\n      <td>강남구</td>\n      <td>2780</td>\n      <td>1292</td>\n      <td>430</td>\n      <td>584</td>\n      <td>932</td>\n    </tr>\n    <tr>\n      <th>1</th>\n      <td>강동구</td>\n      <td>773</td>\n      <td>379</td>\n      <td>99</td>\n      <td>155</td>\n      <td>377</td>\n    </tr>\n    <tr>\n      <th>2</th>\n      <td>강북구</td>\n      <td>748</td>\n      <td>369</td>\n      <td>120</td>\n      <td>138</td>\n      <td>204</td>\n    </tr>\n    <tr>\n      <th>3</th>\n      <td>강서구</td>\n      <td>884</td>\n      <td>388</td>\n      <td>258</td>\n      <td>184</td>\n      <td>81</td>\n    </tr>\n    <tr>\n      <th>4</th>\n      <td>관악구</td>\n      <td>1496</td>\n      <td>846</td>\n      <td>260</td>\n      <td>390</td>\n      <td>613</td>\n    </tr>\n    <tr>\n      <th>5</th>\n      <td>광진구</td>\n      <td>707</td>\n      <td>573</td>\n      <td>78</td>\n      <td>53</td>\n      <td>174</td>\n    </tr>\n    <tr>\n      <th>6</th>\n      <td>구로구</td>\n      <td>1561</td>\n      <td>1142</td>\n      <td>173</td>\n      <td>246</td>\n      <td>323</td>\n    </tr>\n    <tr>\n      <th>7</th>\n      <td>금천구</td>\n      <td>1015</td>\n      <td>674</td>\n      <td>51</td>\n      <td>269</td>\n      <td>354</td>\n    </tr>\n    <tr>\n      <th>8</th>\n      <td>노원구</td>\n      <td>1265</td>\n      <td>542</td>\n      <td>57</td>\n      <td>451</td>\n      <td>516</td>\n    </tr>\n    <tr>\n      <th>9</th>\n      <td>도봉구</td>\n      <td>485</td>\n      <td>238</td>\n      <td>159</td>\n      <td>42</td>\n      <td>386</td>\n    </tr>\n    <tr>\n      <th>10</th>\n      <td>동대문구</td>\n      <td>1294</td>\n      <td>1070</td>\n      <td>23</td>\n      <td>198</td>\n      <td>579</td>\n    </tr>\n    <tr>\n      <th>11</th>\n      <td>동작구</td>\n      <td>1091</td>\n      <td>544</td>\n      <td>341</td>\n      <td>103</td>\n      <td>314</td>\n    </tr>\n    <tr>\n      <th>12</th>\n      <td>마포구</td>\n      <td>574</td>\n      <td>314</td>\n      <td>118</td>\n      <td>169</td>\n      <td>379</td>\n    </tr>\n    <tr>\n      <th>13</th>\n      <td>서대문구</td>\n      <td>962</td>\n      <td>844</td>\n      <td>50</td>\n      <td>68</td>\n      <td>292</td>\n    </tr>\n    <tr>\n      <th>14</th>\n      <td>서초구</td>\n      <td>1930</td>\n      <td>1406</td>\n      <td>157</td>\n      <td>336</td>\n      <td>398</td>\n    </tr>\n    <tr>\n      <th>15</th>\n      <td>성동구</td>\n      <td>1062</td>\n      <td>730</td>\n      <td>91</td>\n      <td>241</td>\n      <td>265</td>\n    </tr>\n    <tr>\n      <th>16</th>\n      <td>성북구</td>\n      <td>1464</td>\n      <td>1009</td>\n      <td>78</td>\n      <td>360</td>\n      <td>204</td>\n    </tr>\n    <tr>\n      <th>17</th>\n      <td>송파구</td>\n      <td>618</td>\n      <td>529</td>\n      <td>21</td>\n      <td>68</td>\n      <td>463</td>\n    </tr>\n    <tr>\n      <th>18</th>\n      <td>양천구</td>\n      <td>2034</td>\n      <td>1843</td>\n      <td>142</td>\n      <td>30</td>\n      <td>467</td>\n    </tr>\n    <tr>\n      <th>19</th>\n      <td>영등포구</td>\n      <td>904</td>\n      <td>495</td>\n      <td>214</td>\n      <td>195</td>\n      <td>373</td>\n    </tr>\n    <tr>\n      <th>20</th>\n      <td>용산구</td>\n      <td>1624</td>\n      <td>1368</td>\n      <td>218</td>\n      <td>112</td>\n      <td>398</td>\n    </tr>\n    <tr>\n      <th>21</th>\n      <td>은평구</td>\n      <td>1873</td>\n      <td>1138</td>\n      <td>224</td>\n      <td>278</td>\n      <td>468</td>\n    </tr>\n    <tr>\n      <th>22</th>\n      <td>종로구</td>\n      <td>1002</td>\n      <td>464</td>\n      <td>314</td>\n      <td>211</td>\n      <td>630</td>\n    </tr>\n    <tr>\n      <th>23</th>\n      <td>중구</td>\n      <td>671</td>\n      <td>413</td>\n      <td>190</td>\n      <td>72</td>\n      <td>348</td>\n    </tr>\n    <tr>\n      <th>24</th>\n      <td>중랑구</td>\n      <td>660</td>\n      <td>509</td>\n      <td>121</td>\n      <td>177</td>\n      <td>109</td>\n    </tr>\n  </tbody>\n</table>\n</div>"
     },
     "execution_count": 3,
     "metadata": {},
     "output_type": "execute_result"
    }
   ],
   "source": [
    "cctv_seoul = pd.read_csv('./../data/CCTV_in_Seoul.csv')\n",
    "cctv_seoul"
   ],
   "metadata": {
    "collapsed": false,
    "pycharm": {
     "name": "#%%\n"
    }
   }
  },
  {
   "cell_type": "code",
   "execution_count": 4,
   "outputs": [
    {
     "data": {
      "text/plain": "Index(['기관명', '소계', '2013년도 이전', '2014년', '2015년', '2016년'], dtype='object')"
     },
     "execution_count": 4,
     "metadata": {},
     "output_type": "execute_result"
    }
   ],
   "source": [
    "cctv_seoul.columns"
   ],
   "metadata": {
    "collapsed": false,
    "pycharm": {
     "name": "#%%\n"
    }
   }
  },
  {
   "cell_type": "code",
   "execution_count": 5,
   "outputs": [
    {
     "data": {
      "text/plain": "'기관명'"
     },
     "execution_count": 5,
     "metadata": {},
     "output_type": "execute_result"
    }
   ],
   "source": [
    "cctv_seoul.columns[0]"
   ],
   "metadata": {
    "collapsed": false,
    "pycharm": {
     "name": "#%%\n"
    }
   }
  },
  {
   "cell_type": "code",
   "execution_count": 6,
   "outputs": [
    {
     "data": {
      "text/plain": "    구별    소계  2013년도 이전  2014년  2015년  2016년\n0  강남구  2780       1292    430    584    932\n1  강동구   773        379     99    155    377\n2  강북구   748        369    120    138    204\n3  강서구   884        388    258    184     81\n4  관악구  1496        846    260    390    613",
      "text/html": "<div>\n<style scoped>\n    .dataframe tbody tr th:only-of-type {\n        vertical-align: middle;\n    }\n\n    .dataframe tbody tr th {\n        vertical-align: top;\n    }\n\n    .dataframe thead th {\n        text-align: right;\n    }\n</style>\n<table border=\"1\" class=\"dataframe\">\n  <thead>\n    <tr style=\"text-align: right;\">\n      <th></th>\n      <th>구별</th>\n      <th>소계</th>\n      <th>2013년도 이전</th>\n      <th>2014년</th>\n      <th>2015년</th>\n      <th>2016년</th>\n    </tr>\n  </thead>\n  <tbody>\n    <tr>\n      <th>0</th>\n      <td>강남구</td>\n      <td>2780</td>\n      <td>1292</td>\n      <td>430</td>\n      <td>584</td>\n      <td>932</td>\n    </tr>\n    <tr>\n      <th>1</th>\n      <td>강동구</td>\n      <td>773</td>\n      <td>379</td>\n      <td>99</td>\n      <td>155</td>\n      <td>377</td>\n    </tr>\n    <tr>\n      <th>2</th>\n      <td>강북구</td>\n      <td>748</td>\n      <td>369</td>\n      <td>120</td>\n      <td>138</td>\n      <td>204</td>\n    </tr>\n    <tr>\n      <th>3</th>\n      <td>강서구</td>\n      <td>884</td>\n      <td>388</td>\n      <td>258</td>\n      <td>184</td>\n      <td>81</td>\n    </tr>\n    <tr>\n      <th>4</th>\n      <td>관악구</td>\n      <td>1496</td>\n      <td>846</td>\n      <td>260</td>\n      <td>390</td>\n      <td>613</td>\n    </tr>\n  </tbody>\n</table>\n</div>"
     },
     "execution_count": 6,
     "metadata": {},
     "output_type": "execute_result"
    }
   ],
   "source": [
    "# inplace = True : 변수의 내용을 갱신하라는 의미\n",
    "cctv_seoul.rename(columns = {cctv_seoul.columns[0]: '구별'}, inplace=True)\n",
    "cctv_seoul.head()"
   ],
   "metadata": {
    "collapsed": false,
    "pycharm": {
     "name": "#%%\n"
    }
   }
  },
  {
   "cell_type": "code",
   "execution_count": 8,
   "outputs": [
    {
     "data": {
      "text/plain": "   자치구           계        계.1       계.2   65세이상고령자\n0   합계  10197604.0  9926968.0  270636.0  1321458.0\n1  종로구    162820.0   153589.0    9231.0    25425.0\n2   중구    133240.0   124312.0    8928.0    20764.0\n3  용산구    244203.0   229456.0   14747.0    36231.0\n4  성동구    311244.0   303380.0    7864.0    39997.0",
      "text/html": "<div>\n<style scoped>\n    .dataframe tbody tr th:only-of-type {\n        vertical-align: middle;\n    }\n\n    .dataframe tbody tr th {\n        vertical-align: top;\n    }\n\n    .dataframe thead th {\n        text-align: right;\n    }\n</style>\n<table border=\"1\" class=\"dataframe\">\n  <thead>\n    <tr style=\"text-align: right;\">\n      <th></th>\n      <th>자치구</th>\n      <th>계</th>\n      <th>계.1</th>\n      <th>계.2</th>\n      <th>65세이상고령자</th>\n    </tr>\n  </thead>\n  <tbody>\n    <tr>\n      <th>0</th>\n      <td>합계</td>\n      <td>10197604.0</td>\n      <td>9926968.0</td>\n      <td>270636.0</td>\n      <td>1321458.0</td>\n    </tr>\n    <tr>\n      <th>1</th>\n      <td>종로구</td>\n      <td>162820.0</td>\n      <td>153589.0</td>\n      <td>9231.0</td>\n      <td>25425.0</td>\n    </tr>\n    <tr>\n      <th>2</th>\n      <td>중구</td>\n      <td>133240.0</td>\n      <td>124312.0</td>\n      <td>8928.0</td>\n      <td>20764.0</td>\n    </tr>\n    <tr>\n      <th>3</th>\n      <td>용산구</td>\n      <td>244203.0</td>\n      <td>229456.0</td>\n      <td>14747.0</td>\n      <td>36231.0</td>\n    </tr>\n    <tr>\n      <th>4</th>\n      <td>성동구</td>\n      <td>311244.0</td>\n      <td>303380.0</td>\n      <td>7864.0</td>\n      <td>39997.0</td>\n    </tr>\n  </tbody>\n</table>\n</div>"
     },
     "execution_count": 8,
     "metadata": {},
     "output_type": "execute_result"
    }
   ],
   "source": [
    "# 몇 번째 줄 부터 읽을 것인지 : header, parse_cols > usecols : 해당 열만 읽도록\n",
    "pop_seoul = pd.read_excel('./../data/population_in_Seoul.xls',\n",
    "                          header=2,\n",
    "                          usecols='B, D, G, J, N'\n",
    "                          )\n",
    "pop_seoul.head()"
   ],
   "metadata": {
    "collapsed": false,
    "pycharm": {
     "name": "#%%\n"
    }
   }
  },
  {
   "cell_type": "code",
   "execution_count": 9,
   "outputs": [
    {
     "data": {
      "text/plain": "    구별          인구        한국인       외국인        고령자\n0   합계  10197604.0  9926968.0  270636.0  1321458.0\n1  종로구    162820.0   153589.0    9231.0    25425.0\n2   중구    133240.0   124312.0    8928.0    20764.0\n3  용산구    244203.0   229456.0   14747.0    36231.0\n4  성동구    311244.0   303380.0    7864.0    39997.0",
      "text/html": "<div>\n<style scoped>\n    .dataframe tbody tr th:only-of-type {\n        vertical-align: middle;\n    }\n\n    .dataframe tbody tr th {\n        vertical-align: top;\n    }\n\n    .dataframe thead th {\n        text-align: right;\n    }\n</style>\n<table border=\"1\" class=\"dataframe\">\n  <thead>\n    <tr style=\"text-align: right;\">\n      <th></th>\n      <th>구별</th>\n      <th>인구</th>\n      <th>한국인</th>\n      <th>외국인</th>\n      <th>고령자</th>\n    </tr>\n  </thead>\n  <tbody>\n    <tr>\n      <th>0</th>\n      <td>합계</td>\n      <td>10197604.0</td>\n      <td>9926968.0</td>\n      <td>270636.0</td>\n      <td>1321458.0</td>\n    </tr>\n    <tr>\n      <th>1</th>\n      <td>종로구</td>\n      <td>162820.0</td>\n      <td>153589.0</td>\n      <td>9231.0</td>\n      <td>25425.0</td>\n    </tr>\n    <tr>\n      <th>2</th>\n      <td>중구</td>\n      <td>133240.0</td>\n      <td>124312.0</td>\n      <td>8928.0</td>\n      <td>20764.0</td>\n    </tr>\n    <tr>\n      <th>3</th>\n      <td>용산구</td>\n      <td>244203.0</td>\n      <td>229456.0</td>\n      <td>14747.0</td>\n      <td>36231.0</td>\n    </tr>\n    <tr>\n      <th>4</th>\n      <td>성동구</td>\n      <td>311244.0</td>\n      <td>303380.0</td>\n      <td>7864.0</td>\n      <td>39997.0</td>\n    </tr>\n  </tbody>\n</table>\n</div>"
     },
     "execution_count": 9,
     "metadata": {},
     "output_type": "execute_result"
    }
   ],
   "source": [
    "pop_seoul.rename(columns={\n",
    "    pop_seoul.columns[0]: '구별',\n",
    "    pop_seoul.columns[1]: '인구',\n",
    "    pop_seoul.columns[2]: '한국인',\n",
    "    pop_seoul.columns[3]: '외국인',\n",
    "    pop_seoul.columns[4]: '고령자'}, inplace=True)\n",
    "pop_seoul.head()"
   ],
   "metadata": {
    "collapsed": false,
    "pycharm": {
     "name": "#%%\n"
    }
   }
  },
  {
   "cell_type": "markdown",
   "source": [
    "## 1-4. pandas 이용해서 CCTV와 인구 현황 데이터 파악하기"
   ],
   "metadata": {
    "collapsed": false
   }
  },
  {
   "cell_type": "code",
   "execution_count": 10,
   "outputs": [
    {
     "data": {
      "text/plain": "    구별    소계  2013년도 이전  2014년  2015년  2016년\n0  강남구  2780       1292    430    584    932\n1  강동구   773        379     99    155    377\n2  강북구   748        369    120    138    204\n3  강서구   884        388    258    184     81\n4  관악구  1496        846    260    390    613",
      "text/html": "<div>\n<style scoped>\n    .dataframe tbody tr th:only-of-type {\n        vertical-align: middle;\n    }\n\n    .dataframe tbody tr th {\n        vertical-align: top;\n    }\n\n    .dataframe thead th {\n        text-align: right;\n    }\n</style>\n<table border=\"1\" class=\"dataframe\">\n  <thead>\n    <tr style=\"text-align: right;\">\n      <th></th>\n      <th>구별</th>\n      <th>소계</th>\n      <th>2013년도 이전</th>\n      <th>2014년</th>\n      <th>2015년</th>\n      <th>2016년</th>\n    </tr>\n  </thead>\n  <tbody>\n    <tr>\n      <th>0</th>\n      <td>강남구</td>\n      <td>2780</td>\n      <td>1292</td>\n      <td>430</td>\n      <td>584</td>\n      <td>932</td>\n    </tr>\n    <tr>\n      <th>1</th>\n      <td>강동구</td>\n      <td>773</td>\n      <td>379</td>\n      <td>99</td>\n      <td>155</td>\n      <td>377</td>\n    </tr>\n    <tr>\n      <th>2</th>\n      <td>강북구</td>\n      <td>748</td>\n      <td>369</td>\n      <td>120</td>\n      <td>138</td>\n      <td>204</td>\n    </tr>\n    <tr>\n      <th>3</th>\n      <td>강서구</td>\n      <td>884</td>\n      <td>388</td>\n      <td>258</td>\n      <td>184</td>\n      <td>81</td>\n    </tr>\n    <tr>\n      <th>4</th>\n      <td>관악구</td>\n      <td>1496</td>\n      <td>846</td>\n      <td>260</td>\n      <td>390</td>\n      <td>613</td>\n    </tr>\n  </tbody>\n</table>\n</div>"
     },
     "execution_count": 10,
     "metadata": {},
     "output_type": "execute_result"
    }
   ],
   "source": [
    "cctv_seoul.head()"
   ],
   "metadata": {
    "collapsed": false,
    "pycharm": {
     "name": "#%%\n"
    }
   }
  },
  {
   "cell_type": "markdown",
   "source": [
    "* cctv의 전체 개수가 가장 작은 구는 도봉구, 마포구, 송파구, 중랑구, 중구"
   ],
   "metadata": {
    "collapsed": false
   }
  },
  {
   "cell_type": "code",
   "execution_count": 11,
   "outputs": [
    {
     "data": {
      "text/plain": "     구별   소계  2013년도 이전  2014년  2015년  2016년\n9   도봉구  485        238    159     42    386\n12  마포구  574        314    118    169    379\n17  송파구  618        529     21     68    463\n24  중랑구  660        509    121    177    109\n23   중구  671        413    190     72    348",
      "text/html": "<div>\n<style scoped>\n    .dataframe tbody tr th:only-of-type {\n        vertical-align: middle;\n    }\n\n    .dataframe tbody tr th {\n        vertical-align: top;\n    }\n\n    .dataframe thead th {\n        text-align: right;\n    }\n</style>\n<table border=\"1\" class=\"dataframe\">\n  <thead>\n    <tr style=\"text-align: right;\">\n      <th></th>\n      <th>구별</th>\n      <th>소계</th>\n      <th>2013년도 이전</th>\n      <th>2014년</th>\n      <th>2015년</th>\n      <th>2016년</th>\n    </tr>\n  </thead>\n  <tbody>\n    <tr>\n      <th>9</th>\n      <td>도봉구</td>\n      <td>485</td>\n      <td>238</td>\n      <td>159</td>\n      <td>42</td>\n      <td>386</td>\n    </tr>\n    <tr>\n      <th>12</th>\n      <td>마포구</td>\n      <td>574</td>\n      <td>314</td>\n      <td>118</td>\n      <td>169</td>\n      <td>379</td>\n    </tr>\n    <tr>\n      <th>17</th>\n      <td>송파구</td>\n      <td>618</td>\n      <td>529</td>\n      <td>21</td>\n      <td>68</td>\n      <td>463</td>\n    </tr>\n    <tr>\n      <th>24</th>\n      <td>중랑구</td>\n      <td>660</td>\n      <td>509</td>\n      <td>121</td>\n      <td>177</td>\n      <td>109</td>\n    </tr>\n    <tr>\n      <th>23</th>\n      <td>중구</td>\n      <td>671</td>\n      <td>413</td>\n      <td>190</td>\n      <td>72</td>\n      <td>348</td>\n    </tr>\n  </tbody>\n</table>\n</div>"
     },
     "execution_count": 11,
     "metadata": {},
     "output_type": "execute_result"
    }
   ],
   "source": [
    "cctv_seoul.sort_values(by='소계', ascending=True).head(5)"
   ],
   "metadata": {
    "collapsed": false,
    "pycharm": {
     "name": "#%%\n"
    }
   }
  },
  {
   "cell_type": "markdown",
   "source": [
    "* cctv가 가장 많은 구는 강남구, 양천구, 서초구, 은평구, 용산구로 나타남"
   ],
   "metadata": {
    "collapsed": false
   }
  },
  {
   "cell_type": "code",
   "execution_count": 12,
   "outputs": [
    {
     "data": {
      "text/plain": "     구별    소계  2013년도 이전  2014년  2015년  2016년\n0   강남구  2780       1292    430    584    932\n18  양천구  2034       1843    142     30    467\n14  서초구  1930       1406    157    336    398\n21  은평구  1873       1138    224    278    468\n20  용산구  1624       1368    218    112    398",
      "text/html": "<div>\n<style scoped>\n    .dataframe tbody tr th:only-of-type {\n        vertical-align: middle;\n    }\n\n    .dataframe tbody tr th {\n        vertical-align: top;\n    }\n\n    .dataframe thead th {\n        text-align: right;\n    }\n</style>\n<table border=\"1\" class=\"dataframe\">\n  <thead>\n    <tr style=\"text-align: right;\">\n      <th></th>\n      <th>구별</th>\n      <th>소계</th>\n      <th>2013년도 이전</th>\n      <th>2014년</th>\n      <th>2015년</th>\n      <th>2016년</th>\n    </tr>\n  </thead>\n  <tbody>\n    <tr>\n      <th>0</th>\n      <td>강남구</td>\n      <td>2780</td>\n      <td>1292</td>\n      <td>430</td>\n      <td>584</td>\n      <td>932</td>\n    </tr>\n    <tr>\n      <th>18</th>\n      <td>양천구</td>\n      <td>2034</td>\n      <td>1843</td>\n      <td>142</td>\n      <td>30</td>\n      <td>467</td>\n    </tr>\n    <tr>\n      <th>14</th>\n      <td>서초구</td>\n      <td>1930</td>\n      <td>1406</td>\n      <td>157</td>\n      <td>336</td>\n      <td>398</td>\n    </tr>\n    <tr>\n      <th>21</th>\n      <td>은평구</td>\n      <td>1873</td>\n      <td>1138</td>\n      <td>224</td>\n      <td>278</td>\n      <td>468</td>\n    </tr>\n    <tr>\n      <th>20</th>\n      <td>용산구</td>\n      <td>1624</td>\n      <td>1368</td>\n      <td>218</td>\n      <td>112</td>\n      <td>398</td>\n    </tr>\n  </tbody>\n</table>\n</div>"
     },
     "execution_count": 12,
     "metadata": {},
     "output_type": "execute_result"
    }
   ],
   "source": [
    "cctv_seoul.sort_values(by='소계', ascending=False).head(5)"
   ],
   "metadata": {
    "collapsed": false,
    "pycharm": {
     "name": "#%%\n"
    }
   }
  },
  {
   "cell_type": "markdown",
   "source": [
    "* 특히 2014년부터 2016년까지 최근 3년간 CCTV 수를 더하고 2013년 이전 CCTV 수로 나눠서 최근 3년간 CCTV 증가율을 계산\n",
    "* 최근 3년간 cctv가 그 이전 대비 많이 증가한 구는 종로구, 도봉구, 마포구, 노원구, 강동구"
   ],
   "metadata": {
    "collapsed": false
   }
  },
  {
   "cell_type": "code",
   "execution_count": 13,
   "outputs": [
    {
     "data": {
      "text/plain": "     구별    소계  2013년도 이전  2014년  2015년  2016년       최근증가율\n22  종로구  1002        464    314    211    630  248.922414\n9   도봉구   485        238    159     42    386  246.638655\n12  마포구   574        314    118    169    379  212.101911\n8   노원구  1265        542     57    451    516  188.929889\n1   강동구   773        379     99    155    377  166.490765",
      "text/html": "<div>\n<style scoped>\n    .dataframe tbody tr th:only-of-type {\n        vertical-align: middle;\n    }\n\n    .dataframe tbody tr th {\n        vertical-align: top;\n    }\n\n    .dataframe thead th {\n        text-align: right;\n    }\n</style>\n<table border=\"1\" class=\"dataframe\">\n  <thead>\n    <tr style=\"text-align: right;\">\n      <th></th>\n      <th>구별</th>\n      <th>소계</th>\n      <th>2013년도 이전</th>\n      <th>2014년</th>\n      <th>2015년</th>\n      <th>2016년</th>\n      <th>최근증가율</th>\n    </tr>\n  </thead>\n  <tbody>\n    <tr>\n      <th>22</th>\n      <td>종로구</td>\n      <td>1002</td>\n      <td>464</td>\n      <td>314</td>\n      <td>211</td>\n      <td>630</td>\n      <td>248.922414</td>\n    </tr>\n    <tr>\n      <th>9</th>\n      <td>도봉구</td>\n      <td>485</td>\n      <td>238</td>\n      <td>159</td>\n      <td>42</td>\n      <td>386</td>\n      <td>246.638655</td>\n    </tr>\n    <tr>\n      <th>12</th>\n      <td>마포구</td>\n      <td>574</td>\n      <td>314</td>\n      <td>118</td>\n      <td>169</td>\n      <td>379</td>\n      <td>212.101911</td>\n    </tr>\n    <tr>\n      <th>8</th>\n      <td>노원구</td>\n      <td>1265</td>\n      <td>542</td>\n      <td>57</td>\n      <td>451</td>\n      <td>516</td>\n      <td>188.929889</td>\n    </tr>\n    <tr>\n      <th>1</th>\n      <td>강동구</td>\n      <td>773</td>\n      <td>379</td>\n      <td>99</td>\n      <td>155</td>\n      <td>377</td>\n      <td>166.490765</td>\n    </tr>\n  </tbody>\n</table>\n</div>"
     },
     "execution_count": 13,
     "metadata": {},
     "output_type": "execute_result"
    }
   ],
   "source": [
    "cctv_seoul['최근증가율'] = (cctv_seoul['2016년'] + cctv_seoul['2015년'] + cctv_seoul['2014년']) / cctv_seoul['2013년도 이전'] * 100\n",
    "cctv_seoul.sort_values(by='최근증가율', ascending=False).head(5)"
   ],
   "metadata": {
    "collapsed": false,
    "pycharm": {
     "name": "#%%\n"
    }
   }
  },
  {
   "cell_type": "code",
   "execution_count": 14,
   "outputs": [
    {
     "data": {
      "text/plain": "    구별          인구        한국인       외국인        고령자\n0   합계  10197604.0  9926968.0  270636.0  1321458.0\n1  종로구    162820.0   153589.0    9231.0    25425.0\n2   중구    133240.0   124312.0    8928.0    20764.0\n3  용산구    244203.0   229456.0   14747.0    36231.0\n4  성동구    311244.0   303380.0    7864.0    39997.0",
      "text/html": "<div>\n<style scoped>\n    .dataframe tbody tr th:only-of-type {\n        vertical-align: middle;\n    }\n\n    .dataframe tbody tr th {\n        vertical-align: top;\n    }\n\n    .dataframe thead th {\n        text-align: right;\n    }\n</style>\n<table border=\"1\" class=\"dataframe\">\n  <thead>\n    <tr style=\"text-align: right;\">\n      <th></th>\n      <th>구별</th>\n      <th>인구</th>\n      <th>한국인</th>\n      <th>외국인</th>\n      <th>고령자</th>\n    </tr>\n  </thead>\n  <tbody>\n    <tr>\n      <th>0</th>\n      <td>합계</td>\n      <td>10197604.0</td>\n      <td>9926968.0</td>\n      <td>270636.0</td>\n      <td>1321458.0</td>\n    </tr>\n    <tr>\n      <th>1</th>\n      <td>종로구</td>\n      <td>162820.0</td>\n      <td>153589.0</td>\n      <td>9231.0</td>\n      <td>25425.0</td>\n    </tr>\n    <tr>\n      <th>2</th>\n      <td>중구</td>\n      <td>133240.0</td>\n      <td>124312.0</td>\n      <td>8928.0</td>\n      <td>20764.0</td>\n    </tr>\n    <tr>\n      <th>3</th>\n      <td>용산구</td>\n      <td>244203.0</td>\n      <td>229456.0</td>\n      <td>14747.0</td>\n      <td>36231.0</td>\n    </tr>\n    <tr>\n      <th>4</th>\n      <td>성동구</td>\n      <td>311244.0</td>\n      <td>303380.0</td>\n      <td>7864.0</td>\n      <td>39997.0</td>\n    </tr>\n  </tbody>\n</table>\n</div>"
     },
     "execution_count": 14,
     "metadata": {},
     "output_type": "execute_result"
    }
   ],
   "source": [
    "pop_seoul.head()"
   ],
   "metadata": {
    "collapsed": false,
    "pycharm": {
     "name": "#%%\n"
    }
   }
  },
  {
   "cell_type": "markdown",
   "source": [
    "* 0번 행의 합계 삭제"
   ],
   "metadata": {
    "collapsed": false
   }
  },
  {
   "cell_type": "code",
   "execution_count": 15,
   "outputs": [
    {
     "data": {
      "text/plain": "    구별        인구       한국인      외국인      고령자\n1  종로구  162820.0  153589.0   9231.0  25425.0\n2   중구  133240.0  124312.0   8928.0  20764.0\n3  용산구  244203.0  229456.0  14747.0  36231.0\n4  성동구  311244.0  303380.0   7864.0  39997.0\n5  광진구  372164.0  357211.0  14953.0  42214.0",
      "text/html": "<div>\n<style scoped>\n    .dataframe tbody tr th:only-of-type {\n        vertical-align: middle;\n    }\n\n    .dataframe tbody tr th {\n        vertical-align: top;\n    }\n\n    .dataframe thead th {\n        text-align: right;\n    }\n</style>\n<table border=\"1\" class=\"dataframe\">\n  <thead>\n    <tr style=\"text-align: right;\">\n      <th></th>\n      <th>구별</th>\n      <th>인구</th>\n      <th>한국인</th>\n      <th>외국인</th>\n      <th>고령자</th>\n    </tr>\n  </thead>\n  <tbody>\n    <tr>\n      <th>1</th>\n      <td>종로구</td>\n      <td>162820.0</td>\n      <td>153589.0</td>\n      <td>9231.0</td>\n      <td>25425.0</td>\n    </tr>\n    <tr>\n      <th>2</th>\n      <td>중구</td>\n      <td>133240.0</td>\n      <td>124312.0</td>\n      <td>8928.0</td>\n      <td>20764.0</td>\n    </tr>\n    <tr>\n      <th>3</th>\n      <td>용산구</td>\n      <td>244203.0</td>\n      <td>229456.0</td>\n      <td>14747.0</td>\n      <td>36231.0</td>\n    </tr>\n    <tr>\n      <th>4</th>\n      <td>성동구</td>\n      <td>311244.0</td>\n      <td>303380.0</td>\n      <td>7864.0</td>\n      <td>39997.0</td>\n    </tr>\n    <tr>\n      <th>5</th>\n      <td>광진구</td>\n      <td>372164.0</td>\n      <td>357211.0</td>\n      <td>14953.0</td>\n      <td>42214.0</td>\n    </tr>\n  </tbody>\n</table>\n</div>"
     },
     "execution_count": 15,
     "metadata": {},
     "output_type": "execute_result"
    }
   ],
   "source": [
    "pop_seoul.drop([0], inplace=True)\n",
    "pop_seoul.head()"
   ],
   "metadata": {
    "collapsed": false,
    "pycharm": {
     "name": "#%%\n"
    }
   }
  },
  {
   "cell_type": "code",
   "execution_count": 16,
   "outputs": [
    {
     "data": {
      "text/plain": "array(['종로구', '중구', '용산구', '성동구', '광진구', '동대문구', '중랑구', '성북구', '강북구',\n       '도봉구', '노원구', '은평구', '서대문구', '마포구', '양천구', '강서구', '구로구', '금천구',\n       '영등포구', '동작구', '관악구', '서초구', '강남구', '송파구', '강동구', nan],\n      dtype=object)"
     },
     "execution_count": 16,
     "metadata": {},
     "output_type": "execute_result"
    }
   ],
   "source": [
    "# unique : 반복된 데이터 중 한 번 이상 나타난 데이터 확인\n",
    "pop_seoul['구별'].unique()"
   ],
   "metadata": {
    "collapsed": false,
    "pycharm": {
     "name": "#%%\n"
    }
   }
  },
  {
   "cell_type": "code",
   "execution_count": 17,
   "outputs": [
    {
     "data": {
      "text/plain": "     구별  인구  한국인  외국인  고령자\n26  NaN NaN  NaN  NaN  NaN",
      "text/html": "<div>\n<style scoped>\n    .dataframe tbody tr th:only-of-type {\n        vertical-align: middle;\n    }\n\n    .dataframe tbody tr th {\n        vertical-align: top;\n    }\n\n    .dataframe thead th {\n        text-align: right;\n    }\n</style>\n<table border=\"1\" class=\"dataframe\">\n  <thead>\n    <tr style=\"text-align: right;\">\n      <th></th>\n      <th>구별</th>\n      <th>인구</th>\n      <th>한국인</th>\n      <th>외국인</th>\n      <th>고령자</th>\n    </tr>\n  </thead>\n  <tbody>\n    <tr>\n      <th>26</th>\n      <td>NaN</td>\n      <td>NaN</td>\n      <td>NaN</td>\n      <td>NaN</td>\n      <td>NaN</td>\n    </tr>\n  </tbody>\n</table>\n</div>"
     },
     "execution_count": 17,
     "metadata": {},
     "output_type": "execute_result"
    }
   ],
   "source": [
    "pop_seoul[pop_seoul['구별'].isnull()]"
   ],
   "metadata": {
    "collapsed": false,
    "pycharm": {
     "name": "#%%\n"
    }
   }
  },
  {
   "cell_type": "code",
   "execution_count": 18,
   "outputs": [],
   "source": [
    "pop_seoul.drop([26], inplace=True)"
   ],
   "metadata": {
    "collapsed": false,
    "pycharm": {
     "name": "#%%\n"
    }
   }
  },
  {
   "cell_type": "markdown",
   "source": [
    "* 각 구별 전체 인구를 이용해서 구별 외국인 비율과 고령자 비율 계산\n",
    "* 인구 수로 정렬 시, 송파구, 강서구, 강남구, 노원구, 관악구 순으로 인구가 많음"
   ],
   "metadata": {
    "collapsed": false
   }
  },
  {
   "cell_type": "code",
   "execution_count": 20,
   "outputs": [
    {
     "data": {
      "text/plain": "    구별        인구       한국인      외국인      고령자     외국인비율      고령자비율\n1  종로구  162820.0  153589.0   9231.0  25425.0  5.669451  15.615404\n2   중구  133240.0  124312.0   8928.0  20764.0  6.700690  15.583909\n3  용산구  244203.0  229456.0  14747.0  36231.0  6.038828  14.836427\n4  성동구  311244.0  303380.0   7864.0  39997.0  2.526635  12.850689\n5  광진구  372164.0  357211.0  14953.0  42214.0  4.017852  11.342849",
      "text/html": "<div>\n<style scoped>\n    .dataframe tbody tr th:only-of-type {\n        vertical-align: middle;\n    }\n\n    .dataframe tbody tr th {\n        vertical-align: top;\n    }\n\n    .dataframe thead th {\n        text-align: right;\n    }\n</style>\n<table border=\"1\" class=\"dataframe\">\n  <thead>\n    <tr style=\"text-align: right;\">\n      <th></th>\n      <th>구별</th>\n      <th>인구</th>\n      <th>한국인</th>\n      <th>외국인</th>\n      <th>고령자</th>\n      <th>외국인비율</th>\n      <th>고령자비율</th>\n    </tr>\n  </thead>\n  <tbody>\n    <tr>\n      <th>1</th>\n      <td>종로구</td>\n      <td>162820.0</td>\n      <td>153589.0</td>\n      <td>9231.0</td>\n      <td>25425.0</td>\n      <td>5.669451</td>\n      <td>15.615404</td>\n    </tr>\n    <tr>\n      <th>2</th>\n      <td>중구</td>\n      <td>133240.0</td>\n      <td>124312.0</td>\n      <td>8928.0</td>\n      <td>20764.0</td>\n      <td>6.700690</td>\n      <td>15.583909</td>\n    </tr>\n    <tr>\n      <th>3</th>\n      <td>용산구</td>\n      <td>244203.0</td>\n      <td>229456.0</td>\n      <td>14747.0</td>\n      <td>36231.0</td>\n      <td>6.038828</td>\n      <td>14.836427</td>\n    </tr>\n    <tr>\n      <th>4</th>\n      <td>성동구</td>\n      <td>311244.0</td>\n      <td>303380.0</td>\n      <td>7864.0</td>\n      <td>39997.0</td>\n      <td>2.526635</td>\n      <td>12.850689</td>\n    </tr>\n    <tr>\n      <th>5</th>\n      <td>광진구</td>\n      <td>372164.0</td>\n      <td>357211.0</td>\n      <td>14953.0</td>\n      <td>42214.0</td>\n      <td>4.017852</td>\n      <td>11.342849</td>\n    </tr>\n  </tbody>\n</table>\n</div>"
     },
     "execution_count": 20,
     "metadata": {},
     "output_type": "execute_result"
    }
   ],
   "source": [
    "pop_seoul['외국인비율'] = pop_seoul['외국인'] / pop_seoul['인구'] * 100\n",
    "pop_seoul['고령자비율'] = pop_seoul['고령자'] / pop_seoul['인구'] * 100\n",
    "pop_seoul.head()"
   ],
   "metadata": {
    "collapsed": false,
    "pycharm": {
     "name": "#%%\n"
    }
   }
  },
  {
   "cell_type": "code",
   "execution_count": 21,
   "outputs": [
    {
     "data": {
      "text/plain": "     구별        인구       한국인      외국인      고령자     외국인비율      고령자비율\n24  송파구  667483.0  660584.0   6899.0  72506.0  1.033584  10.862599\n16  강서구  603772.0  597248.0   6524.0  72548.0  1.080540  12.015794\n23  강남구  570500.0  565550.0   4950.0  63167.0  0.867660  11.072217\n11  노원구  569384.0  565565.0   3819.0  71941.0  0.670725  12.634883\n21  관악구  525515.0  507203.0  18312.0  68082.0  3.484582  12.955291",
      "text/html": "<div>\n<style scoped>\n    .dataframe tbody tr th:only-of-type {\n        vertical-align: middle;\n    }\n\n    .dataframe tbody tr th {\n        vertical-align: top;\n    }\n\n    .dataframe thead th {\n        text-align: right;\n    }\n</style>\n<table border=\"1\" class=\"dataframe\">\n  <thead>\n    <tr style=\"text-align: right;\">\n      <th></th>\n      <th>구별</th>\n      <th>인구</th>\n      <th>한국인</th>\n      <th>외국인</th>\n      <th>고령자</th>\n      <th>외국인비율</th>\n      <th>고령자비율</th>\n    </tr>\n  </thead>\n  <tbody>\n    <tr>\n      <th>24</th>\n      <td>송파구</td>\n      <td>667483.0</td>\n      <td>660584.0</td>\n      <td>6899.0</td>\n      <td>72506.0</td>\n      <td>1.033584</td>\n      <td>10.862599</td>\n    </tr>\n    <tr>\n      <th>16</th>\n      <td>강서구</td>\n      <td>603772.0</td>\n      <td>597248.0</td>\n      <td>6524.0</td>\n      <td>72548.0</td>\n      <td>1.080540</td>\n      <td>12.015794</td>\n    </tr>\n    <tr>\n      <th>23</th>\n      <td>강남구</td>\n      <td>570500.0</td>\n      <td>565550.0</td>\n      <td>4950.0</td>\n      <td>63167.0</td>\n      <td>0.867660</td>\n      <td>11.072217</td>\n    </tr>\n    <tr>\n      <th>11</th>\n      <td>노원구</td>\n      <td>569384.0</td>\n      <td>565565.0</td>\n      <td>3819.0</td>\n      <td>71941.0</td>\n      <td>0.670725</td>\n      <td>12.634883</td>\n    </tr>\n    <tr>\n      <th>21</th>\n      <td>관악구</td>\n      <td>525515.0</td>\n      <td>507203.0</td>\n      <td>18312.0</td>\n      <td>68082.0</td>\n      <td>3.484582</td>\n      <td>12.955291</td>\n    </tr>\n  </tbody>\n</table>\n</div>"
     },
     "execution_count": 21,
     "metadata": {},
     "output_type": "execute_result"
    }
   ],
   "source": [
    "pop_seoul.sort_values(by='인구', ascending=False).head(5)"
   ],
   "metadata": {
    "collapsed": false,
    "pycharm": {
     "name": "#%%\n"
    }
   }
  },
  {
   "cell_type": "markdown",
   "source": [
    "* 외국인 숫자가 많은 구는 영등포, 구로구, 금천구, 관악구, 동대문구\n",
    "* 외국인 비율이 높은 구는 영등포, 금천구, 구로구, 중구, 용산구"
   ],
   "metadata": {
    "collapsed": false
   }
  },
  {
   "cell_type": "code",
   "execution_count": 22,
   "outputs": [
    {
     "data": {
      "text/plain": "      구별        인구       한국인      외국인      고령자     외국인비율      고령자비율\n19  영등포구  402985.0  368072.0  34913.0  52413.0  8.663598  13.006191\n17   구로구  447874.0  416487.0  31387.0  56833.0  7.007998  12.689506\n18   금천구  255082.0  236353.0  18729.0  32970.0  7.342345  12.925255\n21   관악구  525515.0  507203.0  18312.0  68082.0  3.484582  12.955291\n6   동대문구  369496.0  354079.0  15417.0  54173.0  4.172440  14.661322",
      "text/html": "<div>\n<style scoped>\n    .dataframe tbody tr th:only-of-type {\n        vertical-align: middle;\n    }\n\n    .dataframe tbody tr th {\n        vertical-align: top;\n    }\n\n    .dataframe thead th {\n        text-align: right;\n    }\n</style>\n<table border=\"1\" class=\"dataframe\">\n  <thead>\n    <tr style=\"text-align: right;\">\n      <th></th>\n      <th>구별</th>\n      <th>인구</th>\n      <th>한국인</th>\n      <th>외국인</th>\n      <th>고령자</th>\n      <th>외국인비율</th>\n      <th>고령자비율</th>\n    </tr>\n  </thead>\n  <tbody>\n    <tr>\n      <th>19</th>\n      <td>영등포구</td>\n      <td>402985.0</td>\n      <td>368072.0</td>\n      <td>34913.0</td>\n      <td>52413.0</td>\n      <td>8.663598</td>\n      <td>13.006191</td>\n    </tr>\n    <tr>\n      <th>17</th>\n      <td>구로구</td>\n      <td>447874.0</td>\n      <td>416487.0</td>\n      <td>31387.0</td>\n      <td>56833.0</td>\n      <td>7.007998</td>\n      <td>12.689506</td>\n    </tr>\n    <tr>\n      <th>18</th>\n      <td>금천구</td>\n      <td>255082.0</td>\n      <td>236353.0</td>\n      <td>18729.0</td>\n      <td>32970.0</td>\n      <td>7.342345</td>\n      <td>12.925255</td>\n    </tr>\n    <tr>\n      <th>21</th>\n      <td>관악구</td>\n      <td>525515.0</td>\n      <td>507203.0</td>\n      <td>18312.0</td>\n      <td>68082.0</td>\n      <td>3.484582</td>\n      <td>12.955291</td>\n    </tr>\n    <tr>\n      <th>6</th>\n      <td>동대문구</td>\n      <td>369496.0</td>\n      <td>354079.0</td>\n      <td>15417.0</td>\n      <td>54173.0</td>\n      <td>4.172440</td>\n      <td>14.661322</td>\n    </tr>\n  </tbody>\n</table>\n</div>"
     },
     "execution_count": 22,
     "metadata": {},
     "output_type": "execute_result"
    }
   ],
   "source": [
    "pop_seoul.sort_values(by='외국인', ascending=False).head(5)"
   ],
   "metadata": {
    "collapsed": false,
    "pycharm": {
     "name": "#%%\n"
    }
   }
  },
  {
   "cell_type": "code",
   "execution_count": 23,
   "outputs": [
    {
     "data": {
      "text/plain": "      구별        인구       한국인      외국인      고령자     외국인비율      고령자비율\n19  영등포구  402985.0  368072.0  34913.0  52413.0  8.663598  13.006191\n18   금천구  255082.0  236353.0  18729.0  32970.0  7.342345  12.925255\n17   구로구  447874.0  416487.0  31387.0  56833.0  7.007998  12.689506\n2     중구  133240.0  124312.0   8928.0  20764.0  6.700690  15.583909\n3    용산구  244203.0  229456.0  14747.0  36231.0  6.038828  14.836427",
      "text/html": "<div>\n<style scoped>\n    .dataframe tbody tr th:only-of-type {\n        vertical-align: middle;\n    }\n\n    .dataframe tbody tr th {\n        vertical-align: top;\n    }\n\n    .dataframe thead th {\n        text-align: right;\n    }\n</style>\n<table border=\"1\" class=\"dataframe\">\n  <thead>\n    <tr style=\"text-align: right;\">\n      <th></th>\n      <th>구별</th>\n      <th>인구</th>\n      <th>한국인</th>\n      <th>외국인</th>\n      <th>고령자</th>\n      <th>외국인비율</th>\n      <th>고령자비율</th>\n    </tr>\n  </thead>\n  <tbody>\n    <tr>\n      <th>19</th>\n      <td>영등포구</td>\n      <td>402985.0</td>\n      <td>368072.0</td>\n      <td>34913.0</td>\n      <td>52413.0</td>\n      <td>8.663598</td>\n      <td>13.006191</td>\n    </tr>\n    <tr>\n      <th>18</th>\n      <td>금천구</td>\n      <td>255082.0</td>\n      <td>236353.0</td>\n      <td>18729.0</td>\n      <td>32970.0</td>\n      <td>7.342345</td>\n      <td>12.925255</td>\n    </tr>\n    <tr>\n      <th>17</th>\n      <td>구로구</td>\n      <td>447874.0</td>\n      <td>416487.0</td>\n      <td>31387.0</td>\n      <td>56833.0</td>\n      <td>7.007998</td>\n      <td>12.689506</td>\n    </tr>\n    <tr>\n      <th>2</th>\n      <td>중구</td>\n      <td>133240.0</td>\n      <td>124312.0</td>\n      <td>8928.0</td>\n      <td>20764.0</td>\n      <td>6.700690</td>\n      <td>15.583909</td>\n    </tr>\n    <tr>\n      <th>3</th>\n      <td>용산구</td>\n      <td>244203.0</td>\n      <td>229456.0</td>\n      <td>14747.0</td>\n      <td>36231.0</td>\n      <td>6.038828</td>\n      <td>14.836427</td>\n    </tr>\n  </tbody>\n</table>\n</div>"
     },
     "execution_count": 23,
     "metadata": {},
     "output_type": "execute_result"
    }
   ],
   "source": [
    "pop_seoul.sort_values(by='외국인비율', ascending=False).head(5)"
   ],
   "metadata": {
    "collapsed": false,
    "pycharm": {
     "name": "#%%\n"
    }
   }
  },
  {
   "cell_type": "markdown",
   "source": [
    "* 고령자가 많은 구는 강서구, 송파구, 은평구, 노원구, 관악구\n",
    "* 고령자 비율이 높은 구는 강북구, 종로구, 중구, 용산구, 서대문구"
   ],
   "metadata": {
    "collapsed": false
   }
  },
  {
   "cell_type": "code",
   "execution_count": 24,
   "outputs": [
    {
     "data": {
      "text/plain": "     구별        인구       한국인      외국인      고령자     외국인비율      고령자비율\n16  강서구  603772.0  597248.0   6524.0  72548.0  1.080540  12.015794\n24  송파구  667483.0  660584.0   6899.0  72506.0  1.033584  10.862599\n12  은평구  494388.0  489943.0   4445.0  72334.0  0.899091  14.631019\n11  노원구  569384.0  565565.0   3819.0  71941.0  0.670725  12.634883\n21  관악구  525515.0  507203.0  18312.0  68082.0  3.484582  12.955291",
      "text/html": "<div>\n<style scoped>\n    .dataframe tbody tr th:only-of-type {\n        vertical-align: middle;\n    }\n\n    .dataframe tbody tr th {\n        vertical-align: top;\n    }\n\n    .dataframe thead th {\n        text-align: right;\n    }\n</style>\n<table border=\"1\" class=\"dataframe\">\n  <thead>\n    <tr style=\"text-align: right;\">\n      <th></th>\n      <th>구별</th>\n      <th>인구</th>\n      <th>한국인</th>\n      <th>외국인</th>\n      <th>고령자</th>\n      <th>외국인비율</th>\n      <th>고령자비율</th>\n    </tr>\n  </thead>\n  <tbody>\n    <tr>\n      <th>16</th>\n      <td>강서구</td>\n      <td>603772.0</td>\n      <td>597248.0</td>\n      <td>6524.0</td>\n      <td>72548.0</td>\n      <td>1.080540</td>\n      <td>12.015794</td>\n    </tr>\n    <tr>\n      <th>24</th>\n      <td>송파구</td>\n      <td>667483.0</td>\n      <td>660584.0</td>\n      <td>6899.0</td>\n      <td>72506.0</td>\n      <td>1.033584</td>\n      <td>10.862599</td>\n    </tr>\n    <tr>\n      <th>12</th>\n      <td>은평구</td>\n      <td>494388.0</td>\n      <td>489943.0</td>\n      <td>4445.0</td>\n      <td>72334.0</td>\n      <td>0.899091</td>\n      <td>14.631019</td>\n    </tr>\n    <tr>\n      <th>11</th>\n      <td>노원구</td>\n      <td>569384.0</td>\n      <td>565565.0</td>\n      <td>3819.0</td>\n      <td>71941.0</td>\n      <td>0.670725</td>\n      <td>12.634883</td>\n    </tr>\n    <tr>\n      <th>21</th>\n      <td>관악구</td>\n      <td>525515.0</td>\n      <td>507203.0</td>\n      <td>18312.0</td>\n      <td>68082.0</td>\n      <td>3.484582</td>\n      <td>12.955291</td>\n    </tr>\n  </tbody>\n</table>\n</div>"
     },
     "execution_count": 24,
     "metadata": {},
     "output_type": "execute_result"
    }
   ],
   "source": [
    "pop_seoul.sort_values(by='고령자', ascending=False).head(5)"
   ],
   "metadata": {
    "collapsed": false,
    "pycharm": {
     "name": "#%%\n"
    }
   }
  },
  {
   "cell_type": "code",
   "execution_count": 25,
   "outputs": [
    {
     "data": {
      "text/plain": "      구별        인구       한국인      외국인      고령자     외국인비율      고령자비율\n9    강북구  330192.0  326686.0   3506.0  54813.0  1.061806  16.600342\n1    종로구  162820.0  153589.0   9231.0  25425.0  5.669451  15.615404\n2     중구  133240.0  124312.0   8928.0  20764.0  6.700690  15.583909\n3    용산구  244203.0  229456.0  14747.0  36231.0  6.038828  14.836427\n13  서대문구  327163.0  314982.0  12181.0  48161.0  3.723221  14.720797",
      "text/html": "<div>\n<style scoped>\n    .dataframe tbody tr th:only-of-type {\n        vertical-align: middle;\n    }\n\n    .dataframe tbody tr th {\n        vertical-align: top;\n    }\n\n    .dataframe thead th {\n        text-align: right;\n    }\n</style>\n<table border=\"1\" class=\"dataframe\">\n  <thead>\n    <tr style=\"text-align: right;\">\n      <th></th>\n      <th>구별</th>\n      <th>인구</th>\n      <th>한국인</th>\n      <th>외국인</th>\n      <th>고령자</th>\n      <th>외국인비율</th>\n      <th>고령자비율</th>\n    </tr>\n  </thead>\n  <tbody>\n    <tr>\n      <th>9</th>\n      <td>강북구</td>\n      <td>330192.0</td>\n      <td>326686.0</td>\n      <td>3506.0</td>\n      <td>54813.0</td>\n      <td>1.061806</td>\n      <td>16.600342</td>\n    </tr>\n    <tr>\n      <th>1</th>\n      <td>종로구</td>\n      <td>162820.0</td>\n      <td>153589.0</td>\n      <td>9231.0</td>\n      <td>25425.0</td>\n      <td>5.669451</td>\n      <td>15.615404</td>\n    </tr>\n    <tr>\n      <th>2</th>\n      <td>중구</td>\n      <td>133240.0</td>\n      <td>124312.0</td>\n      <td>8928.0</td>\n      <td>20764.0</td>\n      <td>6.700690</td>\n      <td>15.583909</td>\n    </tr>\n    <tr>\n      <th>3</th>\n      <td>용산구</td>\n      <td>244203.0</td>\n      <td>229456.0</td>\n      <td>14747.0</td>\n      <td>36231.0</td>\n      <td>6.038828</td>\n      <td>14.836427</td>\n    </tr>\n    <tr>\n      <th>13</th>\n      <td>서대문구</td>\n      <td>327163.0</td>\n      <td>314982.0</td>\n      <td>12181.0</td>\n      <td>48161.0</td>\n      <td>3.723221</td>\n      <td>14.720797</td>\n    </tr>\n  </tbody>\n</table>\n</div>"
     },
     "execution_count": 25,
     "metadata": {},
     "output_type": "execute_result"
    }
   ],
   "source": [
    "pop_seoul.sort_values(by='고령자비율', ascending=False).head(5)"
   ],
   "metadata": {
    "collapsed": false,
    "pycharm": {
     "name": "#%%\n"
    }
   }
  },
  {
   "cell_type": "markdown",
   "source": [
    "## 1-6. CCTV 데이터와 인구 현황 데이터를 합치고 분석"
   ],
   "metadata": {
    "collapsed": false
   }
  },
  {
   "cell_type": "code",
   "execution_count": 26,
   "outputs": [
    {
     "data": {
      "text/plain": "    구별    소계  2013년도 이전  2014년  2015년  2016년       최근증가율        인구       한국인  \\\n0  강남구  2780       1292    430    584    932  150.619195  570500.0  565550.0   \n1  강동구   773        379     99    155    377  166.490765  453233.0  449019.0   \n2  강북구   748        369    120    138    204  125.203252  330192.0  326686.0   \n3  강서구   884        388    258    184     81  134.793814  603772.0  597248.0   \n4  관악구  1496        846    260    390    613  149.290780  525515.0  507203.0   \n\n       외국인      고령자     외국인비율      고령자비율  \n0   4950.0  63167.0  0.867660  11.072217  \n1   4214.0  54622.0  0.929765  12.051638  \n2   3506.0  54813.0  1.061806  16.600342  \n3   6524.0  72548.0  1.080540  12.015794  \n4  18312.0  68082.0  3.484582  12.955291  ",
      "text/html": "<div>\n<style scoped>\n    .dataframe tbody tr th:only-of-type {\n        vertical-align: middle;\n    }\n\n    .dataframe tbody tr th {\n        vertical-align: top;\n    }\n\n    .dataframe thead th {\n        text-align: right;\n    }\n</style>\n<table border=\"1\" class=\"dataframe\">\n  <thead>\n    <tr style=\"text-align: right;\">\n      <th></th>\n      <th>구별</th>\n      <th>소계</th>\n      <th>2013년도 이전</th>\n      <th>2014년</th>\n      <th>2015년</th>\n      <th>2016년</th>\n      <th>최근증가율</th>\n      <th>인구</th>\n      <th>한국인</th>\n      <th>외국인</th>\n      <th>고령자</th>\n      <th>외국인비율</th>\n      <th>고령자비율</th>\n    </tr>\n  </thead>\n  <tbody>\n    <tr>\n      <th>0</th>\n      <td>강남구</td>\n      <td>2780</td>\n      <td>1292</td>\n      <td>430</td>\n      <td>584</td>\n      <td>932</td>\n      <td>150.619195</td>\n      <td>570500.0</td>\n      <td>565550.0</td>\n      <td>4950.0</td>\n      <td>63167.0</td>\n      <td>0.867660</td>\n      <td>11.072217</td>\n    </tr>\n    <tr>\n      <th>1</th>\n      <td>강동구</td>\n      <td>773</td>\n      <td>379</td>\n      <td>99</td>\n      <td>155</td>\n      <td>377</td>\n      <td>166.490765</td>\n      <td>453233.0</td>\n      <td>449019.0</td>\n      <td>4214.0</td>\n      <td>54622.0</td>\n      <td>0.929765</td>\n      <td>12.051638</td>\n    </tr>\n    <tr>\n      <th>2</th>\n      <td>강북구</td>\n      <td>748</td>\n      <td>369</td>\n      <td>120</td>\n      <td>138</td>\n      <td>204</td>\n      <td>125.203252</td>\n      <td>330192.0</td>\n      <td>326686.0</td>\n      <td>3506.0</td>\n      <td>54813.0</td>\n      <td>1.061806</td>\n      <td>16.600342</td>\n    </tr>\n    <tr>\n      <th>3</th>\n      <td>강서구</td>\n      <td>884</td>\n      <td>388</td>\n      <td>258</td>\n      <td>184</td>\n      <td>81</td>\n      <td>134.793814</td>\n      <td>603772.0</td>\n      <td>597248.0</td>\n      <td>6524.0</td>\n      <td>72548.0</td>\n      <td>1.080540</td>\n      <td>12.015794</td>\n    </tr>\n    <tr>\n      <th>4</th>\n      <td>관악구</td>\n      <td>1496</td>\n      <td>846</td>\n      <td>260</td>\n      <td>390</td>\n      <td>613</td>\n      <td>149.290780</td>\n      <td>525515.0</td>\n      <td>507203.0</td>\n      <td>18312.0</td>\n      <td>68082.0</td>\n      <td>3.484582</td>\n      <td>12.955291</td>\n    </tr>\n  </tbody>\n</table>\n</div>"
     },
     "execution_count": 26,
     "metadata": {},
     "output_type": "execute_result"
    }
   ],
   "source": [
    "data_result = pd.merge(cctv_seoul, pop_seoul, on='구별')\n",
    "data_result.head()"
   ],
   "metadata": {
    "collapsed": false,
    "pycharm": {
     "name": "#%%\n"
    }
   }
  },
  {
   "cell_type": "markdown",
   "source": [
    "* 행 방향으로 삭제하기 : drop\n",
    "* 열 방향으로 삭제하기 : del"
   ],
   "metadata": {
    "collapsed": false
   }
  },
  {
   "cell_type": "code",
   "execution_count": 27,
   "outputs": [],
   "source": [
    "# 의미 없는 컬럼 지우기\n",
    "del data_result['2013년도 이전']"
   ],
   "metadata": {
    "collapsed": false,
    "pycharm": {
     "name": "#%%\n"
    }
   }
  },
  {
   "cell_type": "code",
   "execution_count": 29,
   "outputs": [],
   "source": [
    "del data_result['2014년']\n",
    "del data_result['2015년']\n",
    "del data_result['2016년']"
   ],
   "metadata": {
    "collapsed": false,
    "pycharm": {
     "name": "#%%\n"
    }
   }
  },
  {
   "cell_type": "code",
   "execution_count": 30,
   "outputs": [
    {
     "data": {
      "text/plain": "    구별    소계       최근증가율        인구       한국인      외국인      고령자     외국인비율  \\\n0  강남구  2780  150.619195  570500.0  565550.0   4950.0  63167.0  0.867660   \n1  강동구   773  166.490765  453233.0  449019.0   4214.0  54622.0  0.929765   \n2  강북구   748  125.203252  330192.0  326686.0   3506.0  54813.0  1.061806   \n3  강서구   884  134.793814  603772.0  597248.0   6524.0  72548.0  1.080540   \n4  관악구  1496  149.290780  525515.0  507203.0  18312.0  68082.0  3.484582   \n\n       고령자비율  \n0  11.072217  \n1  12.051638  \n2  16.600342  \n3  12.015794  \n4  12.955291  ",
      "text/html": "<div>\n<style scoped>\n    .dataframe tbody tr th:only-of-type {\n        vertical-align: middle;\n    }\n\n    .dataframe tbody tr th {\n        vertical-align: top;\n    }\n\n    .dataframe thead th {\n        text-align: right;\n    }\n</style>\n<table border=\"1\" class=\"dataframe\">\n  <thead>\n    <tr style=\"text-align: right;\">\n      <th></th>\n      <th>구별</th>\n      <th>소계</th>\n      <th>최근증가율</th>\n      <th>인구</th>\n      <th>한국인</th>\n      <th>외국인</th>\n      <th>고령자</th>\n      <th>외국인비율</th>\n      <th>고령자비율</th>\n    </tr>\n  </thead>\n  <tbody>\n    <tr>\n      <th>0</th>\n      <td>강남구</td>\n      <td>2780</td>\n      <td>150.619195</td>\n      <td>570500.0</td>\n      <td>565550.0</td>\n      <td>4950.0</td>\n      <td>63167.0</td>\n      <td>0.867660</td>\n      <td>11.072217</td>\n    </tr>\n    <tr>\n      <th>1</th>\n      <td>강동구</td>\n      <td>773</td>\n      <td>166.490765</td>\n      <td>453233.0</td>\n      <td>449019.0</td>\n      <td>4214.0</td>\n      <td>54622.0</td>\n      <td>0.929765</td>\n      <td>12.051638</td>\n    </tr>\n    <tr>\n      <th>2</th>\n      <td>강북구</td>\n      <td>748</td>\n      <td>125.203252</td>\n      <td>330192.0</td>\n      <td>326686.0</td>\n      <td>3506.0</td>\n      <td>54813.0</td>\n      <td>1.061806</td>\n      <td>16.600342</td>\n    </tr>\n    <tr>\n      <th>3</th>\n      <td>강서구</td>\n      <td>884</td>\n      <td>134.793814</td>\n      <td>603772.0</td>\n      <td>597248.0</td>\n      <td>6524.0</td>\n      <td>72548.0</td>\n      <td>1.080540</td>\n      <td>12.015794</td>\n    </tr>\n    <tr>\n      <th>4</th>\n      <td>관악구</td>\n      <td>1496</td>\n      <td>149.290780</td>\n      <td>525515.0</td>\n      <td>507203.0</td>\n      <td>18312.0</td>\n      <td>68082.0</td>\n      <td>3.484582</td>\n      <td>12.955291</td>\n    </tr>\n  </tbody>\n</table>\n</div>"
     },
     "execution_count": 30,
     "metadata": {},
     "output_type": "execute_result"
    }
   ],
   "source": [
    "data_result.head()"
   ],
   "metadata": {
    "collapsed": false,
    "pycharm": {
     "name": "#%%\n"
    }
   }
  },
  {
   "cell_type": "code",
   "execution_count": 31,
   "outputs": [
    {
     "data": {
      "text/plain": "       소계       최근증가율        인구       한국인      외국인      고령자     외국인비율  \\\n구별                                                                      \n강남구  2780  150.619195  570500.0  565550.0   4950.0  63167.0  0.867660   \n강동구   773  166.490765  453233.0  449019.0   4214.0  54622.0  0.929765   \n강북구   748  125.203252  330192.0  326686.0   3506.0  54813.0  1.061806   \n강서구   884  134.793814  603772.0  597248.0   6524.0  72548.0  1.080540   \n관악구  1496  149.290780  525515.0  507203.0  18312.0  68082.0  3.484582   \n\n         고령자비율  \n구별              \n강남구  11.072217  \n강동구  12.051638  \n강북구  16.600342  \n강서구  12.015794  \n관악구  12.955291  ",
      "text/html": "<div>\n<style scoped>\n    .dataframe tbody tr th:only-of-type {\n        vertical-align: middle;\n    }\n\n    .dataframe tbody tr th {\n        vertical-align: top;\n    }\n\n    .dataframe thead th {\n        text-align: right;\n    }\n</style>\n<table border=\"1\" class=\"dataframe\">\n  <thead>\n    <tr style=\"text-align: right;\">\n      <th></th>\n      <th>소계</th>\n      <th>최근증가율</th>\n      <th>인구</th>\n      <th>한국인</th>\n      <th>외국인</th>\n      <th>고령자</th>\n      <th>외국인비율</th>\n      <th>고령자비율</th>\n    </tr>\n    <tr>\n      <th>구별</th>\n      <th></th>\n      <th></th>\n      <th></th>\n      <th></th>\n      <th></th>\n      <th></th>\n      <th></th>\n      <th></th>\n    </tr>\n  </thead>\n  <tbody>\n    <tr>\n      <th>강남구</th>\n      <td>2780</td>\n      <td>150.619195</td>\n      <td>570500.0</td>\n      <td>565550.0</td>\n      <td>4950.0</td>\n      <td>63167.0</td>\n      <td>0.867660</td>\n      <td>11.072217</td>\n    </tr>\n    <tr>\n      <th>강동구</th>\n      <td>773</td>\n      <td>166.490765</td>\n      <td>453233.0</td>\n      <td>449019.0</td>\n      <td>4214.0</td>\n      <td>54622.0</td>\n      <td>0.929765</td>\n      <td>12.051638</td>\n    </tr>\n    <tr>\n      <th>강북구</th>\n      <td>748</td>\n      <td>125.203252</td>\n      <td>330192.0</td>\n      <td>326686.0</td>\n      <td>3506.0</td>\n      <td>54813.0</td>\n      <td>1.061806</td>\n      <td>16.600342</td>\n    </tr>\n    <tr>\n      <th>강서구</th>\n      <td>884</td>\n      <td>134.793814</td>\n      <td>603772.0</td>\n      <td>597248.0</td>\n      <td>6524.0</td>\n      <td>72548.0</td>\n      <td>1.080540</td>\n      <td>12.015794</td>\n    </tr>\n    <tr>\n      <th>관악구</th>\n      <td>1496</td>\n      <td>149.290780</td>\n      <td>525515.0</td>\n      <td>507203.0</td>\n      <td>18312.0</td>\n      <td>68082.0</td>\n      <td>3.484582</td>\n      <td>12.955291</td>\n    </tr>\n  </tbody>\n</table>\n</div>"
     },
     "execution_count": 31,
     "metadata": {},
     "output_type": "execute_result"
    }
   ],
   "source": [
    "data_result.set_index('구별', inplace=True)\n",
    "data_result.head()"
   ],
   "metadata": {
    "collapsed": false,
    "pycharm": {
     "name": "#%%\n"
    }
   }
  },
  {
   "cell_type": "markdown",
   "source": [
    "* 상관계수의 절대값이 클수록 두 데이터는 관계가 있다고 볼 수 있음\n",
    "* 상관분석 문서에는 상관계수의 절대값이 0.1 이하면 거의 무시, 0.3 이하면 약한 상관관계, 0.7 이하면 뚜렷한 상관관계라 함\n",
    "* numpy의 corrcoef 명령을 사용하면 됨"
   ],
   "metadata": {
    "collapsed": false
   }
  },
  {
   "cell_type": "code",
   "execution_count": 33,
   "outputs": [],
   "source": [
    "import numpy as np"
   ],
   "metadata": {
    "collapsed": false,
    "pycharm": {
     "name": "#%%\n"
    }
   }
  },
  {
   "cell_type": "code",
   "execution_count": 34,
   "outputs": [
    {
     "data": {
      "text/plain": "array([[ 1.        , -0.28078554],\n       [-0.28078554,  1.        ]])"
     },
     "execution_count": 34,
     "metadata": {},
     "output_type": "execute_result"
    }
   ],
   "source": [
    "np.corrcoef(data_result['고령자비율'], data_result['소계'])"
   ],
   "metadata": {
    "collapsed": false,
    "pycharm": {
     "name": "#%%\n"
    }
   }
  },
  {
   "cell_type": "code",
   "execution_count": 35,
   "outputs": [
    {
     "data": {
      "text/plain": "array([[ 1.        , -0.13607433],\n       [-0.13607433,  1.        ]])"
     },
     "execution_count": 35,
     "metadata": {},
     "output_type": "execute_result"
    }
   ],
   "source": [
    "np.corrcoef(data_result['외국인비율'], data_result['소계'])"
   ],
   "metadata": {
    "collapsed": false,
    "pycharm": {
     "name": "#%%\n"
    }
   }
  },
  {
   "cell_type": "code",
   "execution_count": 37,
   "outputs": [
    {
     "data": {
      "text/plain": "array([[1.        , 0.30634228],\n       [0.30634228, 1.        ]])"
     },
     "execution_count": 37,
     "metadata": {},
     "output_type": "execute_result"
    }
   ],
   "source": [
    "np.corrcoef(data_result['인구'], data_result['소계'])"
   ],
   "metadata": {
    "collapsed": false,
    "pycharm": {
     "name": "#%%\n"
    }
   }
  },
  {
   "cell_type": "markdown",
   "source": [
    "* CCTV 개수와 고령자비율은 약한 음의 상관관계이고, 외국인비율과는 큰 의미가 없음\n",
    "* 인구와의 상관계수는 0.3으로 약한 상관관계가 있다고 볼 수 있음"
   ],
   "metadata": {
    "collapsed": false
   }
  },
  {
   "cell_type": "code",
   "execution_count": 38,
   "outputs": [
    {
     "data": {
      "text/plain": "       소계       최근증가율        인구       한국인      외국인      고령자     외국인비율  \\\n구별                                                                      \n강남구  2780  150.619195  570500.0  565550.0   4950.0  63167.0  0.867660   \n양천구  2034   34.671731  479978.0  475949.0   4029.0  52975.0  0.839413   \n서초구  1930   63.371266  450310.0  445994.0   4316.0  51733.0  0.958451   \n은평구  1873   85.237258  494388.0  489943.0   4445.0  72334.0  0.899091   \n용산구  1624   53.216374  244203.0  229456.0  14747.0  36231.0  6.038828   \n\n         고령자비율  \n구별              \n강남구  11.072217  \n양천구  11.036964  \n서초구  11.488308  \n은평구  14.631019  \n용산구  14.836427  ",
      "text/html": "<div>\n<style scoped>\n    .dataframe tbody tr th:only-of-type {\n        vertical-align: middle;\n    }\n\n    .dataframe tbody tr th {\n        vertical-align: top;\n    }\n\n    .dataframe thead th {\n        text-align: right;\n    }\n</style>\n<table border=\"1\" class=\"dataframe\">\n  <thead>\n    <tr style=\"text-align: right;\">\n      <th></th>\n      <th>소계</th>\n      <th>최근증가율</th>\n      <th>인구</th>\n      <th>한국인</th>\n      <th>외국인</th>\n      <th>고령자</th>\n      <th>외국인비율</th>\n      <th>고령자비율</th>\n    </tr>\n    <tr>\n      <th>구별</th>\n      <th></th>\n      <th></th>\n      <th></th>\n      <th></th>\n      <th></th>\n      <th></th>\n      <th></th>\n      <th></th>\n    </tr>\n  </thead>\n  <tbody>\n    <tr>\n      <th>강남구</th>\n      <td>2780</td>\n      <td>150.619195</td>\n      <td>570500.0</td>\n      <td>565550.0</td>\n      <td>4950.0</td>\n      <td>63167.0</td>\n      <td>0.867660</td>\n      <td>11.072217</td>\n    </tr>\n    <tr>\n      <th>양천구</th>\n      <td>2034</td>\n      <td>34.671731</td>\n      <td>479978.0</td>\n      <td>475949.0</td>\n      <td>4029.0</td>\n      <td>52975.0</td>\n      <td>0.839413</td>\n      <td>11.036964</td>\n    </tr>\n    <tr>\n      <th>서초구</th>\n      <td>1930</td>\n      <td>63.371266</td>\n      <td>450310.0</td>\n      <td>445994.0</td>\n      <td>4316.0</td>\n      <td>51733.0</td>\n      <td>0.958451</td>\n      <td>11.488308</td>\n    </tr>\n    <tr>\n      <th>은평구</th>\n      <td>1873</td>\n      <td>85.237258</td>\n      <td>494388.0</td>\n      <td>489943.0</td>\n      <td>4445.0</td>\n      <td>72334.0</td>\n      <td>0.899091</td>\n      <td>14.631019</td>\n    </tr>\n    <tr>\n      <th>용산구</th>\n      <td>1624</td>\n      <td>53.216374</td>\n      <td>244203.0</td>\n      <td>229456.0</td>\n      <td>14747.0</td>\n      <td>36231.0</td>\n      <td>6.038828</td>\n      <td>14.836427</td>\n    </tr>\n  </tbody>\n</table>\n</div>"
     },
     "execution_count": 38,
     "metadata": {},
     "output_type": "execute_result"
    }
   ],
   "source": [
    "data_result.sort_values(by='소계', ascending=False).head(5)"
   ],
   "metadata": {
    "collapsed": false,
    "pycharm": {
     "name": "#%%\n"
    }
   }
  },
  {
   "cell_type": "code",
   "execution_count": 39,
   "outputs": [
    {
     "data": {
      "text/plain": "       소계       최근증가율        인구       한국인      외국인      고령자     외국인비율  \\\n구별                                                                      \n송파구   618  104.347826  667483.0  660584.0   6899.0  72506.0  1.033584   \n강서구   884  134.793814  603772.0  597248.0   6524.0  72548.0  1.080540   \n강남구  2780  150.619195  570500.0  565550.0   4950.0  63167.0  0.867660   \n노원구  1265  188.929889  569384.0  565565.0   3819.0  71941.0  0.670725   \n관악구  1496  149.290780  525515.0  507203.0  18312.0  68082.0  3.484582   \n\n         고령자비율  \n구별              \n송파구  10.862599  \n강서구  12.015794  \n강남구  11.072217  \n노원구  12.634883  \n관악구  12.955291  ",
      "text/html": "<div>\n<style scoped>\n    .dataframe tbody tr th:only-of-type {\n        vertical-align: middle;\n    }\n\n    .dataframe tbody tr th {\n        vertical-align: top;\n    }\n\n    .dataframe thead th {\n        text-align: right;\n    }\n</style>\n<table border=\"1\" class=\"dataframe\">\n  <thead>\n    <tr style=\"text-align: right;\">\n      <th></th>\n      <th>소계</th>\n      <th>최근증가율</th>\n      <th>인구</th>\n      <th>한국인</th>\n      <th>외국인</th>\n      <th>고령자</th>\n      <th>외국인비율</th>\n      <th>고령자비율</th>\n    </tr>\n    <tr>\n      <th>구별</th>\n      <th></th>\n      <th></th>\n      <th></th>\n      <th></th>\n      <th></th>\n      <th></th>\n      <th></th>\n      <th></th>\n    </tr>\n  </thead>\n  <tbody>\n    <tr>\n      <th>송파구</th>\n      <td>618</td>\n      <td>104.347826</td>\n      <td>667483.0</td>\n      <td>660584.0</td>\n      <td>6899.0</td>\n      <td>72506.0</td>\n      <td>1.033584</td>\n      <td>10.862599</td>\n    </tr>\n    <tr>\n      <th>강서구</th>\n      <td>884</td>\n      <td>134.793814</td>\n      <td>603772.0</td>\n      <td>597248.0</td>\n      <td>6524.0</td>\n      <td>72548.0</td>\n      <td>1.080540</td>\n      <td>12.015794</td>\n    </tr>\n    <tr>\n      <th>강남구</th>\n      <td>2780</td>\n      <td>150.619195</td>\n      <td>570500.0</td>\n      <td>565550.0</td>\n      <td>4950.0</td>\n      <td>63167.0</td>\n      <td>0.867660</td>\n      <td>11.072217</td>\n    </tr>\n    <tr>\n      <th>노원구</th>\n      <td>1265</td>\n      <td>188.929889</td>\n      <td>569384.0</td>\n      <td>565565.0</td>\n      <td>3819.0</td>\n      <td>71941.0</td>\n      <td>0.670725</td>\n      <td>12.634883</td>\n    </tr>\n    <tr>\n      <th>관악구</th>\n      <td>1496</td>\n      <td>149.290780</td>\n      <td>525515.0</td>\n      <td>507203.0</td>\n      <td>18312.0</td>\n      <td>68082.0</td>\n      <td>3.484582</td>\n      <td>12.955291</td>\n    </tr>\n  </tbody>\n</table>\n</div>"
     },
     "execution_count": 39,
     "metadata": {},
     "output_type": "execute_result"
    }
   ],
   "source": [
    "data_result.sort_values(by='인구', ascending=False).head(5)"
   ],
   "metadata": {
    "collapsed": false,
    "pycharm": {
     "name": "#%%\n"
    }
   }
  },
  {
   "cell_type": "markdown",
   "source": [
    "## 1-8. CCTV 현황 그래프로 분석하기d"
   ],
   "metadata": {
    "collapsed": false
   }
  },
  {
   "cell_type": "markdown",
   "source": [
    "* %matplotlib inline : 그래프의 결과를 출력 세션에 나타나게 하는 설정"
   ],
   "metadata": {
    "collapsed": false
   }
  },
  {
   "cell_type": "code",
   "execution_count": 40,
   "outputs": [],
   "source": [
    "import matplotlib.pyplot as plt\n",
    "%matplotlib inline"
   ],
   "metadata": {
    "collapsed": false,
    "pycharm": {
     "name": "#%%\n"
    }
   }
  },
  {
   "cell_type": "code",
   "execution_count": 1,
   "outputs": [
    {
     "ename": "NameError",
     "evalue": "name 'plt' is not defined",
     "output_type": "error",
     "traceback": [
      "\u001B[0;31m---------------------------------------------------------------------------\u001B[0m",
      "\u001B[0;31mNameError\u001B[0m                                 Traceback (most recent call last)",
      "\u001B[0;32m/var/folders/_p/x_57820s1b15kl1dk8sw72kc0000gn/T/ipykernel_12209/3660627926.py\u001B[0m in \u001B[0;36m<module>\u001B[0;34m\u001B[0m\n\u001B[1;32m      2\u001B[0m \u001B[0;34m\u001B[0m\u001B[0m\n\u001B[1;32m      3\u001B[0m \u001B[0;32mfrom\u001B[0m \u001B[0mmatplotlib\u001B[0m \u001B[0;32mimport\u001B[0m \u001B[0mfont_manager\u001B[0m\u001B[0;34m,\u001B[0m \u001B[0mrc\u001B[0m\u001B[0;34m\u001B[0m\u001B[0;34m\u001B[0m\u001B[0m\n\u001B[0;32m----> 4\u001B[0;31m \u001B[0mplt\u001B[0m\u001B[0;34m.\u001B[0m\u001B[0mrcParams\u001B[0m\u001B[0;34m[\u001B[0m\u001B[0;34m'axes.unicode_minus'\u001B[0m\u001B[0;34m]\u001B[0m \u001B[0;34m=\u001B[0m \u001B[0;32mFalse\u001B[0m\u001B[0;34m\u001B[0m\u001B[0;34m\u001B[0m\u001B[0m\n\u001B[0m\u001B[1;32m      5\u001B[0m \u001B[0;34m\u001B[0m\u001B[0m\n\u001B[1;32m      6\u001B[0m \u001B[0;32mif\u001B[0m \u001B[0mplatform\u001B[0m\u001B[0;34m.\u001B[0m\u001B[0msystem\u001B[0m\u001B[0;34m(\u001B[0m\u001B[0;34m)\u001B[0m \u001B[0;34m==\u001B[0m \u001B[0;34m'Darwin'\u001B[0m\u001B[0;34m:\u001B[0m\u001B[0;34m\u001B[0m\u001B[0;34m\u001B[0m\u001B[0m\n",
      "\u001B[0;31mNameError\u001B[0m: name 'plt' is not defined"
     ]
    }
   ],
   "source": [
    "import platform\n",
    "\n",
    "from matplotlib import font_manager, rc\n",
    "plt.rcParams['axes.unicode_minus'] = False\n",
    "\n",
    "if platform.system() == 'Darwin':\n",
    "    rc('font', family='AppleGothic')\n",
    "elif platform.system() == 'Windows':\n",
    "    path = 'c:/Windows/Fonts/malgun.ttf'\n",
    "    font_name = font_manager.FontProperties(fname=path).get_name()\n",
    "    rc('font', family=font_name)\n",
    "else:\n",
    "    print('Unknown System...Sorry!')"
   ],
   "metadata": {
    "collapsed": false,
    "pycharm": {
     "name": "#%%\n"
    }
   }
  },
  {
   "cell_type": "code",
   "execution_count": 42,
   "outputs": [
    {
     "data": {
      "text/plain": "       소계       최근증가율        인구       한국인      외국인      고령자     외국인비율  \\\n구별                                                                      \n강남구  2780  150.619195  570500.0  565550.0   4950.0  63167.0  0.867660   \n강동구   773  166.490765  453233.0  449019.0   4214.0  54622.0  0.929765   \n강북구   748  125.203252  330192.0  326686.0   3506.0  54813.0  1.061806   \n강서구   884  134.793814  603772.0  597248.0   6524.0  72548.0  1.080540   \n관악구  1496  149.290780  525515.0  507203.0  18312.0  68082.0  3.484582   \n\n         고령자비율  \n구별              \n강남구  11.072217  \n강동구  12.051638  \n강북구  16.600342  \n강서구  12.015794  \n관악구  12.955291  ",
      "text/html": "<div>\n<style scoped>\n    .dataframe tbody tr th:only-of-type {\n        vertical-align: middle;\n    }\n\n    .dataframe tbody tr th {\n        vertical-align: top;\n    }\n\n    .dataframe thead th {\n        text-align: right;\n    }\n</style>\n<table border=\"1\" class=\"dataframe\">\n  <thead>\n    <tr style=\"text-align: right;\">\n      <th></th>\n      <th>소계</th>\n      <th>최근증가율</th>\n      <th>인구</th>\n      <th>한국인</th>\n      <th>외국인</th>\n      <th>고령자</th>\n      <th>외국인비율</th>\n      <th>고령자비율</th>\n    </tr>\n    <tr>\n      <th>구별</th>\n      <th></th>\n      <th></th>\n      <th></th>\n      <th></th>\n      <th></th>\n      <th></th>\n      <th></th>\n      <th></th>\n    </tr>\n  </thead>\n  <tbody>\n    <tr>\n      <th>강남구</th>\n      <td>2780</td>\n      <td>150.619195</td>\n      <td>570500.0</td>\n      <td>565550.0</td>\n      <td>4950.0</td>\n      <td>63167.0</td>\n      <td>0.867660</td>\n      <td>11.072217</td>\n    </tr>\n    <tr>\n      <th>강동구</th>\n      <td>773</td>\n      <td>166.490765</td>\n      <td>453233.0</td>\n      <td>449019.0</td>\n      <td>4214.0</td>\n      <td>54622.0</td>\n      <td>0.929765</td>\n      <td>12.051638</td>\n    </tr>\n    <tr>\n      <th>강북구</th>\n      <td>748</td>\n      <td>125.203252</td>\n      <td>330192.0</td>\n      <td>326686.0</td>\n      <td>3506.0</td>\n      <td>54813.0</td>\n      <td>1.061806</td>\n      <td>16.600342</td>\n    </tr>\n    <tr>\n      <th>강서구</th>\n      <td>884</td>\n      <td>134.793814</td>\n      <td>603772.0</td>\n      <td>597248.0</td>\n      <td>6524.0</td>\n      <td>72548.0</td>\n      <td>1.080540</td>\n      <td>12.015794</td>\n    </tr>\n    <tr>\n      <th>관악구</th>\n      <td>1496</td>\n      <td>149.290780</td>\n      <td>525515.0</td>\n      <td>507203.0</td>\n      <td>18312.0</td>\n      <td>68082.0</td>\n      <td>3.484582</td>\n      <td>12.955291</td>\n    </tr>\n  </tbody>\n</table>\n</div>"
     },
     "execution_count": 42,
     "metadata": {},
     "output_type": "execute_result"
    }
   ],
   "source": [
    "data_result.head()"
   ],
   "metadata": {
    "collapsed": false,
    "pycharm": {
     "name": "#%%\n"
    }
   }
  },
  {
   "cell_type": "markdown",
   "source": [
    "* barh : 수평 바 그래프 그리기\n",
    "* grid=True : 격자 무늬 그리기\n",
    "* figsize를 정했어도 표현되는 곳이 웹 브라우저이므로 항상 그 크기를 유지하는 것은 아닐 수 있음"
   ],
   "metadata": {
    "collapsed": false
   }
  },
  {
   "cell_type": "code",
   "execution_count": 43,
   "outputs": [
    {
     "data": {
      "text/plain": "<Figure size 720x720 with 1 Axes>",
      "image/png": "[encoded data removed]"
     },
     "metadata": {
      "needs_background": "light"
     },
     "output_type": "display_data"
    }
   ],
   "source": [
    "data_result['소계'].plot(kind='barh', grid=True, figsize=(10, 10))\n",
    "plt.show()"
   ],
   "metadata": {
    "collapsed": false,
    "pycharm": {
     "name": "#%%\n"
    }
   }
  },
  {
   "cell_type": "code",
   "execution_count": 44,
   "outputs": [
    {
     "data": {
      "text/plain": "<Figure size 720x720 with 1 Axes>",
      "image/png": "[encoded data removed]"
     },
     "metadata": {
      "needs_background": "light"
     },
     "output_type": "display_data"
    }
   ],
   "source": [
    "data_result['소계'].sort_values().plot(kind='barh', grid=True, figsize=(10, 10))\n",
    "plt.show()"
   ],
   "metadata": {
    "collapsed": false,
    "pycharm": {
     "name": "#%%\n"
    }
   }
  },
  {
   "cell_type": "markdown",
   "source": [
    "* cctv 개수는 강남구가 월등\n",
    "* 그 뒤를 이어 양천구, 서초구, 은평구가 꽤 많은 cctv가 설최됨을 알 수 있음"
   ],
   "metadata": {
    "collapsed": false
   }
  },
  {
   "cell_type": "code",
   "execution_count": 45,
   "outputs": [
    {
     "data": {
      "text/plain": "<Figure size 720x720 with 1 Axes>",
      "image/png": "[encoded data removed]"
     },
     "metadata": {
      "needs_background": "light"
     },
     "output_type": "display_data"
    }
   ],
   "source": [
    "data_result['CCTV비율'] = data_result['소계'] / data_result['인구'] * 100\n",
    "data_result['CCTV비율'].sort_values().plot(kind='barh', grid=True, figsize=(10, 10))\n",
    "plt.show()"
   ],
   "metadata": {
    "collapsed": false,
    "pycharm": {
     "name": "#%%\n"
    }
   }
  },
  {
   "cell_type": "markdown",
   "source": [
    "* 인구 대비 cctv 수를 보니 용산구와 종로구가 월등히 높음\n",
    "* 그에 비해 송파구는 인구 대비 cctv 비율이 낮음"
   ],
   "metadata": {
    "collapsed": false
   }
  },
  {
   "cell_type": "code",
   "execution_count": 46,
   "outputs": [
    {
     "data": {
      "text/plain": "<Figure size 432x432 with 1 Axes>",
      "image/png": "[encoded data removed]"
     },
     "metadata": {
      "needs_background": "light"
     },
     "output_type": "display_data"
    }
   ],
   "source": [
    "plt.figure(figsize=(6, 6))\n",
    "plt.scatter(data_result['인구'], data_result['소계'], s=50) # s : 마커의 크기\n",
    "plt.xlabel('인구 수')\n",
    "plt.ylabel('CCTV')\n",
    "plt.grid()\n",
    "plt.show()"
   ],
   "metadata": {
    "collapsed": false,
    "pycharm": {
     "name": "#%%\n"
    }
   }
  },
  {
   "cell_type": "markdown",
   "source": [
    "* numpy의 polyfit 명령으로 손쉽게 직선을 만들 수 있음"
   ],
   "metadata": {
    "collapsed": false
   }
  },
  {
   "cell_type": "code",
   "execution_count": 47,
   "outputs": [
    {
     "data": {
      "text/plain": "array([1.30916415e-03, 6.45066497e+02])"
     },
     "execution_count": 47,
     "metadata": {},
     "output_type": "execute_result"
    }
   ],
   "source": [
    "fp1 = np.polyfit(data_result['인구'], data_result['소계'], 1)\n",
    "fp1"
   ],
   "metadata": {
    "collapsed": false,
    "pycharm": {
     "name": "#%%\n"
    }
   }
  },
  {
   "cell_type": "code",
   "execution_count": 50,
   "outputs": [],
   "source": [
    "f1 = np.poly1d(fp1)\n",
    "fx = np.linspace(100000, 700000, 100)"
   ],
   "metadata": {
    "collapsed": false,
    "pycharm": {
     "name": "#%%\n"
    }
   }
  },
  {
   "cell_type": "code",
   "execution_count": 51,
   "outputs": [
    {
     "data": {
      "text/plain": "<Figure size 720x720 with 1 Axes>",
      "image/png": "[encoded data removed]"
     },
     "metadata": {
      "needs_background": "light"
     },
     "output_type": "display_data"
    }
   ],
   "source": [
    "plt.figure(figsize=(10, 10))\n",
    "plt.scatter(data_result['인구'], data_result['소계'], s=50)\n",
    "plt.plot(fx, f1(fx), ls='dashed', lw=3, color='g')\n",
    "plt.xlabel('인구 수')\n",
    "plt.ylabel('CCTV')\n",
    "plt.grid()\n",
    "plt.show()"
   ],
   "metadata": {
    "collapsed": false,
    "pycharm": {
     "name": "#%%\n"
    }
   }
  },
  {
   "cell_type": "markdown",
   "source": [
    "* 오차를 계산할 수 있는 코드를 만들고 오차가 큰 순으로 데이터를 정렬해서 다시 저장하기"
   ],
   "metadata": {
    "collapsed": false
   }
  },
  {
   "cell_type": "code",
   "execution_count": 52,
   "outputs": [
    {
     "data": {
      "text/plain": "       소계       최근증가율        인구       한국인      외국인      고령자     외국인비율  \\\n구별                                                                      \n강남구  2780  150.619195  570500.0  565550.0   4950.0  63167.0  0.867660   \n송파구   618  104.347826  667483.0  660584.0   6899.0  72506.0  1.033584   \n양천구  2034   34.671731  479978.0  475949.0   4029.0  52975.0  0.839413   \n서초구  1930   63.371266  450310.0  445994.0   4316.0  51733.0  0.958451   \n용산구  1624   53.216374  244203.0  229456.0  14747.0  36231.0  6.038828   \n\n         고령자비율    CCTV비율           오차  \n구별                                     \n강남구  11.072217  0.487292  1388.055355  \n송파구  10.862599  0.092587   900.911312  \n양천구  11.036964  0.423769   760.563512  \n서초구  11.488308  0.428594   695.403794  \n용산구  14.836427  0.665020   659.231690  ",
      "text/html": "<div>\n<style scoped>\n    .dataframe tbody tr th:only-of-type {\n        vertical-align: middle;\n    }\n\n    .dataframe tbody tr th {\n        vertical-align: top;\n    }\n\n    .dataframe thead th {\n        text-align: right;\n    }\n</style>\n<table border=\"1\" class=\"dataframe\">\n  <thead>\n    <tr style=\"text-align: right;\">\n      <th></th>\n      <th>소계</th>\n      <th>최근증가율</th>\n      <th>인구</th>\n      <th>한국인</th>\n      <th>외국인</th>\n      <th>고령자</th>\n      <th>외국인비율</th>\n      <th>고령자비율</th>\n      <th>CCTV비율</th>\n      <th>오차</th>\n    </tr>\n    <tr>\n      <th>구별</th>\n      <th></th>\n      <th></th>\n      <th></th>\n      <th></th>\n      <th></th>\n      <th></th>\n      <th></th>\n      <th></th>\n      <th></th>\n      <th></th>\n    </tr>\n  </thead>\n  <tbody>\n    <tr>\n      <th>강남구</th>\n      <td>2780</td>\n      <td>150.619195</td>\n      <td>570500.0</td>\n      <td>565550.0</td>\n      <td>4950.0</td>\n      <td>63167.0</td>\n      <td>0.867660</td>\n      <td>11.072217</td>\n      <td>0.487292</td>\n      <td>1388.055355</td>\n    </tr>\n    <tr>\n      <th>송파구</th>\n      <td>618</td>\n      <td>104.347826</td>\n      <td>667483.0</td>\n      <td>660584.0</td>\n      <td>6899.0</td>\n      <td>72506.0</td>\n      <td>1.033584</td>\n      <td>10.862599</td>\n      <td>0.092587</td>\n      <td>900.911312</td>\n    </tr>\n    <tr>\n      <th>양천구</th>\n      <td>2034</td>\n      <td>34.671731</td>\n      <td>479978.0</td>\n      <td>475949.0</td>\n      <td>4029.0</td>\n      <td>52975.0</td>\n      <td>0.839413</td>\n      <td>11.036964</td>\n      <td>0.423769</td>\n      <td>760.563512</td>\n    </tr>\n    <tr>\n      <th>서초구</th>\n      <td>1930</td>\n      <td>63.371266</td>\n      <td>450310.0</td>\n      <td>445994.0</td>\n      <td>4316.0</td>\n      <td>51733.0</td>\n      <td>0.958451</td>\n      <td>11.488308</td>\n      <td>0.428594</td>\n      <td>695.403794</td>\n    </tr>\n    <tr>\n      <th>용산구</th>\n      <td>1624</td>\n      <td>53.216374</td>\n      <td>244203.0</td>\n      <td>229456.0</td>\n      <td>14747.0</td>\n      <td>36231.0</td>\n      <td>6.038828</td>\n      <td>14.836427</td>\n      <td>0.665020</td>\n      <td>659.231690</td>\n    </tr>\n  </tbody>\n</table>\n</div>"
     },
     "execution_count": 52,
     "metadata": {},
     "output_type": "execute_result"
    }
   ],
   "source": [
    "fp1 = np.polyfit(data_result['인구'], data_result['소계'], 1)\n",
    "\n",
    "f1 = np.poly1d(fp1)\n",
    "fx = np.linspace(100000, 700000, 100)\n",
    "\n",
    "data_result['오차'] = np.abs(data_result['소계'] - f1(data_result['인구']))\n",
    "\n",
    "df_sort = data_result.sort_values(by='오차', ascending=False)\n",
    "df_sort.head()"
   ],
   "metadata": {
    "collapsed": false,
    "pycharm": {
     "name": "#%%\n"
    }
   }
  },
  {
   "cell_type": "code",
   "execution_count": 53,
   "outputs": [
    {
     "data": {
      "text/plain": "<Figure size 1008x720 with 2 Axes>",
      "image/png": "[encoded data removed]"
     },
     "metadata": {
      "needs_background": "light"
     },
     "output_type": "display_data"
    }
   ],
   "source": [
    "plt.figure(figsize=(14, 10))\n",
    "plt.scatter(data_result['인구'], data_result['소계'], c=data_result['오차'], s=50)\n",
    "plt.plot(fx, f1(fx), ls='dashed', lw=3, color='g')\n",
    "\n",
    "for n in range(10):\n",
    "    plt.text(df_sort['인구'][n] * 1.02, df_sort['소계'][n] * 0.98, df_sort.index[n], fontsize=15)\n",
    "\n",
    "plt.xlabel('인구 수')\n",
    "plt.ylabel('인구당비율')\n",
    "\n",
    "plt.colorbar()\n",
    "plt.grid()\n",
    "plt.show()"
   ],
   "metadata": {
    "collapsed": false,
    "pycharm": {
     "name": "#%%\n"
    }
   }
  },
  {
   "cell_type": "markdown",
   "source": [
    "* 직선을 기준으로 위에 있는 강남구, 양천구, 서초구, 은평구, 용산구는 서울시 전체 지역의 일반적인 경향보다 CCTV가 많이 설치된 지역임\n",
    "* 송파구, 도봉구, 강서구, 마포구, 중랑구는 일반적인 경향보다 cctv가 적게 설치된 지역"
   ],
   "metadata": {
    "collapsed": false
   }
  }
 ],
 "metadata": {
  "kernelspec": {
   "display_name": "Python 3",
   "language": "python",
   "name": "python3"
  },
  "language_info": {
   "codemirror_mode": {
    "name": "ipython",
    "version": 2
   },
   "file_extension": ".py",
   "mimetype": "text/x-python",
   "name": "python",
   "nbconvert_exporter": "python",
   "pygments_lexer": "ipython2",
   "version": "2.7.6"
  }
 },
 "nbformat": 4,
 "nbformat_minor": 0
}